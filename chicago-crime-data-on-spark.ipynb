{
 "cells": [
  {
   "cell_type": "markdown",
   "metadata": {},
   "source": [
    "# Chicago crime dataset analysis\n",
    "---\n",
    "\n",
    "This notebook is a Spark and Python learner's to perform data analysis on some real-world data set.\n",
    "\n",
    "In this notebook,we will make use of Spark, Pandas, Matplotlib, Seaborn\n",
    "\n",
    " * Perform data reading, transforming, and querying using Apache Spark\n",
    " * Visualize using existing Python libraries.\n",
    " * Where interoperation between Spark and Matplotlib is a hindrance, we will make use os Pandas and Numpy.\n",
    " "
   ]
  },
  {
   "cell_type": "markdown",
   "metadata": {},
   "source": [
    "---\n",
    "\n",
    "# How to run this and what to run it on?\n",
    "\n",
    "---\n",
    "\n",
    "I wrote this on Apache Spark 2.3.0. The entire notebook was executed on a single machine using the `pyspark` shell without problems.\n",
    "\n",
    "Here are some important parameters:\n",
    "\n",
    " * Executor count: 4\n",
    " * Executor Memory: 4G\n",
    " * Driver Memory: 8G\n",
    " \n",
    "This may not be necessary, but some data frames are being cached and performance degrades remarkably when the percentage of cached RDDs drops.\n",
    "\n",
    "So, the command with which the notebook was launched is:\n",
    "\n",
    "```\n",
    "pyspark --driver-memory 8g --executor-memory 4g --master local[4]\n",
    "```"
   ]
  },
  {
   "cell_type": "markdown",
   "metadata": {},
   "source": [
    "---\n",
    "\n",
    "## Get Imports out of the way\n",
    "\n"
   ]
  },
  {
   "cell_type": "markdown",
   "metadata": {},
   "source": [
    "Spark imports"
   ]
  },
  {
   "cell_type": "code",
   "execution_count": 1,
   "metadata": {},
   "outputs": [],
   "source": [
    "## spark imports\n",
    "from pyspark.sql import Row, SparkSession\n",
    "from pyspark.sql.functions import *"
   ]
  },
  {
   "cell_type": "markdown",
   "metadata": {},
   "source": [
    "Standard python data analysis imports"
   ]
  },
  {
   "cell_type": "code",
   "execution_count": 7,
   "metadata": {},
   "outputs": [],
   "source": [
    "## standard imports\n",
    "import numpy as np\n",
    "import pandas as pd\n",
    "import seaborn as sns\n",
    "import matplotlib.pyplot as plt"
   ]
  },
  {
   "cell_type": "markdown",
   "metadata": {},
   "source": [
    "Jupyter visualization options"
   ]
  },
  {
   "cell_type": "code",
   "execution_count": 8,
   "metadata": {},
   "outputs": [],
   "source": [
    "%matplotlib inline\n",
    "sns.set_color_codes(\"pastel\")\n",
    "plt.rcParams[\"figure.figsize\"] = [20, 8]"
   ]
  },
  {
   "cell_type": "markdown",
   "metadata": {},
   "source": [
    "---\n",
    "## Dataset information\n",
    "\n",
    "First, clean the headers. This is just for nice presentation of headers. Having valid data frame field names that conform to Python identifier rules is good. I personally prefer that as it's always helpful to use the dot notation in many places.\n",
    "\n",
    "These are the column names, as pulled from the Kaggle dataset page [here](https://www.kaggle.com/djonafegnem/chicago-crime-data-analysis)"
   ]
  },
  {
   "cell_type": "code",
   "execution_count": 9,
   "metadata": {},
   "outputs": [],
   "source": [
    "content_cols = '''\n",
    "ID - Unique identifier for the record.\n",
    "Case Number - The Chicago Police Department RD Number (Records Division Number), which is unique to the incident.\n",
    "Date - Date when the incident occurred. this is sometimes a best estimate.\n",
    "Block - The partially redacted address where the incident occurred, placing it on the same block as the actual address.\n",
    "IUCR - The Illinois Unifrom Crime Reporting code. This is directly linked to the Primary Type and Description. See the list of IUCR codes at https://data.cityofchicago.org/d/c7ck-438e.\n",
    "Primary Type - The primary description of the IUCR code.\n",
    "Description - The secondary description of the IUCR code, a subcategory of the primary description.\n",
    "Location Description - Description of the location where the incident occurred.\n",
    "Arrest - Indicates whether an arrest was made.\n",
    "Domestic - Indicates whether the incident was domestic-related as defined by the Illinois Domestic Violence Act.\n",
    "Beat - Indicates the beat where the incident occurred. A beat is the smallest police geographic area – each beat has a dedicated police beat car. Three to five beats make up a police sector, and three sectors make up a police district. The Chicago Police Department has 22 police districts. See the beats at https://data.cityofchicago.org/d/aerh-rz74.\n",
    "District - Indicates the police district where the incident occurred. See the districts at https://data.cityofchicago.org/d/fthy-xz3r.\n",
    "Ward - The ward (City Council district) where the incident occurred. See the wards at https://data.cityofchicago.org/d/sp34-6z76.\n",
    "Community Area - Indicates the community area where the incident occurred. Chicago has 77 community areas. See the community areas at https://data.cityofchicago.org/d/cauq-8yn6.\n",
    "FBI Code - Indicates the crime classification as outlined in the FBI's National Incident-Based Reporting System (NIBRS). See the Chicago Police Department listing of these classifications at http://gis.chicagopolice.org/clearmap_crime_sums/crime_types.html.\n",
    "X Coordinate - The x coordinate of the location where the incident occurred in State Plane Illinois East NAD 1983 projection. This location is shifted from the actual location for partial redaction but falls on the same block.\n",
    "Y Coordinate - The y coordinate of the location where the incident occurred in State Plane Illinois East NAD 1983 projection. This location is shifted from the actual location for partial redaction but falls on the same block.\n",
    "Year - Year the incident occurred.\n",
    "Updated On - Date and time the record was last updated.\n",
    "Latitude - The latitude of the location where the incident occurred. This location is shifted from the actual location for partial redaction but falls on the same block.\n",
    "Longitude - The longitude of the location where the incident occurred. This location is shifted from the actual location for partial redaction but falls on the same block.\n",
    "Location - The location where the incident occurred in a format that allows for creation of maps and other geographic operations on this data portal. This location is shifted from the actual location for partial redaction but falls on the same block.'''"
   ]
  },
  {
   "cell_type": "code",
   "execution_count": 10,
   "metadata": {},
   "outputs": [],
   "source": [
    "def entry_dic(line):\n",
    "    \"\"\"\n",
    "    Convert a header - description line into a single dictionary that holds the original header as 'title', a corresponding field name as 'header', and a description.\n",
    "    \"\"\"\n",
    "    pair = line.split(' - ')\n",
    "    return {'title': pair[0], 'description': pair[1], 'header': pair[0].lower().replace(' ', '_')}"
   ]
  },
  {
   "cell_type": "markdown",
   "metadata": {},
   "source": [
    "Turn a list of headers to a list of dictionaries produced by the above function"
   ]
  },
  {
   "cell_type": "code",
   "execution_count": 11,
   "metadata": {},
   "outputs": [],
   "source": [
    "header_dics = list(map(entry_dic, list(filter(lambda l: l != '', content_cols.split('\\n')))))"
   ]
  },
  {
   "cell_type": "code",
   "execution_count": 12,
   "metadata": {},
   "outputs": [
    {
     "data": {
      "text/plain": [
       "[{'title': 'ID',\n",
       "  'description': 'Unique identifier for the record.',\n",
       "  'header': 'id'},\n",
       " {'title': 'Case Number',\n",
       "  'description': 'The Chicago Police Department RD Number (Records Division Number), which is unique to the incident.',\n",
       "  'header': 'case_number'}]"
      ]
     },
     "execution_count": 12,
     "metadata": {},
     "output_type": "execute_result"
    }
   ],
   "source": [
    "header_dics[:2]"
   ]
  },
  {
   "cell_type": "markdown",
   "metadata": {},
   "source": [
    "### Environment\n",
    "\n",
    "The data set is expected to be located at `../data/from-kaggle/`. The dataset downloaded from the page mentioned above comes in multiple .csv files. I extracted those files into the directory (see below `ls` output).\n",
    "\n",
    "It shouldn't matter where the data comes from or how many files it's broken up into. As long as the pattern matches, that should work."
   ]
  },
  {
   "cell_type": "code",
   "execution_count": 13,
   "metadata": {},
   "outputs": [
    {
     "name": "stdout",
     "output_type": "stream",
     "text": [
      "total 1.9G\r\n",
      "-rw-rw-r-- 1 arpit arpit 413K Dec 10 03:08 chicago-crime-data-on-spark.ipynb\r\n",
      "-rw-rw-r-- 1 arpit arpit 454M Dec  6 05:02 Chicago_Crimes_2001_to_2004.csv\r\n",
      "-rw-rw-r-- 1 arpit arpit 450M Sep 20  2019 Chicago_Crimes_2005_to_2007.csv\r\n",
      "-rw-rw-r-- 1 arpit arpit 647M Dec  6 05:04 Chicago_Crimes_2008_to_2011.csv\r\n",
      "-rw-rw-r-- 1 arpit arpit 350M Sep 20  2019 Chicago_Crimes_2012_to_2017.csv\r\n",
      "-rw-rw-r-- 1 arpit arpit 416K Dec  7 05:33 short.csv\r\n",
      "-rw-rw-r-- 1 arpit arpit 414K Dec  7 18:03 shortened.csv\r\n",
      "-rw-rw-r-- 1 arpit arpit  19K Dec  7 18:05 Untitled.ipynb\r\n"
     ]
    }
   ],
   "source": [
    "!ls -lh ./"
   ]
  },
  {
   "cell_type": "markdown",
   "metadata": {},
   "source": [
    "---\n",
    "## Reading the data\n",
    "\n",
    "Using the Spark's csv reader to parse the files. It processes multiple files and returns a single data frame:"
   ]
  },
  {
   "cell_type": "code",
   "execution_count": 14,
   "metadata": {},
   "outputs": [],
   "source": [
    "df = spark.read.csv('/input/*.csv', inferSchema=True, header=True)"
   ]
  },
  {
   "cell_type": "code",
   "execution_count": 15,
   "metadata": {},
   "outputs": [],
   "source": [
    "# Caching this data frame as it's going to be read over and over again\n",
    "df = df.cache()"
   ]
  },
  {
   "cell_type": "code",
   "execution_count": 16,
   "metadata": {},
   "outputs": [
    {
     "name": "stdout",
     "output_type": "stream",
     "text": [
      "root\n",
      " |-- _c0: integer (nullable = true)\n",
      " |-- Unnamed: 0: double (nullable = true)\n",
      " |-- ID: integer (nullable = true)\n",
      " |-- Case Number: string (nullable = true)\n",
      " |-- Date: string (nullable = true)\n",
      " |-- Block: string (nullable = true)\n",
      " |-- IUCR: string (nullable = true)\n",
      " |-- Primary Type: string (nullable = true)\n",
      " |-- Description: string (nullable = true)\n",
      " |-- Location Description: string (nullable = true)\n",
      " |-- Arrest: integer (nullable = true)\n",
      " |-- Domestic: integer (nullable = true)\n",
      " |-- Beat: integer (nullable = true)\n",
      " |-- District: integer (nullable = true)\n",
      " |-- Ward: integer (nullable = true)\n",
      " |-- Community Area: integer (nullable = true)\n",
      " |-- FBI Code: string (nullable = true)\n",
      " |-- X Coordinate: integer (nullable = true)\n",
      " |-- Y Coordinate: integer (nullable = true)\n",
      " |-- Year: integer (nullable = true)\n",
      " |-- Updated On: string (nullable = true)\n",
      " |-- Latitude: double (nullable = true)\n",
      " |-- Longitude: double (nullable = true)\n",
      " |-- Location: string (nullable = true)\n",
      "\n"
     ]
    }
   ],
   "source": [
    "df.printSchema()"
   ]
  },
  {
   "cell_type": "markdown",
   "metadata": {},
   "source": [
    "---\n",
    "**Rename columns so that we can use the dot notation**"
   ]
  },
  {
   "cell_type": "code",
   "execution_count": 17,
   "metadata": {},
   "outputs": [],
   "source": [
    "for h in header_dics:\n",
    "    df = df.withColumnRenamed(h['title'], h['header'])"
   ]
  },
  {
   "cell_type": "markdown",
   "metadata": {},
   "source": [
    "Taking an initial look at the content of the data frame:"
   ]
  },
  {
   "cell_type": "code",
   "execution_count": 19,
   "metadata": {},
   "outputs": [
    {
     "name": "stdout",
     "output_type": "stream",
     "text": [
      "+---+----------+--------+-----------+----------------------+-------------------+----+----------------------+-----------------------+--------------------+------+--------+----+--------+----+--------------+--------+------------+------------+----+----------------------+------------+-------------+-----------------------------+\n",
      "|_c0|Unnamed: 0|id      |case_number|date                  |block              |iucr|primary_type          |description            |location_description|arrest|domestic|beat|district|ward|community_area|fbi_code|x_coordinate|y_coordinate|year|updated_on            |latitude    |longitude    |location                     |\n",
      "+---+----------+--------+-----------+----------------------+-------------------+----+----------------------+-----------------------+--------------------+------+--------+----+--------+----+--------------+--------+------------+------------+----+----------------------+------------+-------------+-----------------------------+\n",
      "|0  |3.0       |10508693|HZ250496   |05/03/2016 11:40:00 PM|013XX S SAWYER AVE |486 |BATTERY               |DOMESTIC BATTERY SIMPLE|APARTMENT           |1     |1       |1022|10      |24  |29            |08B     |1154907     |1893681     |2016|05/10/2016 03:56:50 PM|41.864073157|-87.706818608|(41.864073157, -87.706818608)|\n",
      "|2  |197.0     |10508697|HZ250503   |05/03/2016 11:31:00 PM|053XX W CHICAGO AVE|470 |PUBLIC PEACE VIOLATION|RECKLESS CONDUCT       |STREET              |0     |0       |1524|15      |37  |25            |24      |1140789     |1904819     |2016|05/10/2016 03:56:50 PM|41.894908283|-87.758371958|(41.894908283, -87.758371958)|\n",
      "|3  |673.0     |10508698|HZ250424   |05/03/2016 10:10:00 PM|049XX W FULTON ST  |460 |BATTERY               |SIMPLE                 |SIDEWALK            |0     |0       |1532|15      |28  |25            |08B     |1143223     |1901475     |2016|05/10/2016 03:56:50 PM|41.885686845|-87.749515983|(41.885686845, -87.749515983)|\n",
      "+---+----------+--------+-----------+----------------------+-------------------+----+----------------------+-----------------------+--------------------+------+--------+----+--------+----+--------------+--------+------------+------------+----+----------------------+------------+-------------+-----------------------------+\n",
      "only showing top 3 rows\n",
      "\n"
     ]
    }
   ],
   "source": [
    "df.show(n=3, truncate=False)"
   ]
  },
  {
   "cell_type": "markdown",
   "metadata": {},
   "source": [
    "---\n",
    "## Looking at the data"
   ]
  },
  {
   "cell_type": "code",
   "execution_count": 20,
   "metadata": {},
   "outputs": [],
   "source": [
    "# crime types\n",
    "crime_type_groups = df.groupBy('primary_type').count()"
   ]
  },
  {
   "cell_type": "code",
   "execution_count": 21,
   "metadata": {},
   "outputs": [],
   "source": [
    "crime_type_counts = crime_type_groups.orderBy('count', ascending=False)"
   ]
  },
  {
   "cell_type": "markdown",
   "metadata": {},
   "source": [
    "Total record count:"
   ]
  },
  {
   "cell_type": "code",
   "execution_count": 22,
   "metadata": {},
   "outputs": [
    {
     "name": "stdout",
     "output_type": "stream",
     "text": [
      "1770\n"
     ]
    }
   ],
   "source": [
    "print(df.count())"
   ]
  },
  {
   "cell_type": "markdown",
   "metadata": {},
   "source": [
    "How many features do we have"
   ]
  },
  {
   "cell_type": "code",
   "execution_count": 23,
   "metadata": {},
   "outputs": [
    {
     "data": {
      "text/plain": [
       "['_c0',\n",
       " 'Unnamed: 0',\n",
       " 'id',\n",
       " 'case_number',\n",
       " 'date',\n",
       " 'block',\n",
       " 'iucr',\n",
       " 'primary_type',\n",
       " 'description',\n",
       " 'location_description',\n",
       " 'arrest',\n",
       " 'domestic',\n",
       " 'beat',\n",
       " 'district',\n",
       " 'ward',\n",
       " 'community_area',\n",
       " 'fbi_code',\n",
       " 'x_coordinate',\n",
       " 'y_coordinate',\n",
       " 'year',\n",
       " 'updated_on',\n",
       " 'latitude',\n",
       " 'longitude',\n",
       " 'location']"
      ]
     },
     "execution_count": 23,
     "metadata": {},
     "output_type": "execute_result"
    }
   ],
   "source": [
    "df.columns"
   ]
  },
  {
   "cell_type": "code",
   "execution_count": 24,
   "metadata": {},
   "outputs": [
    {
     "name": "stdout",
     "output_type": "stream",
     "text": [
      "root\n",
      " |-- _c0: integer (nullable = true)\n",
      " |-- Unnamed: 0: double (nullable = true)\n",
      " |-- id: integer (nullable = true)\n",
      " |-- case_number: string (nullable = true)\n",
      " |-- date: string (nullable = true)\n",
      " |-- block: string (nullable = true)\n",
      " |-- iucr: string (nullable = true)\n",
      " |-- primary_type: string (nullable = true)\n",
      " |-- description: string (nullable = true)\n",
      " |-- location_description: string (nullable = true)\n",
      " |-- arrest: integer (nullable = true)\n",
      " |-- domestic: integer (nullable = true)\n",
      " |-- beat: integer (nullable = true)\n",
      " |-- district: integer (nullable = true)\n",
      " |-- ward: integer (nullable = true)\n",
      " |-- community_area: integer (nullable = true)\n",
      " |-- fbi_code: string (nullable = true)\n",
      " |-- x_coordinate: integer (nullable = true)\n",
      " |-- y_coordinate: integer (nullable = true)\n",
      " |-- year: integer (nullable = true)\n",
      " |-- updated_on: string (nullable = true)\n",
      " |-- latitude: double (nullable = true)\n",
      " |-- longitude: double (nullable = true)\n",
      " |-- location: string (nullable = true)\n",
      "\n"
     ]
    }
   ],
   "source": [
    "#Let's see the schema of the data frame:\n",
    "df.printSchema()"
   ]
  },
  {
   "cell_type": "markdown",
   "metadata": {},
   "source": [
    "### Crime types\n",
    "\n",
    "These are the top 20 most frequent crime types:"
   ]
  },
  {
   "cell_type": "code",
   "execution_count": 25,
   "metadata": {},
   "outputs": [
    {
     "name": "stdout",
     "output_type": "stream",
     "text": [
      "+--------------------------------+-----+\n",
      "|primary_type                    |count|\n",
      "+--------------------------------+-----+\n",
      "|THEFT                           |371  |\n",
      "|BATTERY                         |280  |\n",
      "|NARCOTICS                       |227  |\n",
      "|CRIMINAL DAMAGE                 |169  |\n",
      "|DECEPTIVE PRACTICE              |133  |\n",
      "|OTHER OFFENSE                   |122  |\n",
      "|ASSAULT                         |108  |\n",
      "|MOTOR VEHICLE THEFT             |69   |\n",
      "|ROBBERY                         |66   |\n",
      "|BURGLARY                        |65   |\n",
      "|CRIMINAL TRESPASS               |48   |\n",
      "|WEAPONS VIOLATION               |23   |\n",
      "|OFFENSE INVOLVING CHILDREN      |22   |\n",
      "|CRIM SEXUAL ASSAULT             |18   |\n",
      "|PUBLIC PEACE VIOLATION          |13   |\n",
      "|SEX OFFENSE                     |9    |\n",
      "|PROSTITUTION                    |7    |\n",
      "|HOMICIDE                        |6    |\n",
      "|INTERFERENCE WITH PUBLIC OFFICER|5    |\n",
      "|KIDNAPPING                      |4    |\n",
      "+--------------------------------+-----+\n",
      "only showing top 20 rows\n",
      "\n"
     ]
    }
   ],
   "source": [
    "crime_type_counts.show(truncate=False)"
   ]
  },
  {
   "cell_type": "code",
   "execution_count": 29,
   "metadata": {},
   "outputs": [],
   "source": [
    "counts_pddf = pd.DataFrame(crime_type_counts.rdd.map(lambda l: l.asDict()).collect())"
   ]
  },
  {
   "cell_type": "code",
   "execution_count": 30,
   "metadata": {},
   "outputs": [
    {
     "data": {
      "text/html": [
       "<div>\n",
       "<style scoped>\n",
       "    .dataframe tbody tr th:only-of-type {\n",
       "        vertical-align: middle;\n",
       "    }\n",
       "\n",
       "    .dataframe tbody tr th {\n",
       "        vertical-align: top;\n",
       "    }\n",
       "\n",
       "    .dataframe thead th {\n",
       "        text-align: right;\n",
       "    }\n",
       "</style>\n",
       "<table border=\"1\" class=\"dataframe\">\n",
       "  <thead>\n",
       "    <tr style=\"text-align: right;\">\n",
       "      <th></th>\n",
       "      <th>primary_type</th>\n",
       "      <th>count</th>\n",
       "    </tr>\n",
       "  </thead>\n",
       "  <tbody>\n",
       "    <tr>\n",
       "      <th>0</th>\n",
       "      <td>THEFT</td>\n",
       "      <td>371</td>\n",
       "    </tr>\n",
       "    <tr>\n",
       "      <th>1</th>\n",
       "      <td>BATTERY</td>\n",
       "      <td>280</td>\n",
       "    </tr>\n",
       "    <tr>\n",
       "      <th>2</th>\n",
       "      <td>NARCOTICS</td>\n",
       "      <td>227</td>\n",
       "    </tr>\n",
       "    <tr>\n",
       "      <th>3</th>\n",
       "      <td>CRIMINAL DAMAGE</td>\n",
       "      <td>169</td>\n",
       "    </tr>\n",
       "    <tr>\n",
       "      <th>4</th>\n",
       "      <td>DECEPTIVE PRACTICE</td>\n",
       "      <td>133</td>\n",
       "    </tr>\n",
       "    <tr>\n",
       "      <th>5</th>\n",
       "      <td>OTHER OFFENSE</td>\n",
       "      <td>122</td>\n",
       "    </tr>\n",
       "    <tr>\n",
       "      <th>6</th>\n",
       "      <td>ASSAULT</td>\n",
       "      <td>108</td>\n",
       "    </tr>\n",
       "    <tr>\n",
       "      <th>7</th>\n",
       "      <td>MOTOR VEHICLE THEFT</td>\n",
       "      <td>69</td>\n",
       "    </tr>\n",
       "    <tr>\n",
       "      <th>8</th>\n",
       "      <td>ROBBERY</td>\n",
       "      <td>66</td>\n",
       "    </tr>\n",
       "    <tr>\n",
       "      <th>9</th>\n",
       "      <td>BURGLARY</td>\n",
       "      <td>65</td>\n",
       "    </tr>\n",
       "  </tbody>\n",
       "</table>\n",
       "</div>"
      ],
      "text/plain": [
       "          primary_type  count\n",
       "0                THEFT    371\n",
       "1              BATTERY    280\n",
       "2            NARCOTICS    227\n",
       "3      CRIMINAL DAMAGE    169\n",
       "4   DECEPTIVE PRACTICE    133\n",
       "5        OTHER OFFENSE    122\n",
       "6              ASSAULT    108\n",
       "7  MOTOR VEHICLE THEFT     69\n",
       "8              ROBBERY     66\n",
       "9             BURGLARY     65"
      ]
     },
     "execution_count": 30,
     "metadata": {},
     "output_type": "execute_result"
    }
   ],
   "source": [
    "counts_pddf.head(10)"
   ]
  },
  {
   "cell_type": "code",
   "execution_count": 31,
   "metadata": {
    "scrolled": false
   },
   "outputs": [
    {
     "data": {
      "text/plain": [
       "[Text(0, 0.5, 'Primary Type'), Text(0.5, 0, 'Crimes Record Count')]"
      ]
     },
     "execution_count": 31,
     "metadata": {},
     "output_type": "execute_result"
    },
    {
     "data": {
      "image/png": "[encoded data removed]",
      "text/plain": [
       "<Figure size 1440x576 with 1 Axes>"
      ]
     },
     "metadata": {},
     "output_type": "display_data"
    }
   ],
   "source": [
    "plt.rcParams[\"figure.figsize\"] = [20, 8]\n",
    "\n",
    "sns.set(style=\"whitegrid\")\n",
    "sns.set_color_codes(\"pastel\")\n",
    "\n",
    "#sns.despine(left=True, bottom=True)\n",
    "type_graph = sns.barplot(x='count', y='primary_type', data=counts_pddf)\n",
    "type_graph.set(ylabel=\"Primary Type\", xlabel=\"Crimes Record Count\")"
   ]
  },
  {
   "cell_type": "markdown",
   "metadata": {},
   "source": [
    "### Recorded Date"
   ]
  },
  {
   "cell_type": "code",
   "execution_count": 32,
   "metadata": {},
   "outputs": [],
   "source": [
    "import datetime\n",
    "from pyspark.sql.functions import *"
   ]
  },
  {
   "cell_type": "code",
   "execution_count": 33,
   "metadata": {},
   "outputs": [
    {
     "name": "stdout",
     "output_type": "stream",
     "text": [
      "+----------------------+----------------------+\n",
      "|first_record_date     |latest_record_date    |\n",
      "+----------------------+----------------------+\n",
      "|01/01/2012 12:00:00 AM|12/31/2015 07:00:00 AM|\n",
      "+----------------------+----------------------+\n",
      "\n"
     ]
    }
   ],
   "source": [
    "df.select(min('date').alias('first_record_date'), max('date').alias('latest_record_date')).show(truncate=False)"
   ]
  },
  {
   "cell_type": "markdown",
   "metadata": {},
   "source": [
    "So it seems that the dataset we're dealing with comprises records from **2012-01-01** to **2015-12-31**"
   ]
  },
  {
   "cell_type": "markdown",
   "metadata": {},
   "source": [
    "---\n",
    "Converting dates to a timestamp type. As seen in the schema output above, the `date` field is of `string` type, which won't be very helpful\n",
    "\n",
    "The format specifier that seems valid for date like '02/23/2006 09:06:22 PM' is **`'MM/dd/yyyy hh:mm:ss a'`**"
   ]
  },
  {
   "cell_type": "code",
   "execution_count": 34,
   "metadata": {},
   "outputs": [],
   "source": [
    "df = df.withColumn('date_time', to_timestamp('date', 'MM/dd/yyyy hh:mm:ss a'))\\\n",
    "       .withColumn('month', trunc('date_time', 'YYYY')) #adding a month column to be able to view stats on a monthly basis"
   ]
  },
  {
   "cell_type": "code",
   "execution_count": 35,
   "metadata": {},
   "outputs": [
    {
     "name": "stdout",
     "output_type": "stream",
     "text": [
      "+----------------------+-------------------+----------+\n",
      "|date                  |date_time          |month     |\n",
      "+----------------------+-------------------+----------+\n",
      "|05/03/2016 11:40:00 PM|2016-05-03 23:40:00|2016-01-01|\n",
      "|05/03/2016 11:31:00 PM|2016-05-03 23:31:00|2016-01-01|\n",
      "+----------------------+-------------------+----------+\n",
      "only showing top 2 rows\n",
      "\n"
     ]
    }
   ],
   "source": [
    "df.select(['date','date_time', 'month'])\\\n",
    "  .show(n=2, truncate=False)"
   ]
  },
  {
   "cell_type": "code",
   "execution_count": 36,
   "metadata": {},
   "outputs": [],
   "source": [
    "df=df.dropna()"
   ]
  },
  {
   "cell_type": "markdown",
   "metadata": {},
   "source": [
    "### Primary type and arrest"
   ]
  },
  {
   "cell_type": "code",
   "execution_count": 37,
   "metadata": {},
   "outputs": [
    {
     "name": "stdout",
     "output_type": "stream",
     "text": [
      "\n",
      "+------+----------+-----+\n",
      "|arrest|month     |count|\n",
      "+------+----------+-----+\n",
      "|1     |2013-01-01|1    |\n",
      "|1     |2014-01-01|2    |\n",
      "|0     |2014-01-01|1    |\n",
      "+------+----------+-----+\n",
      "only showing top 3 rows\n",
      "\n"
     ]
    }
   ],
   "source": [
    "# crime types and arrest over years:\n",
    "type_arrest_date = df.groupBy(['arrest', 'month'])\\\n",
    "                     .count()\\\n",
    "                     .orderBy(['month', 'count'], ascending=[True, False])\n",
    "print()\n",
    "type_arrest_date.show(3, truncate=False)"
   ]
  },
  {
   "cell_type": "code",
   "execution_count": 38,
   "metadata": {},
   "outputs": [],
   "source": [
    "# A small detour to learn/see how datetime works\n",
    "import datetime"
   ]
  },
  {
   "cell_type": "code",
   "execution_count": 39,
   "metadata": {},
   "outputs": [
    {
     "data": {
      "text/plain": [
       "'03'"
      ]
     },
     "execution_count": 39,
     "metadata": {},
     "output_type": "execute_result"
    }
   ],
   "source": [
    "datetime.datetime.now()\n",
    "datetime.datetime.strftime(datetime.datetime.now(), '%H')"
   ]
  },
  {
   "cell_type": "code",
   "execution_count": 40,
   "metadata": {},
   "outputs": [],
   "source": [
    "# A pandas data frame of the collected dictionary version of the date-grouped DF above\n",
    "type_arrest_pddf = pd.DataFrame(type_arrest_date.rdd.map(lambda l: l.asDict()).collect())"
   ]
  },
  {
   "cell_type": "markdown",
   "metadata": {},
   "source": [
    "Convert date/time values to Pandas type\n",
    "\n",
    "*A lot of this is unnecessary, but that's called fiddling...*"
   ]
  },
  {
   "cell_type": "code",
   "execution_count": 41,
   "metadata": {},
   "outputs": [],
   "source": [
    "type_arrest_pddf['yearpd'] = type_arrest_pddf['month'].apply(lambda dt: datetime.datetime.strftime(pd.Timestamp(dt), '%Y'))"
   ]
  },
  {
   "cell_type": "code",
   "execution_count": 42,
   "metadata": {},
   "outputs": [
    {
     "data": {
      "text/html": [
       "<div>\n",
       "<style scoped>\n",
       "    .dataframe tbody tr th:only-of-type {\n",
       "        vertical-align: middle;\n",
       "    }\n",
       "\n",
       "    .dataframe tbody tr th {\n",
       "        vertical-align: top;\n",
       "    }\n",
       "\n",
       "    .dataframe thead th {\n",
       "        text-align: right;\n",
       "    }\n",
       "</style>\n",
       "<table border=\"1\" class=\"dataframe\">\n",
       "  <thead>\n",
       "    <tr style=\"text-align: right;\">\n",
       "      <th></th>\n",
       "      <th>arrest</th>\n",
       "      <th>month</th>\n",
       "      <th>count</th>\n",
       "      <th>yearpd</th>\n",
       "    </tr>\n",
       "  </thead>\n",
       "  <tbody>\n",
       "    <tr>\n",
       "      <th>0</th>\n",
       "      <td>False</td>\n",
       "      <td>2013-01-01</td>\n",
       "      <td>1</td>\n",
       "      <td>2013</td>\n",
       "    </tr>\n",
       "    <tr>\n",
       "      <th>1</th>\n",
       "      <td>False</td>\n",
       "      <td>2014-01-01</td>\n",
       "      <td>2</td>\n",
       "      <td>2014</td>\n",
       "    </tr>\n",
       "    <tr>\n",
       "      <th>2</th>\n",
       "      <td>False</td>\n",
       "      <td>2014-01-01</td>\n",
       "      <td>1</td>\n",
       "      <td>2014</td>\n",
       "    </tr>\n",
       "    <tr>\n",
       "      <th>3</th>\n",
       "      <td>False</td>\n",
       "      <td>2015-01-01</td>\n",
       "      <td>138</td>\n",
       "      <td>2015</td>\n",
       "    </tr>\n",
       "    <tr>\n",
       "      <th>4</th>\n",
       "      <td>False</td>\n",
       "      <td>2015-01-01</td>\n",
       "      <td>24</td>\n",
       "      <td>2015</td>\n",
       "    </tr>\n",
       "  </tbody>\n",
       "</table>\n",
       "</div>"
      ],
      "text/plain": [
       "   arrest       month  count yearpd\n",
       "0   False  2013-01-01      1   2013\n",
       "1   False  2014-01-01      2   2014\n",
       "2   False  2014-01-01      1   2014\n",
       "3   False  2015-01-01    138   2015\n",
       "4   False  2015-01-01     24   2015"
      ]
     },
     "execution_count": 42,
     "metadata": {},
     "output_type": "execute_result"
    }
   ],
   "source": [
    "type_arrest_pddf['arrest'] = type_arrest_pddf['arrest'].apply(lambda l: l=='True')\n",
    "type_arrest_pddf.head(5)"
   ]
  },
  {
   "cell_type": "markdown",
   "metadata": {},
   "source": [
    "### How have arrests evolved over the 16 years?"
   ]
  },
  {
   "cell_type": "code",
   "execution_count": 43,
   "metadata": {},
   "outputs": [
    {
     "data": {
      "text/plain": [
       "<matplotlib.legend.Legend at 0x7fedf8deded0>"
      ]
     },
     "execution_count": 43,
     "metadata": {},
     "output_type": "execute_result"
    },
    {
     "data": {
      "image/png": "[encoded data removed]",
      "text/plain": [
       "<Figure size 1440x576 with 1 Axes>"
      ]
     },
     "metadata": {},
     "output_type": "display_data"
    }
   ],
   "source": [
    "# Data for plotting\n",
    "t = type_arrest_pddf['count'] - 20 # np.arange(0.0, 2.0, 0.01)\n",
    "s = type_arrest_pddf['month'] \n",
    "\n",
    "arrested = type_arrest_pddf[type_arrest_pddf['arrest'] == True]\n",
    "not_arrested = type_arrest_pddf[type_arrest_pddf['arrest'] == False]\n",
    "\n",
    "# Note that using plt.subplots below is equivalent to using\n",
    "# fig = plt.figure() and then ax = fig.add_subplot(111)\n",
    "fig, ax = plt.subplots()\n",
    "ax.plot(arrested['month'], arrested['count'], label='Arrested')\n",
    "ax.plot(not_arrested['month'], not_arrested['count'], label='Not Arrested')\n",
    "\n",
    "ax.set(xlabel='Year - 2001-2017', ylabel='Total records',\n",
    "       title='Year-on-year crime records')\n",
    "ax.grid(b=True, which='both', axis='y')\n",
    "ax.legend()"
   ]
  },
  {
   "cell_type": "markdown",
   "metadata": {},
   "source": [
    "It looks like the relative distance between arrests and non-arrests has remained constant.."
   ]
  },
  {
   "cell_type": "markdown",
   "metadata": {},
   "source": [
    "### What time of the day are criminal the busiest?"
   ]
  },
  {
   "cell_type": "code",
   "execution_count": 44,
   "metadata": {},
   "outputs": [],
   "source": [
    "# Extract the \"hour\" field from the date into a separate column called \"hour\"\n",
    "df_hour = df.withColumn('hour', hour(df['date_time']))"
   ]
  },
  {
   "cell_type": "code",
   "execution_count": 45,
   "metadata": {},
   "outputs": [],
   "source": [
    "# Derive a data frame with crime counts per hour of the day:\n",
    "hourly_count = df_hour.groupBy(['primary_type', 'hour']).count().cache()\n",
    "hourly_total_count = hourly_count.groupBy('hour').sum('count')"
   ]
  },
  {
   "cell_type": "code",
   "execution_count": 46,
   "metadata": {},
   "outputs": [],
   "source": [
    "hourly_count_pddf = pd.DataFrame(hourly_total_count.select(hourly_total_count['hour'], hourly_total_count['sum(count)'].alias('count'))\\\n",
    "                                .rdd.map(lambda l: l.asDict())\\\n",
    "                                 .collect())"
   ]
  },
  {
   "cell_type": "code",
   "execution_count": 47,
   "metadata": {},
   "outputs": [],
   "source": [
    "hourly_count_pddf = hourly_count_pddf.sort_values(by='hour')"
   ]
  },
  {
   "cell_type": "markdown",
   "metadata": {},
   "source": [
    "Seems that 15-18 are the worst hours..."
   ]
  },
  {
   "cell_type": "code",
   "execution_count": 48,
   "metadata": {},
   "outputs": [
    {
     "data": {
      "text/plain": [
       "<matplotlib.legend.Legend at 0x7fedf8d78fd0>"
      ]
     },
     "execution_count": 48,
     "metadata": {},
     "output_type": "execute_result"
    },
    {
     "data": {
      "image/png": "[encoded data removed]",
      "text/plain": [
       "<Figure size 1440x576 with 1 Axes>"
      ]
     },
     "metadata": {},
     "output_type": "display_data"
    }
   ],
   "source": [
    "fig, ax = plt.subplots()\n",
    "ax.plot(hourly_count_pddf['hour'], hourly_count_pddf['count'], label='Hourly Count')\n",
    "\n",
    "ax.set(xlabel='Hour of Day', ylabel='Total records',\n",
    "       title='Overall hourly crime numbers')\n",
    "ax.grid(b=True, which='both', axis='y')\n",
    "ax.legend()"
   ]
  },
  {
   "cell_type": "markdown",
   "metadata": {},
   "source": [
    "### Types of locations with crime entries"
   ]
  },
  {
   "cell_type": "code",
   "execution_count": 49,
   "metadata": {},
   "outputs": [
    {
     "data": {
      "text/plain": [
       "68"
      ]
     },
     "execution_count": 49,
     "metadata": {},
     "output_type": "execute_result"
    }
   ],
   "source": [
    "# Number of types of location recorded in the dataset\n",
    "df.select('location_description').distinct().count()"
   ]
  },
  {
   "cell_type": "markdown",
   "metadata": {},
   "source": [
    "What are the top 10 places where crime occurred?"
   ]
  },
  {
   "cell_type": "code",
   "execution_count": 50,
   "metadata": {},
   "outputs": [
    {
     "name": "stdout",
     "output_type": "stream",
     "text": [
      "+--------------------+-----+\n",
      "|location_description|count|\n",
      "+--------------------+-----+\n",
      "|              STREET|  365|\n",
      "|           RESIDENCE|  280|\n",
      "|           APARTMENT|  207|\n",
      "|            SIDEWALK|  166|\n",
      "|               OTHER|   60|\n",
      "|PARKING LOT/GARAG...|   48|\n",
      "|               ALLEY|   45|\n",
      "|VEHICLE NON-COMME...|   43|\n",
      "|SCHOOL, PUBLIC, B...|   43|\n",
      "|  SMALL RETAIL STORE|   42|\n",
      "+--------------------+-----+\n",
      "only showing top 10 rows\n",
      "\n"
     ]
    }
   ],
   "source": [
    "df.groupBy(['location_description']).count().orderBy('count', ascending=False).show(10)"
   ]
  },
  {
   "cell_type": "code",
   "execution_count": 135,
   "metadata": {},
   "outputs": [
    {
     "data": {
      "image/png": "[encoded data removed]",
      "text/plain": [
       "<Figure size 1440x1440 with 1 Axes>"
      ]
     },
     "metadata": {
      "needs_background": "light"
     },
     "output_type": "display_data"
    }
   ],
   "source": [
    "crime_location  = df.groupBy(\"location_description\").count().collect()\n",
    "location = [item[0] for item in crime_location]\n",
    "count = [item[1] for item in crime_location]\n",
    "crime_location = {\"location\" : location, \"count\": count}\n",
    "crime_location = pd.DataFrame(crime_location)\n",
    "crime_location = crime_location.sort_values(by = \"count\", ascending  = False)\n",
    "crime_location = crime_location.iloc[:20]\n",
    "myplot = crime_location .plot(figsize = (20,20), kind = \"barh\", color = \"#b35900\", width = 0.8,\n",
    "                               x = \"location\", y = \"count\", legend = False)\n",
    "myplot.invert_yaxis()\n",
    "plt.xlabel(\"Number of crimes\", fontsize = 28)\n",
    "plt.ylabel(\"Crime Location\", fontsize = 28)\n",
    "plt.title(\"Number of Crimes By Location\", fontsize = 36)\n",
    "plt.xticks(size = 24)\n",
    "plt.yticks(size = 24)\n",
    "plt.show()"
   ]
  },
  {
   "cell_type": "code",
   "execution_count": 130,
   "metadata": {},
   "outputs": [
    {
     "name": "stdout",
     "output_type": "stream",
     "text": [
      "+-------+-------------------+-------------------+------------------+------------------+------------------+\n",
      "|summary|           latitude|          longitude|              year|      x_coordinate|      y_Coordinate|\n",
      "+-------+-------------------+-------------------+------------------+------------------+------------------+\n",
      "|  count|               1673|               1673|              1673|              1673|              1673|\n",
      "|   mean|  41.85089369542435|   -87.671117875003|2015.9025702331141| 1163390.444112373|1887204.6300059773|\n",
      "| stddev|0.10846970064677228|0.09052748326869933|0.3236297466506175|16163.079935106834|30571.115025218678|\n",
      "|    min|       41.650019437|      -87.907472601|              2013|           1100088|           1816062|\n",
      "|    max|       42.894908283|      -86.603798903|              2017|           1203517|           1951231|\n",
      "+-------+-------------------+-------------------+------------------+------------------+------------------+\n",
      "\n"
     ]
    }
   ],
   "source": [
    "df.select(['latitude','longitude',\"year\",\"x_coordinate\",\"y_Coordinate\"]).describe().show()"
   ]
  },
  {
   "cell_type": "markdown",
   "metadata": {},
   "source": [
    "Can we see how the top crime locations are affected over the day?"
   ]
  },
  {
   "cell_type": "markdown",
   "metadata": {},
   "source": [
    "#### This may be just me, but it seems that crimes at home increase when crimes on the street decrease. Could it be that it's the same kind of people that are in charge of both home and streets?"
   ]
  },
  {
   "cell_type": "markdown",
   "metadata": {},
   "source": [
    "#### How do domestic crimes compare the other crimes?"
   ]
  },
  {
   "cell_type": "markdown",
   "metadata": {},
   "source": [
    "### A closer look at crime date and time\n",
    "\n",
    "The information given here indicates when the crime is perpetrated. The date/time field may be able to draw a meaningful trend that can be used to predict crime. However, I believe that this leads much more to external factors, such as policy changes, law inforcement-related factors, and so on.\n",
    "\n",
    "It's much more likely that time-related features that are more closely relatable to crime occurence be better predictors than the date and time. I mean, knowing the month of the year, the day of the week, and the hour of the day that the crime occurred can enable better chances of predicting accurately than simply knowing \"when\" AD crimes occurred."
   ]
  },
  {
   "cell_type": "markdown",
   "metadata": {},
   "source": [
    "Adding predictors (so far fields) that read time information:\n",
    "\n",
    " * hour of day (already added the 'hour' field)\n",
    " * day of week\n",
    " * month of year\n",
    " * day in a range. Instead of using the entire date-time, we'll use a \"day sequence\" that is counted from 2001-01-01."
   ]
  },
  {
   "cell_type": "code",
   "execution_count": 51,
   "metadata": {},
   "outputs": [],
   "source": [
    "df_dates = df_hour.withColumn('week_day', dayofweek(df_hour['date_time']))\\\n",
    "                 .withColumn('year_month', month(df_hour['date_time']))\\\n",
    "                 .withColumn('month_day', dayofmonth(df_hour['date_time']))\\\n",
    "                 .withColumn('date_number', datediff(df['date_time'], to_date(lit('2001-01-01'), format='yyyy-MM-dd')))\\\n",
    "                 .cache()"
   ]
  },
  {
   "cell_type": "code",
   "execution_count": 52,
   "metadata": {},
   "outputs": [
    {
     "name": "stdout",
     "output_type": "stream",
     "text": [
      "+----------------------+----------+----+--------+----+----------+---------+-----------+\n",
      "|date                  |month     |hour|week_day|year|year_month|month_day|date_number|\n",
      "+----------------------+----------+----+--------+----+----------+---------+-----------+\n",
      "|05/03/2016 11:40:00 PM|2016-01-01|23  |3       |2016|5         |3        |5601       |\n",
      "|05/03/2016 11:31:00 PM|2016-01-01|23  |3       |2016|5         |3        |5601       |\n",
      "|05/03/2016 10:10:00 PM|2016-01-01|22  |3       |2016|5         |3        |5601       |\n",
      "|05/03/2016 10:00:00 PM|2016-01-01|22  |3       |2016|5         |3        |5601       |\n",
      "|05/03/2016 10:35:00 PM|2016-01-01|22  |3       |2016|5         |3        |5601       |\n",
      "|05/03/2016 10:30:00 PM|2016-01-01|22  |3       |2016|5         |3        |5601       |\n",
      "|05/03/2016 09:30:00 PM|2016-01-01|21  |3       |2016|5         |3        |5601       |\n",
      "|05/03/2016 04:00:00 PM|2016-01-01|16  |3       |2016|5         |3        |5601       |\n",
      "|05/03/2016 10:30:00 PM|2016-01-01|22  |3       |2016|5         |3        |5601       |\n",
      "|05/03/2016 09:44:00 PM|2016-01-01|21  |3       |2016|5         |3        |5601       |\n",
      "|05/03/2016 11:11:00 PM|2016-01-01|23  |3       |2016|5         |3        |5601       |\n",
      "|05/03/2016 05:30:00 PM|2016-01-01|17  |3       |2016|5         |3        |5601       |\n",
      "|05/03/2016 09:00:00 AM|2016-01-01|9   |3       |2016|5         |3        |5601       |\n",
      "|05/03/2016 10:08:00 PM|2016-01-01|22  |3       |2016|5         |3        |5601       |\n",
      "|05/03/2016 04:00:00 PM|2016-01-01|16  |3       |2016|5         |3        |5601       |\n",
      "|05/03/2016 09:45:00 PM|2016-01-01|21  |3       |2016|5         |3        |5601       |\n",
      "|05/03/2016 10:00:00 PM|2016-01-01|22  |3       |2016|5         |3        |5601       |\n",
      "|05/03/2016 08:00:00 PM|2016-01-01|20  |3       |2016|5         |3        |5601       |\n",
      "|05/03/2016 11:00:00 PM|2016-01-01|23  |3       |2016|5         |3        |5601       |\n",
      "|05/03/2016 11:37:00 PM|2016-01-01|23  |3       |2016|5         |3        |5601       |\n",
      "+----------------------+----------+----+--------+----+----------+---------+-----------+\n",
      "only showing top 20 rows\n",
      "\n"
     ]
    }
   ],
   "source": [
    "df_dates.select(['date', 'month', 'hour', 'week_day', 'year', 'year_month', 'month_day', 'date_number']).show(20, truncate=False)"
   ]
  },
  {
   "cell_type": "markdown",
   "metadata": {},
   "source": [
    "## Day of week crime levels\n",
    "\n",
    "It seems intriguing that the're little variance... But bad people are bad all week, aren't they..."
   ]
  },
  {
   "cell_type": "code",
   "execution_count": 53,
   "metadata": {},
   "outputs": [],
   "source": [
    "week_day_crime_counts = df_dates.groupBy('week_day').count()"
   ]
  },
  {
   "cell_type": "code",
   "execution_count": 54,
   "metadata": {},
   "outputs": [],
   "source": [
    "week_day_crime_counts_pddf = pd.DataFrame(week_day_crime_counts.orderBy('week_day').rdd.map(lambda e: e.asDict()).collect())"
   ]
  },
  {
   "cell_type": "code",
   "execution_count": 55,
   "metadata": {},
   "outputs": [
    {
     "data": {
      "text/plain": [
       "<matplotlib.axes._subplots.AxesSubplot at 0x7fedf8d16710>"
      ]
     },
     "execution_count": 55,
     "metadata": {},
     "output_type": "execute_result"
    },
    {
     "data": {
      "image/png": "[encoded data removed]",
      "text/plain": [
       "<Figure size 1440x576 with 1 Axes>"
      ]
     },
     "metadata": {},
     "output_type": "display_data"
    }
   ],
   "source": [
    "sns.barplot(data=week_day_crime_counts_pddf, x='week_day', y='count')"
   ]
  },
  {
   "cell_type": "markdown",
   "metadata": {},
   "source": [
    "## Month of year\n",
    "\n",
    "It seems that May-August are the busiest months for criminals... What could be the reason?"
   ]
  },
  {
   "cell_type": "code",
   "execution_count": 56,
   "metadata": {},
   "outputs": [],
   "source": [
    "year_month_crime_counts = df_dates.groupBy('year_month').count()"
   ]
  },
  {
   "cell_type": "code",
   "execution_count": 57,
   "metadata": {},
   "outputs": [],
   "source": [
    "year_month_crime_counts_pddf = pd.DataFrame(year_month_crime_counts.orderBy('year_month').rdd.map(lambda e: e.asDict()).collect())"
   ]
  },
  {
   "cell_type": "code",
   "execution_count": 58,
   "metadata": {},
   "outputs": [
    {
     "data": {
      "text/html": [
       "<div>\n",
       "<style scoped>\n",
       "    .dataframe tbody tr th:only-of-type {\n",
       "        vertical-align: middle;\n",
       "    }\n",
       "\n",
       "    .dataframe tbody tr th {\n",
       "        vertical-align: top;\n",
       "    }\n",
       "\n",
       "    .dataframe thead th {\n",
       "        text-align: right;\n",
       "    }\n",
       "</style>\n",
       "<table border=\"1\" class=\"dataframe\">\n",
       "  <thead>\n",
       "    <tr style=\"text-align: right;\">\n",
       "      <th></th>\n",
       "      <th>year_month</th>\n",
       "      <th>count</th>\n",
       "    </tr>\n",
       "  </thead>\n",
       "  <tbody>\n",
       "    <tr>\n",
       "      <th>0</th>\n",
       "      <td>1</td>\n",
       "      <td>7</td>\n",
       "    </tr>\n",
       "    <tr>\n",
       "      <th>1</th>\n",
       "      <td>2</td>\n",
       "      <td>5</td>\n",
       "    </tr>\n",
       "    <tr>\n",
       "      <th>2</th>\n",
       "      <td>3</td>\n",
       "      <td>18</td>\n",
       "    </tr>\n",
       "    <tr>\n",
       "      <th>3</th>\n",
       "      <td>4</td>\n",
       "      <td>139</td>\n",
       "    </tr>\n",
       "    <tr>\n",
       "      <th>4</th>\n",
       "      <td>5</td>\n",
       "      <td>1424</td>\n",
       "    </tr>\n",
       "    <tr>\n",
       "      <th>5</th>\n",
       "      <td>6</td>\n",
       "      <td>10</td>\n",
       "    </tr>\n",
       "    <tr>\n",
       "      <th>6</th>\n",
       "      <td>7</td>\n",
       "      <td>9</td>\n",
       "    </tr>\n",
       "    <tr>\n",
       "      <th>7</th>\n",
       "      <td>8</td>\n",
       "      <td>24</td>\n",
       "    </tr>\n",
       "    <tr>\n",
       "      <th>8</th>\n",
       "      <td>9</td>\n",
       "      <td>21</td>\n",
       "    </tr>\n",
       "    <tr>\n",
       "      <th>9</th>\n",
       "      <td>10</td>\n",
       "      <td>3</td>\n",
       "    </tr>\n",
       "    <tr>\n",
       "      <th>10</th>\n",
       "      <td>11</td>\n",
       "      <td>8</td>\n",
       "    </tr>\n",
       "    <tr>\n",
       "      <th>11</th>\n",
       "      <td>12</td>\n",
       "      <td>5</td>\n",
       "    </tr>\n",
       "  </tbody>\n",
       "</table>\n",
       "</div>"
      ],
      "text/plain": [
       "    year_month  count\n",
       "0            1      7\n",
       "1            2      5\n",
       "2            3     18\n",
       "3            4    139\n",
       "4            5   1424\n",
       "5            6     10\n",
       "6            7      9\n",
       "7            8     24\n",
       "8            9     21\n",
       "9           10      3\n",
       "10          11      8\n",
       "11          12      5"
      ]
     },
     "execution_count": 58,
     "metadata": {},
     "output_type": "execute_result"
    }
   ],
   "source": [
    "year_month_crime_counts_pddf"
   ]
  },
  {
   "cell_type": "markdown",
   "metadata": {},
   "source": [
    "What happens in MAY through AUGUST?\n",
    "\n",
    " * Salary increase season?\n",
    " * Weather?\n",
    "\n",
    "I think these don't form the Christmas season in Chicago..."
   ]
  },
  {
   "cell_type": "code",
   "execution_count": 59,
   "metadata": {},
   "outputs": [
    {
     "data": {
      "text/plain": [
       "<matplotlib.axes._subplots.AxesSubplot at 0x7fedf8c48910>"
      ]
     },
     "execution_count": 59,
     "metadata": {},
     "output_type": "execute_result"
    },
    {
     "data": {
      "image/png": "[encoded data removed]",
      "text/plain": [
       "<Figure size 1440x576 with 1 Axes>"
      ]
     },
     "metadata": {},
     "output_type": "display_data"
    }
   ],
   "source": [
    "sns.barplot(data=year_month_crime_counts_pddf, y='count', x='year_month')"
   ]
  },
  {
   "cell_type": "markdown",
   "metadata": {},
   "source": [
    "## Day of month"
   ]
  },
  {
   "cell_type": "code",
   "execution_count": 60,
   "metadata": {},
   "outputs": [],
   "source": [
    "month_day_crime_counts = df_dates.groupBy('month_day').count()"
   ]
  },
  {
   "cell_type": "code",
   "execution_count": 61,
   "metadata": {},
   "outputs": [],
   "source": [
    "month_day_crime_counts_pddf = pd.DataFrame(month_day_crime_counts.orderBy('month_day').rdd.map(lambda e: e.asDict()).collect())"
   ]
  },
  {
   "cell_type": "markdown",
   "metadata": {},
   "source": [
    "#### Top 10 worst days of the month"
   ]
  },
  {
   "cell_type": "code",
   "execution_count": 62,
   "metadata": {},
   "outputs": [
    {
     "data": {
      "text/html": [
       "<div>\n",
       "<style scoped>\n",
       "    .dataframe tbody tr th:only-of-type {\n",
       "        vertical-align: middle;\n",
       "    }\n",
       "\n",
       "    .dataframe tbody tr th {\n",
       "        vertical-align: top;\n",
       "    }\n",
       "\n",
       "    .dataframe thead th {\n",
       "        text-align: right;\n",
       "    }\n",
       "</style>\n",
       "<table border=\"1\" class=\"dataframe\">\n",
       "  <thead>\n",
       "    <tr style=\"text-align: right;\">\n",
       "      <th></th>\n",
       "      <th>month_day</th>\n",
       "      <th>count</th>\n",
       "    </tr>\n",
       "  </thead>\n",
       "  <tbody>\n",
       "    <tr>\n",
       "      <th>4</th>\n",
       "      <td>5</td>\n",
       "      <td>543</td>\n",
       "    </tr>\n",
       "    <tr>\n",
       "      <th>3</th>\n",
       "      <td>4</td>\n",
       "      <td>538</td>\n",
       "    </tr>\n",
       "    <tr>\n",
       "      <th>2</th>\n",
       "      <td>3</td>\n",
       "      <td>165</td>\n",
       "    </tr>\n",
       "    <tr>\n",
       "      <th>5</th>\n",
       "      <td>6</td>\n",
       "      <td>142</td>\n",
       "    </tr>\n",
       "    <tr>\n",
       "      <th>1</th>\n",
       "      <td>2</td>\n",
       "      <td>26</td>\n",
       "    </tr>\n",
       "    <tr>\n",
       "      <th>0</th>\n",
       "      <td>1</td>\n",
       "      <td>22</td>\n",
       "    </tr>\n",
       "    <tr>\n",
       "      <th>14</th>\n",
       "      <td>15</td>\n",
       "      <td>15</td>\n",
       "    </tr>\n",
       "    <tr>\n",
       "      <th>23</th>\n",
       "      <td>24</td>\n",
       "      <td>15</td>\n",
       "    </tr>\n",
       "    <tr>\n",
       "      <th>29</th>\n",
       "      <td>30</td>\n",
       "      <td>15</td>\n",
       "    </tr>\n",
       "    <tr>\n",
       "      <th>12</th>\n",
       "      <td>13</td>\n",
       "      <td>14</td>\n",
       "    </tr>\n",
       "  </tbody>\n",
       "</table>\n",
       "</div>"
      ],
      "text/plain": [
       "    month_day  count\n",
       "4           5    543\n",
       "3           4    538\n",
       "2           3    165\n",
       "5           6    142\n",
       "1           2     26\n",
       "0           1     22\n",
       "14         15     15\n",
       "23         24     15\n",
       "29         30     15\n",
       "12         13     14"
      ]
     },
     "execution_count": 62,
     "metadata": {},
     "output_type": "execute_result"
    }
   ],
   "source": [
    "month_day_crime_counts_pddf.sort_values(by='count', ascending=False).head(10)"
   ]
  },
  {
   "cell_type": "code",
   "execution_count": 63,
   "metadata": {},
   "outputs": [],
   "source": [
    "month_day_crime_counts_pddf = month_day_crime_counts_pddf.sort_values(by='month_day', ascending=True)"
   ]
  },
  {
   "cell_type": "code",
   "execution_count": 64,
   "metadata": {},
   "outputs": [
    {
     "data": {
      "text/plain": [
       "<matplotlib.legend.Legend at 0x7fedf8bb1b90>"
      ]
     },
     "execution_count": 64,
     "metadata": {},
     "output_type": "execute_result"
    },
    {
     "data": {
      "image/png": "[encoded data removed]",
      "text/plain": [
       "<Figure size 1440x576 with 1 Axes>"
      ]
     },
     "metadata": {},
     "output_type": "display_data"
    }
   ],
   "source": [
    "fg, ax = plt.subplots()\n",
    "\n",
    "ax.plot(month_day_crime_counts_pddf['month_day'], month_day_crime_counts_pddf['count'], label='Crimes over the month')\n",
    "\n",
    "ax.grid(b=True, which='both')\n",
    "ax.legend()"
   ]
  },
  {
   "cell_type": "code",
   "execution_count": 132,
   "metadata": {},
   "outputs": [
    {
     "data": {
      "image/png": "[encoded data removed]",
      "text/plain": [
       "<Figure size 1440x720 with 1 Axes>"
      ]
     },
     "metadata": {
      "needs_background": "light"
     },
     "output_type": "display_data"
    }
   ],
   "source": [
    "number_of_crimes_per_year = number_of_crimes_per_year.sort_values(by = \"year\")\n",
    "number_of_crimes_per_year.plot(figsize = (20,10), kind = \"bar\", color = \"red\",\n",
    "                               x = \"year\", y = \"count\", legend = False)\n",
    "plt.xlabel(\"\", fontsize = 18)\n",
    "plt.ylabel(\"Number of Crimes\", fontsize = 18)\n",
    "plt.title(\"Number of Crimes Per Year\", fontsize = 28)\n",
    "plt.xticks(size = 18)\n",
    "plt.yticks(size = 18)\n",
    "plt.show()"
   ]
  },
  {
   "cell_type": "markdown",
   "metadata": {},
   "source": [
    "### Community areas?\n",
    "\n",
    "Chicago has 77 community areas. How do they appear next to one another in a count plot?"
   ]
  },
  {
   "cell_type": "code",
   "execution_count": 65,
   "metadata": {},
   "outputs": [],
   "source": [
    "df_dates_community_areas = df_dates.na.drop(subset=['community_area']).groupBy('community_area').count()"
   ]
  },
  {
   "cell_type": "markdown",
   "metadata": {},
   "source": [
    "What are the to 10 areas with recorded crime?"
   ]
  },
  {
   "cell_type": "code",
   "execution_count": 66,
   "metadata": {
    "scrolled": true
   },
   "outputs": [
    {
     "name": "stdout",
     "output_type": "stream",
     "text": [
      "+--------------+-----+\n",
      "|community_area|count|\n",
      "+--------------+-----+\n",
      "|            25|  101|\n",
      "|             8|   64|\n",
      "|            67|   63|\n",
      "|            29|   59|\n",
      "|            24|   53|\n",
      "|            26|   51|\n",
      "|            43|   49|\n",
      "|            28|   49|\n",
      "|            23|   49|\n",
      "|            66|   48|\n",
      "+--------------+-----+\n",
      "only showing top 10 rows\n",
      "\n"
     ]
    }
   ],
   "source": [
    "df_dates_community_areas.orderBy('count', ascending=False).show(10)"
   ]
  },
  {
   "cell_type": "code",
   "execution_count": 67,
   "metadata": {},
   "outputs": [],
   "source": [
    "## Is it possible to see how the top crime types occur in the top crime-affected areas?\n",
    "top_crime_types = df_dates.select('primary_type').groupBy('primary_type').count().rdd.map(lambda row: row.asDict()).takeOrdered(10, key=lambda l: 1/l['count'])\n",
    "top_busy_areas =  df_dates_community_areas.rdd.map(lambda row: row.asDict()).takeOrdered(10, key=lambda l: 1/l['count'])"
   ]
  },
  {
   "cell_type": "code",
   "execution_count": 68,
   "metadata": {},
   "outputs": [],
   "source": [
    "top_crime_types_lst = [dc['primary_type'] for dc in top_crime_types]\n",
    "top_busy_areas_lst = [dc['community_area'] for dc in top_busy_areas]"
   ]
  },
  {
   "cell_type": "code",
   "execution_count": 69,
   "metadata": {},
   "outputs": [
    {
     "data": {
      "text/plain": [
       "['THEFT',\n",
       " 'BATTERY',\n",
       " 'NARCOTICS',\n",
       " 'CRIMINAL DAMAGE',\n",
       " 'OTHER OFFENSE',\n",
       " 'ASSAULT',\n",
       " 'DECEPTIVE PRACTICE',\n",
       " 'MOTOR VEHICLE THEFT',\n",
       " 'ROBBERY',\n",
       " 'BURGLARY']"
      ]
     },
     "execution_count": 69,
     "metadata": {},
     "output_type": "execute_result"
    }
   ],
   "source": [
    "top_crime_types_lst"
   ]
  },
  {
   "cell_type": "code",
   "execution_count": 70,
   "metadata": {},
   "outputs": [
    {
     "data": {
      "text/plain": [
       "[25, 8, 67, 29, 24, 26, 28, 43, 23, 66]"
      ]
     },
     "execution_count": 70,
     "metadata": {},
     "output_type": "execute_result"
    }
   ],
   "source": [
    "top_busy_areas_lst"
   ]
  },
  {
   "cell_type": "markdown",
   "metadata": {},
   "source": [
    "Find crimes of the top 10 types, that were perpetrated in the 10 10 busiest cities..."
   ]
  },
  {
   "cell_type": "code",
   "execution_count": 71,
   "metadata": {},
   "outputs": [
    {
     "name": "stdout",
     "output_type": "stream",
     "text": [
      "instr('25 8 67 29 24 26 28 43 23 66', community_area) > 0\n"
     ]
    }
   ],
   "source": [
    "q1 = \"instr('\" + ' '.join([str(i) for i in top_busy_areas_lst]) + \"', community_area) > 0\"\n",
    "q2 = \"instr('\" + ' '.join([str(i) for i in top_crime_types_lst])+ \"', primary_type) > 0\"\n",
    "print(q1)"
   ]
  },
  {
   "cell_type": "code",
   "execution_count": 72,
   "metadata": {},
   "outputs": [],
   "source": [
    "## Construct a data frame filtered on these top community areas and top crime types:\n",
    "df_dates_tops = df_dates.filter(q1).filter(q2)"
   ]
  },
  {
   "cell_type": "code",
   "execution_count": 73,
   "metadata": {},
   "outputs": [
    {
     "data": {
      "text/plain": [
       "654"
      ]
     },
     "execution_count": 73,
     "metadata": {},
     "output_type": "execute_result"
    }
   ],
   "source": [
    "df_dates_tops.count()"
   ]
  },
  {
   "cell_type": "code",
   "execution_count": 74,
   "metadata": {},
   "outputs": [],
   "source": [
    "tops_of_tops = df_dates_tops.groupBy(['primary_type', 'community_area']).count().orderBy(['primary_type', 'count', 'community_area'], ascending=[True, False, True]).cache()"
   ]
  },
  {
   "cell_type": "code",
   "execution_count": 75,
   "metadata": {},
   "outputs": [
    {
     "name": "stdout",
     "output_type": "stream",
     "text": [
      "+------------+--------------+-----+\n",
      "|primary_type|community_area|count|\n",
      "+------------+--------------+-----+\n",
      "|     ASSAULT|            29|    8|\n",
      "|     ASSAULT|            25|    6|\n",
      "|     ASSAULT|            43|    6|\n",
      "|     ASSAULT|            23|    5|\n",
      "|     ASSAULT|            67|    4|\n",
      "|     ASSAULT|             6|    3|\n",
      "|     ASSAULT|            24|    3|\n",
      "|     ASSAULT|            28|    3|\n",
      "|     ASSAULT|            66|    3|\n",
      "|     ASSAULT|            26|    2|\n",
      "|     ASSAULT|             2|    1|\n",
      "|     ASSAULT|             3|    1|\n",
      "|     BATTERY|            25|   21|\n",
      "|     BATTERY|            23|   10|\n",
      "|     BATTERY|            29|   10|\n",
      "|     BATTERY|            43|   10|\n",
      "|     BATTERY|             8|    9|\n",
      "|     BATTERY|            66|    9|\n",
      "|     BATTERY|            26|    8|\n",
      "|     BATTERY|             4|    5|\n",
      "+------------+--------------+-----+\n",
      "only showing top 20 rows\n",
      "\n"
     ]
    }
   ],
   "source": [
    "tops_of_tops.show(20)"
   ]
  },
  {
   "cell_type": "markdown",
   "metadata": {},
   "source": [
    "#### Community area names\n",
    "\n",
    "Let's link names of these community areas. These float numbers are having a hard time making any sense...\n",
    "\n",
    "Sourced from Chicago Tribune at http://www.chicagotribune.com/chi-community-areas-htmlstory.html\n"
   ]
  },
  {
   "cell_type": "code",
   "execution_count": 76,
   "metadata": {},
   "outputs": [],
   "source": [
    "area_names = \"\"\"\n",
    "01\tRogers Park\t\n",
    "40\tWashington Park\n",
    "02\tWest Ridge\t\n",
    "41\tHyde Park\n",
    "03\tUptown\t\n",
    "42\tWoodlawn\n",
    "04\tLincoln Square\t\n",
    "43\tSouth Shore\n",
    "05\tNorth Center\t\n",
    "44\tChatham\n",
    "06\tLakeview\t\n",
    "45\tAvalon Park\n",
    "07\tLincoln Park\t\n",
    "46\tSouth Chicago\n",
    "08\tNear North Side\t\n",
    "47\tBurnside\n",
    "09\tEdison Park\t\n",
    "48\tCalumet Heights\n",
    "10\tNorwood Park\t\n",
    "49\tRoseland\n",
    "11\tJefferson Park\t\n",
    "50\tPullman\n",
    "12\tForest Glen\t\n",
    "51\tSouth Deering\n",
    "13\tNorth Park\t\n",
    "52\tEast Side\n",
    "14\tAlbany Park\t\n",
    "53\tWest Pullman\n",
    "15\tPortage Park\t\n",
    "54\tRiverdale\n",
    "16\tIrving Park\t\n",
    "55\tHegewisch\n",
    "17\tDunning\t\n",
    "56\tGarfield Ridge\n",
    "18\tMontclare\t\n",
    "57\tArcher Heights\n",
    "19\tBelmont Cragin\t\n",
    "58\tBrighton Park\n",
    "20\tHermosa\t\n",
    "59\tMcKinley Park\n",
    "21\tAvondale\t\n",
    "60\tBridgeport\n",
    "22\tLogan Square\t\n",
    "61\tNew City\n",
    "23\tHumboldt Park\t\n",
    "62\tWest Elsdon\n",
    "24\tWest Town\t\n",
    "63\tGage Park\n",
    "25\tAustin\t\n",
    "64\tClearing\n",
    "26\tWest Garfield Park \t\n",
    "65\tWest Lawn\n",
    "27\tEast Garfield Park\t\n",
    "66\tChicago Lawn\n",
    "28\tNear West Side\t\n",
    "67\tWest Englewood\n",
    "29\tNorth Lawndale\t\n",
    "68\tEnglewood\n",
    "30\tSouth Lawndale\t\n",
    "69\tGreater Grand Crossing\n",
    "31\tLower West Side\t\n",
    "70\tAshburn\n",
    "32\tLoop\t\n",
    "71\tAuburn Gresham\t\n",
    "33\tNear South Side\t\n",
    "72\tBeverly\n",
    "34\tArmour Square\t\n",
    "73\tWashington Heights\n",
    "35\tDouglas\t\n",
    "74\tMount Greenwood\n",
    "36\tOakland\t\n",
    "75\tMorgan Park\n",
    "37\tFuller Park\t\n",
    "76\tO'Hare\n",
    "38\tGrand Boulevard\t\n",
    "77\tEdgewater\n",
    "39\tKenwood\t\n",
    "\"\"\""
   ]
  },
  {
   "cell_type": "code",
   "execution_count": 77,
   "metadata": {},
   "outputs": [],
   "source": [
    "code_pairs = [[float(p[0]), p[1]] for p in [pair.strip().split('\\t') for pair in area_names.strip().split('\\n')]]"
   ]
  },
  {
   "cell_type": "code",
   "execution_count": 78,
   "metadata": {},
   "outputs": [
    {
     "data": {
      "text/plain": [
       "[[1.0, 'Rogers Park'],\n",
       " [40.0, 'Washington Park'],\n",
       " [2.0, 'West Ridge'],\n",
       " [41.0, 'Hyde Park'],\n",
       " [3.0, 'Uptown']]"
      ]
     },
     "execution_count": 78,
     "metadata": {},
     "output_type": "execute_result"
    }
   ],
   "source": [
    "code_pairs[:5]"
   ]
  },
  {
   "cell_type": "markdown",
   "metadata": {},
   "source": [
    "#### A view of crime count per community area"
   ]
  },
  {
   "cell_type": "code",
   "execution_count": 79,
   "metadata": {},
   "outputs": [],
   "source": [
    "community_area_counts = pd.DataFrame(df_dates_community_areas.rdd.map(lambda row: row.asDict()).collect())"
   ]
  },
  {
   "cell_type": "code",
   "execution_count": 80,
   "metadata": {},
   "outputs": [],
   "source": [
    "# Create a dictionary of area code to names\n",
    "area_name_dic = {float(k[0]):k[1] for k in code_pairs}"
   ]
  },
  {
   "cell_type": "code",
   "execution_count": 81,
   "metadata": {},
   "outputs": [],
   "source": [
    "community_area_counts['community_area_name'] = community_area_counts['community_area'].apply(lambda area: area_name_dic.get(float(area),  'unknown_%s'%area))"
   ]
  },
  {
   "cell_type": "code",
   "execution_count": 82,
   "metadata": {},
   "outputs": [
    {
     "data": {
      "text/html": [
       "<div>\n",
       "<style scoped>\n",
       "    .dataframe tbody tr th:only-of-type {\n",
       "        vertical-align: middle;\n",
       "    }\n",
       "\n",
       "    .dataframe tbody tr th {\n",
       "        vertical-align: top;\n",
       "    }\n",
       "\n",
       "    .dataframe thead th {\n",
       "        text-align: right;\n",
       "    }\n",
       "</style>\n",
       "<table border=\"1\" class=\"dataframe\">\n",
       "  <thead>\n",
       "    <tr style=\"text-align: right;\">\n",
       "      <th></th>\n",
       "      <th>community_area</th>\n",
       "      <th>count</th>\n",
       "      <th>community_area_name</th>\n",
       "    </tr>\n",
       "  </thead>\n",
       "  <tbody>\n",
       "    <tr>\n",
       "      <th>31</th>\n",
       "      <td>9</td>\n",
       "      <td>1</td>\n",
       "      <td>Edison Park</td>\n",
       "    </tr>\n",
       "    <tr>\n",
       "      <th>32</th>\n",
       "      <td>72</td>\n",
       "      <td>2</td>\n",
       "      <td>Beverly</td>\n",
       "    </tr>\n",
       "    <tr>\n",
       "      <th>36</th>\n",
       "      <td>55</td>\n",
       "      <td>2</td>\n",
       "      <td>Hegewisch</td>\n",
       "    </tr>\n",
       "    <tr>\n",
       "      <th>3</th>\n",
       "      <td>34</td>\n",
       "      <td>3</td>\n",
       "      <td>Armour Square</td>\n",
       "    </tr>\n",
       "    <tr>\n",
       "      <th>47</th>\n",
       "      <td>50</td>\n",
       "      <td>3</td>\n",
       "      <td>Pullman</td>\n",
       "    </tr>\n",
       "  </tbody>\n",
       "</table>\n",
       "</div>"
      ],
      "text/plain": [
       "    community_area  count community_area_name\n",
       "31               9      1         Edison Park\n",
       "32              72      2             Beverly\n",
       "36              55      2           Hegewisch\n",
       "3               34      3       Armour Square\n",
       "47              50      3             Pullman"
      ]
     },
     "execution_count": 82,
     "metadata": {},
     "output_type": "execute_result"
    }
   ],
   "source": [
    "community_area_counts = community_area_counts.sort_values(by='count')\n",
    "community_area_counts.head(5)"
   ]
  },
  {
   "cell_type": "markdown",
   "metadata": {},
   "source": [
    "**What is happening in Austin?**"
   ]
  },
  {
   "cell_type": "markdown",
   "metadata": {},
   "source": [
    "plt.rcParams[\"figure.figsize\"] = [32, 32]\n",
    "\n",
    "sns.set(style=\"whitegrid\")\n",
    "sns.set_color_codes(\"pastel\")\n",
    "\n",
    "#sns.despine(left=True, bottom=True)\n",
    "area_chart = sns.barplot(x='count', y='community_area_name', data=community_area_counts)\n",
    "area_chart.set(ylabel=\"Community Area Name\", xlabel=\"Overall Crimes Record Count\")"
   ]
  },
  {
   "cell_type": "markdown",
   "metadata": {},
   "source": [
    "** *Join these community areas on the main data frame* **"
   ]
  },
  {
   "cell_type": "code",
   "execution_count": 83,
   "metadata": {},
   "outputs": [],
   "source": [
    "code_pairs_df = spark.createDataFrame(code_pairs, ['community_area', 'area_name'])"
   ]
  },
  {
   "cell_type": "code",
   "execution_count": 84,
   "metadata": {},
   "outputs": [],
   "source": [
    "named_tops_of_tops = code_pairs_df.join(tops_of_tops, on='community_area', how='right')"
   ]
  },
  {
   "cell_type": "code",
   "execution_count": 85,
   "metadata": {
    "scrolled": true
   },
   "outputs": [
    {
     "name": "stdout",
     "output_type": "stream",
     "text": [
      "+--------------+---------------+------------------+-----+\n",
      "|community_area|      area_name|      primary_type|count|\n",
      "+--------------+---------------+------------------+-----+\n",
      "|             8|Near North Side|           BATTERY|    9|\n",
      "|             8|Near North Side|          BURGLARY|    1|\n",
      "|             8|Near North Side|   CRIMINAL DAMAGE|    4|\n",
      "|             8|Near North Side|DECEPTIVE PRACTICE|    6|\n",
      "|             8|Near North Side|         NARCOTICS|    3|\n",
      "|             8|Near North Side|     OTHER OFFENSE|    3|\n",
      "|             8|Near North Side|           ROBBERY|    2|\n",
      "|             8|Near North Side|             THEFT|   33|\n",
      "|            67| West Englewood|           ASSAULT|    4|\n",
      "|            67| West Englewood|           BATTERY|    4|\n",
      "+--------------+---------------+------------------+-----+\n",
      "only showing top 10 rows\n",
      "\n"
     ]
    }
   ],
   "source": [
    "named_tops_of_tops.show(10)"
   ]
  },
  {
   "cell_type": "code",
   "execution_count": 86,
   "metadata": {},
   "outputs": [],
   "source": [
    "tops_of_tops_dff = pd.DataFrame(named_tops_of_tops.rdd.map(lambda l: l.asDict()).collect() )"
   ]
  },
  {
   "cell_type": "code",
   "execution_count": 87,
   "metadata": {
    "scrolled": false
   },
   "outputs": [
    {
     "data": {
      "text/plain": [
       "<matplotlib.axes._subplots.AxesSubplot at 0x7fedf07ce2d0>"
      ]
     },
     "execution_count": 87,
     "metadata": {},
     "output_type": "execute_result"
    },
    {
     "data": {
      "image/png": "[encoded data removed]",
      "text/plain": [
       "<Figure size 4608x1152 with 1 Axes>"
      ]
     },
     "metadata": {},
     "output_type": "display_data"
    }
   ],
   "source": [
    "plt.rcParams[\"figure.figsize\"] = [64, 16]\n",
    "sns.barplot(data=tops_of_tops_dff, x='area_name', y='count', hue='primary_type', palette='pastel')"
   ]
  },
  {
   "cell_type": "markdown",
   "metadata": {},
   "source": [
    "---\n",
    "\n",
    "\n",
    "# Can we try to predict the primary type of crime?\n",
    "\n",
    "Now on to another objective of this exercise. We're going to try to predict what kind of crime is going to occur given the selected features.\n",
    "\n",
    "Speaking about features, here's the list of predictors that We chose to go for:\n",
    "\n",
    "### Excluded variables:\n",
    "\n",
    " * 'id' - Random information that isn't a predictor of crime type\n",
    " * 'case_number' - Random information that isn't a predictor of crime type\n",
    " * 'date' - Removed because it's been re-featurized in other features generated above\n",
    " * 'block' - Excluded as this may simply mean noise\n",
    " * 'iucr' - Excluded as correlated with crime type. No point.\n",
    " * 'x_coordinate' - Not included\n",
    " * 'y_coordinate' - Not included\n",
    " * 'year' - Not included (already otherwise featurized)\n",
    " * 'updated_on' - not included\n",
    " * 'latitude' - not included\n",
    " * 'longitude' - not included\n",
    " * 'location' - not included\n",
    " * 'date_time' - Taken into account in other time-related features\n",
    " * 'description' - Excluded. I want to see this as associated with the response (primary type)\n",
    "\n",
    "\n",
    "### Selected predictors:\n",
    "\n",
    " * 'location_description'\n",
    " * 'arrest'\n",
    " * 'domestic'\n",
    " * 'beat'\n",
    " * 'district'\n",
    " * 'ward'\n",
    " * 'community_area'\n",
    " * 'fbi_code'\n",
    " * 'hour'\n",
    " * 'week_day'\n",
    " * 'year_month'\n",
    " * 'month_day'\n",
    " * 'date_number'"
   ]
  },
  {
   "cell_type": "code",
   "execution_count": 88,
   "metadata": {},
   "outputs": [],
   "source": [
    "selected_features = [\n",
    " 'location_description',\n",
    " 'arrest',\n",
    " 'domestic',\n",
    " 'beat',\n",
    " 'district',\n",
    " 'ward',\n",
    " 'community_area',\n",
    " 'fbi_code',\n",
    " 'hour',\n",
    " 'week_day',\n",
    " 'year_month',\n",
    " 'month_day',\n",
    " 'date_number']"
   ]
  },
  {
   "cell_type": "code",
   "execution_count": 89,
   "metadata": {},
   "outputs": [
    {
     "name": "stdout",
     "output_type": "stream",
     "text": [
      "root\n",
      " |-- location_description: string (nullable = true)\n",
      " |-- arrest: integer (nullable = true)\n",
      " |-- domestic: integer (nullable = true)\n",
      " |-- beat: integer (nullable = true)\n",
      " |-- district: integer (nullable = true)\n",
      " |-- ward: integer (nullable = true)\n",
      " |-- community_area: integer (nullable = true)\n",
      " |-- fbi_code: string (nullable = true)\n",
      " |-- hour: integer (nullable = true)\n",
      " |-- week_day: integer (nullable = true)\n",
      " |-- year_month: integer (nullable = true)\n",
      " |-- month_day: integer (nullable = true)\n",
      " |-- date_number: integer (nullable = true)\n",
      "\n"
     ]
    }
   ],
   "source": [
    "#Let's see the schema of these selected features:\n",
    "features_df = df_dates.select(selected_features)\n",
    "features_df.printSchema()"
   ]
  },
  {
   "cell_type": "markdown",
   "metadata": {},
   "source": [
    "Let's try to see all level counts in all the selected features..."
   ]
  },
  {
   "cell_type": "code",
   "execution_count": 90,
   "metadata": {},
   "outputs": [
    {
     "name": "stdout",
     "output_type": "stream",
     "text": [
      "Analysing location_description\n",
      "Analysing arrest\n",
      "Analysing domestic\n",
      "Analysing beat\n",
      "Analysing district\n",
      "Analysing ward\n",
      "Analysing community_area\n",
      "Analysing fbi_code\n",
      "Analysing hour\n",
      "Analysing week_day\n",
      "Analysing year_month\n",
      "Analysing month_day\n",
      "Analysing date_number\n"
     ]
    }
   ],
   "source": [
    "feature_level_count_dic = []\n",
    "\n",
    "for feature in selected_features:\n",
    "    print('Analysing %s' % feature)\n",
    "    levels_list_df = features_df.select(feature).distinct()\n",
    "    feature_level_count_dic.append({'feature': feature, 'level_count': levels_list_df.count()})\n"
   ]
  },
  {
   "cell_type": "code",
   "execution_count": 91,
   "metadata": {},
   "outputs": [
    {
     "data": {
      "text/html": [
       "<div>\n",
       "<style scoped>\n",
       "    .dataframe tbody tr th:only-of-type {\n",
       "        vertical-align: middle;\n",
       "    }\n",
       "\n",
       "    .dataframe tbody tr th {\n",
       "        vertical-align: top;\n",
       "    }\n",
       "\n",
       "    .dataframe thead th {\n",
       "        text-align: right;\n",
       "    }\n",
       "</style>\n",
       "<table border=\"1\" class=\"dataframe\">\n",
       "  <thead>\n",
       "    <tr style=\"text-align: right;\">\n",
       "      <th></th>\n",
       "      <th>feature</th>\n",
       "      <th>level_count</th>\n",
       "    </tr>\n",
       "  </thead>\n",
       "  <tbody>\n",
       "    <tr>\n",
       "      <th>3</th>\n",
       "      <td>beat</td>\n",
       "      <td>268</td>\n",
       "    </tr>\n",
       "    <tr>\n",
       "      <th>12</th>\n",
       "      <td>date_number</td>\n",
       "      <td>135</td>\n",
       "    </tr>\n",
       "    <tr>\n",
       "      <th>6</th>\n",
       "      <td>community_area</td>\n",
       "      <td>75</td>\n",
       "    </tr>\n",
       "    <tr>\n",
       "      <th>0</th>\n",
       "      <td>location_description</td>\n",
       "      <td>68</td>\n",
       "    </tr>\n",
       "    <tr>\n",
       "      <th>5</th>\n",
       "      <td>ward</td>\n",
       "      <td>50</td>\n",
       "    </tr>\n",
       "    <tr>\n",
       "      <th>11</th>\n",
       "      <td>month_day</td>\n",
       "      <td>31</td>\n",
       "    </tr>\n",
       "    <tr>\n",
       "      <th>7</th>\n",
       "      <td>fbi_code</td>\n",
       "      <td>26</td>\n",
       "    </tr>\n",
       "    <tr>\n",
       "      <th>8</th>\n",
       "      <td>hour</td>\n",
       "      <td>24</td>\n",
       "    </tr>\n",
       "    <tr>\n",
       "      <th>4</th>\n",
       "      <td>district</td>\n",
       "      <td>22</td>\n",
       "    </tr>\n",
       "    <tr>\n",
       "      <th>10</th>\n",
       "      <td>year_month</td>\n",
       "      <td>12</td>\n",
       "    </tr>\n",
       "    <tr>\n",
       "      <th>9</th>\n",
       "      <td>week_day</td>\n",
       "      <td>7</td>\n",
       "    </tr>\n",
       "    <tr>\n",
       "      <th>1</th>\n",
       "      <td>arrest</td>\n",
       "      <td>2</td>\n",
       "    </tr>\n",
       "    <tr>\n",
       "      <th>2</th>\n",
       "      <td>domestic</td>\n",
       "      <td>2</td>\n",
       "    </tr>\n",
       "  </tbody>\n",
       "</table>\n",
       "</div>"
      ],
      "text/plain": [
       "                 feature  level_count\n",
       "3                   beat          268\n",
       "12           date_number          135\n",
       "6         community_area           75\n",
       "0   location_description           68\n",
       "5                   ward           50\n",
       "11             month_day           31\n",
       "7               fbi_code           26\n",
       "8                   hour           24\n",
       "4               district           22\n",
       "10            year_month           12\n",
       "9               week_day            7\n",
       "1                 arrest            2\n",
       "2               domestic            2"
      ]
     },
     "execution_count": 91,
     "metadata": {},
     "output_type": "execute_result"
    }
   ],
   "source": [
    "pd.DataFrame(feature_level_count_dic).sort_values(by='level_count', ascending=False)"
   ]
  },
  {
   "cell_type": "markdown",
   "metadata": {},
   "source": [
    "### Preparing model"
   ]
  },
  {
   "cell_type": "code",
   "execution_count": 92,
   "metadata": {},
   "outputs": [],
   "source": [
    "from pyspark.ml.feature import StringIndexer, VectorAssembler\n",
    "df_dates_features = df_dates.na.drop(subset=selected_features)"
   ]
  },
  {
   "cell_type": "markdown",
   "metadata": {},
   "source": [
    "Let us use Spark's string indexer to index selected features"
   ]
  },
  {
   "cell_type": "code",
   "execution_count": 93,
   "metadata": {},
   "outputs": [
    {
     "name": "stdout",
     "output_type": "stream",
     "text": [
      "Fitting feature \"location_description\"\n",
      "Transforming \"location_description\"\n",
      "Fitting feature \"arrest\"\n",
      "Transforming \"arrest\"\n",
      "Fitting feature \"domestic\"\n",
      "Transforming \"domestic\"\n",
      "Fitting feature \"beat\"\n",
      "Transforming \"beat\"\n",
      "Fitting feature \"district\"\n",
      "Transforming \"district\"\n",
      "Fitting feature \"ward\"\n",
      "Transforming \"ward\"\n",
      "Fitting feature \"community_area\"\n",
      "Transforming \"community_area\"\n",
      "Fitting feature \"fbi_code\"\n",
      "Transforming \"fbi_code\"\n",
      "Fitting feature \"hour\"\n",
      "Transforming \"hour\"\n",
      "Fitting feature \"week_day\"\n",
      "Transforming \"week_day\"\n",
      "Fitting feature \"year_month\"\n",
      "Transforming \"year_month\"\n",
      "Fitting feature \"month_day\"\n",
      "Transforming \"month_day\"\n",
      "Fitting feature \"date_number\"\n",
      "Transforming \"date_number\"\n"
     ]
    }
   ],
   "source": [
    "for feature in feature_level_count_dic:\n",
    "    indexer = StringIndexer(inputCol=feature['feature'], outputCol='%s_indexed' % feature['feature'])\n",
    "    print('Fitting feature \"%s\"' % feature['feature'])\n",
    "    model = indexer.fit(df_dates_features)\n",
    "    print('Transforming \"%s\"' % feature['feature'])\n",
    "    df_dates_features = model.transform(df_dates_features)"
   ]
  },
  {
   "cell_type": "markdown",
   "metadata": {},
   "source": [
    "Now let's do the same with the label"
   ]
  },
  {
   "cell_type": "code",
   "execution_count": 94,
   "metadata": {},
   "outputs": [],
   "source": [
    "## String-index the response variable:\n",
    "response_indexer = StringIndexer(inputCol='primary_type', outputCol='primary_type_indexed')\n",
    "response_model = response_indexer.fit(df_dates_features)\n",
    "df_dates_features = response_model.transform(df_dates_features)"
   ]
  },
  {
   "cell_type": "code",
   "execution_count": 95,
   "metadata": {},
   "outputs": [
    {
     "name": "stdout",
     "output_type": "stream",
     "text": [
      "+---+----------+--------+-----------+--------------------+------------------+----+------------+--------------------+--------------------+------+--------+----+--------+----+--------------+--------+------------+------------+----+--------------------+------------+-------------+--------------------+-------------------+----------+----+--------+----------+---------+-----------+----------------------------+--------------+----------------+------------+----------------+------------+----------------------+----------------+------------+----------------+------------------+-----------------+-------------------+--------------------+\n",
      "|_c0|Unnamed: 0|      id|case_number|                date|             block|iucr|primary_type|         description|location_description|arrest|domestic|beat|district|ward|community_area|fbi_code|x_coordinate|y_coordinate|year|          updated_on|    latitude|    longitude|            location|          date_time|     month|hour|week_day|year_month|month_day|date_number|location_description_indexed|arrest_indexed|domestic_indexed|beat_indexed|district_indexed|ward_indexed|community_area_indexed|fbi_code_indexed|hour_indexed|week_day_indexed|year_month_indexed|month_day_indexed|date_number_indexed|primary_type_indexed|\n",
      "+---+----------+--------+-----------+--------------------+------------------+----+------------+--------------------+--------------------+------+--------+----+--------+----+--------------+--------+------------+------------+----+--------------------+------------+-------------+--------------------+-------------------+----------+----+--------+----------+---------+-----------+----------------------------+--------------+----------------+------------+----------------+------------+----------------------+----------------+------------+----------------+------------------+-----------------+-------------------+--------------------+\n",
      "|  0|       3.0|10508693|   HZ250496|05/03/2016 11:40:...|013XX S SAWYER AVE| 486|     BATTERY|DOMESTIC BATTERY ...|           APARTMENT|     1|       1|1022|      10|  24|            29|     08B|     1154907|     1893681|2016|05/10/2016 03:56:...|41.864073157|-87.706818608|(41.864073157, -8...|2016-05-03 23:40:00|2016-01-01|  23|       3|         5|        3|       5601|                         2.0|           1.0|             1.0|       118.0|             6.0|         1.0|                   3.0|             2.0|        15.0|             3.0|               0.0|              2.0|                2.0|                 1.0|\n",
      "+---+----------+--------+-----------+--------------------+------------------+----+------------+--------------------+--------------------+------+--------+----+--------+----+--------------+--------+------------+------------+----+--------------------+------------+-------------+--------------------+-------------------+----------+----+--------+----------+---------+-----------+----------------------------+--------------+----------------+------------+----------------+------------+----------------------+----------------+------------+----------------+------------------+-----------------+-------------------+--------------------+\n",
      "only showing top 1 row\n",
      "\n"
     ]
    }
   ],
   "source": [
    "#What does it look like now...\n",
    "df_dates_features.show(1)"
   ]
  },
  {
   "cell_type": "markdown",
   "metadata": {},
   "source": [
    "Let's vectorize the features\n",
    "\n",
    "We use a vector assembler to vectorize all predictors into a `features` column"
   ]
  },
  {
   "cell_type": "code",
   "execution_count": 96,
   "metadata": {},
   "outputs": [
    {
     "data": {
      "text/plain": [
       "['location_description_indexed',\n",
       " 'arrest_indexed',\n",
       " 'domestic_indexed',\n",
       " 'beat_indexed',\n",
       " 'district_indexed',\n",
       " 'ward_indexed',\n",
       " 'community_area_indexed',\n",
       " 'fbi_code_indexed',\n",
       " 'hour_indexed',\n",
       " 'week_day_indexed',\n",
       " 'year_month_indexed',\n",
       " 'month_day_indexed',\n",
       " 'date_number_indexed']"
      ]
     },
     "execution_count": 96,
     "metadata": {},
     "output_type": "execute_result"
    }
   ],
   "source": [
    "indexed_features = ['%s_indexed' % fc['feature'] for fc in feature_level_count_dic]\n",
    "indexed_features"
   ]
  },
  {
   "cell_type": "code",
   "execution_count": 97,
   "metadata": {},
   "outputs": [],
   "source": [
    "assembler = VectorAssembler(inputCols=indexed_features, outputCol='features')\n",
    "vectorized_df_dates = assembler.transform(df_dates_features)"
   ]
  },
  {
   "cell_type": "code",
   "execution_count": 98,
   "metadata": {},
   "outputs": [
    {
     "data": {
      "text/plain": [
       "[Row(features=DenseVector([2.0, 1.0, 1.0, 118.0, 6.0, 1.0, 3.0, 2.0, 15.0, 3.0, 0.0, 2.0, 2.0]))]"
      ]
     },
     "execution_count": 98,
     "metadata": {},
     "output_type": "execute_result"
    }
   ],
   "source": [
    "vectorized_df_dates.select('features').take(1)"
   ]
  },
  {
   "cell_type": "markdown",
   "metadata": {},
   "source": [
    "### Now let's train the model.\n",
    "\n",
    "We're using **60%** to **40%** split between the train and the test datasets\n",
    "\n",
    "Let's try to train a logistic regression."
   ]
  },
  {
   "cell_type": "code",
   "execution_count": 99,
   "metadata": {},
   "outputs": [],
   "source": [
    "train, test = vectorized_df_dates.randomSplit([0.6, 0.4])"
   ]
  },
  {
   "cell_type": "code",
   "execution_count": 100,
   "metadata": {},
   "outputs": [],
   "source": [
    "from pyspark.ml.classification import LogisticRegression"
   ]
  },
  {
   "cell_type": "code",
   "execution_count": 101,
   "metadata": {},
   "outputs": [],
   "source": [
    "logisticRegression = LogisticRegression(labelCol='primary_type_indexed', featuresCol='features', maxIter=10, family='multinomial')"
   ]
  },
  {
   "cell_type": "code",
   "execution_count": 102,
   "metadata": {},
   "outputs": [],
   "source": [
    "fittedModel = logisticRegression.fit(train)"
   ]
  },
  {
   "cell_type": "markdown",
   "metadata": {},
   "source": [
    "## Model performance?"
   ]
  },
  {
   "cell_type": "code",
   "execution_count": 103,
   "metadata": {},
   "outputs": [
    {
     "data": {
      "text/plain": [
       "0.5555555555555556"
      ]
     },
     "execution_count": 103,
     "metadata": {},
     "output_type": "execute_result"
    }
   ],
   "source": [
    "fittedModel.summary.accuracy"
   ]
  },
  {
   "cell_type": "code",
   "execution_count": 104,
   "metadata": {},
   "outputs": [],
   "source": [
    "model_summary = fittedModel.summary"
   ]
  },
  {
   "cell_type": "code",
   "execution_count": 105,
   "metadata": {},
   "outputs": [
    {
     "data": {
      "text/plain": [
       "DenseMatrix(24, 13, [0.0563, -1.9674, -1.1485, 0.0047, 0.1039, 0.0063, 0.0007, -1.3707, ..., -0.0308, -0.0221, -0.0782, -0.0804, -0.2196, -0.0581, -0.0301, -0.0052], 1)"
      ]
     },
     "execution_count": 105,
     "metadata": {},
     "output_type": "execute_result"
    }
   ],
   "source": [
    "fittedModel.coefficientMatrix"
   ]
  },
  {
   "cell_type": "markdown",
   "metadata": {},
   "source": [
    "#### Why the 34X13 shape?\n",
    "\n",
    "That's because the multinomial logistic regression is fitted on **each class** of the label. It computes the probability of each class and then predicts based on these probabilities."
   ]
  },
  {
   "cell_type": "code",
   "execution_count": 106,
   "metadata": {},
   "outputs": [
    {
     "name": "stdout",
     "output_type": "stream",
     "text": [
      "DenseMatrix([[ 5.63026143e-02, -1.96735548e+00, -1.14853876e+00,\n",
      "               4.69983092e-03,  1.03863369e-01,  6.26399594e-03,\n",
      "               6.69159237e-04, -1.37066070e+00,  5.91213247e-02,\n",
      "               5.58983258e-01, -1.82241895e-02, -6.79894122e-02,\n",
      "              -1.30670092e-03],\n",
      "             [ 6.61983997e-02, -2.87124501e-01,  3.77217848e+00,\n",
      "               5.06808022e-04, -5.75903540e-03,  1.93768933e-02,\n",
      "               2.86235302e-03, -6.62145828e-02,  5.01398582e-02,\n",
      "              -2.39331250e-02,  4.21727551e-01, -3.88513244e-02,\n",
      "              -1.81491604e-02],\n",
      "             [-6.16326828e-02,  7.64565640e+00, -3.45630024e+00,\n",
      "              -4.23700334e-04, -1.92017078e-01, -4.52698681e-02,\n",
      "              -6.04601450e-04, -6.80796972e-01, -5.10581063e-02,\n",
      "              -5.59780850e-01, -3.96239006e-01,  1.47756915e-01,\n",
      "               1.18825344e-02],\n",
      "             [ 2.59699246e-02, -2.63910774e+00, -3.10915146e-01,\n",
      "               1.82073245e-03,  6.70237975e-02,  2.93199144e-02,\n",
      "               3.91403648e-03, -2.43355459e-01,  7.54323817e-02,\n",
      "              -3.94941805e-02,  1.83182700e-02, -1.41392249e-02,\n",
      "              -3.69770734e-04],\n",
      "             [-6.16539352e-02, -7.05041723e-01,  4.64466357e+00,\n",
      "              -1.27237588e-03,  2.06748173e-02, -8.05000574e-03,\n",
      "               1.77178689e-02, -6.25043283e-02, -4.91370415e-03,\n",
      "               2.36068304e-01, -5.31607968e-02, -7.20864180e-02,\n",
      "               8.77116389e-03],\n",
      "             [ 2.64952674e-02,  5.08943467e-02,  2.44684795e+00,\n",
      "               4.26977190e-04,  9.71746159e-03, -6.12087959e-03,\n",
      "              -5.03667179e-03,  2.25883104e-01, -1.07714632e-02,\n",
      "              -2.73797539e-01, -2.61831467e-01,  1.27656799e-02,\n",
      "              -7.31171445e-03],\n",
      "             [ 1.64978600e-03, -2.12412203e+00, -1.79690586e+00,\n",
      "               1.75618648e-03,  4.40024788e-03,  1.93212460e-02,\n",
      "               4.21014770e-03,  7.40112715e-02, -1.20906885e-02,\n",
      "               4.68823419e-01, -3.55712557e-02,  4.97423031e-02,\n",
      "              -1.75251597e-03],\n",
      "             [-4.14769800e-02, -3.38363791e-01, -9.34828178e-01,\n",
      "              -1.05965434e-03,  4.96200417e-02,  3.83351243e-02,\n",
      "              -4.10172712e-03,  1.43081209e-01, -5.77683475e-02,\n",
      "               1.60910701e-01,  1.63798033e-02,  3.09287255e-02,\n",
      "              -3.49634088e-03],\n",
      "             [-1.22577748e-02, -1.30251772e+00, -1.31272576e+00,\n",
      "               1.47633839e-03,  2.00560142e-02, -2.34472719e-02,\n",
      "               1.78556738e-02,  1.87656383e-01,  4.88823579e-02,\n",
      "              -1.55137776e-01,  2.06534027e-01, -4.70967230e-02,\n",
      "               8.61088659e-03],\n",
      "             [-4.24823897e-05, -2.23054224e+00, -1.21330135e+00,\n",
      "               1.59755091e-03, -2.38946429e-02,  5.38819384e-03,\n",
      "               4.96619069e-03,  2.26408532e-01,  4.26854247e-02,\n",
      "              -2.62900946e-01,  1.08688156e-01,  5.86306554e-02,\n",
      "               3.86846988e-03],\n",
      "             [ 6.82389090e-02,  2.48091935e+00, -9.02503137e-01,\n",
      "              -1.74541315e-03,  2.82500299e-03,  1.10902732e-02,\n",
      "              -2.33401888e-03, -4.39304795e-02, -1.29967044e-02,\n",
      "              -1.57324569e-01, -1.97956355e-01, -5.79503237e-02,\n",
      "              -1.46311102e-02],\n",
      "             [ 6.75425406e-03,  1.32271976e+00, -4.91788498e-01,\n",
      "              -1.71147036e-03, -4.65453215e-04, -5.84972277e-03,\n",
      "              -1.21488472e-02,  2.41310832e-01, -6.24387898e-02,\n",
      "               1.45549833e-01, -1.38797371e-01, -8.42055440e-03,\n",
      "               6.19896180e-03],\n",
      "             [-2.30452277e-02, -4.54420091e-01,  2.12536985e+00,\n",
      "              -1.83775918e-03,  2.87074067e-02, -8.23389538e-03,\n",
      "               1.08462835e-02,  2.21222106e-01, -2.76610561e-02,\n",
      "               2.32610107e-02,  4.22754720e-04,  5.50782626e-02,\n",
      "               1.41525636e-02],\n",
      "             [-1.00652561e-02,  3.72301960e-01, -3.20495848e-01,\n",
      "               2.35244785e-03, -1.11332319e-02, -1.59268731e-02,\n",
      "              -1.65440431e-02,  2.42542549e-01, -5.57181866e-03,\n",
      "               3.74196752e-02,  2.15622510e-01, -5.79556022e-03,\n",
      "               5.01102179e-03],\n",
      "             [-1.03008978e-02, -5.11718159e-01,  1.65355875e-01,\n",
      "               1.34316040e-03, -1.90934006e-02, -3.59437683e-03,\n",
      "              -6.88734116e-03,  1.92574833e-01,  6.78817039e-02,\n",
      "               1.65911323e-01,  1.33309778e-01,  1.45372655e-02,\n",
      "              -7.33608062e-04],\n",
      "             [-1.92908421e-02,  1.50977334e+00, -2.41739097e-01,\n",
      "              -8.21889856e-04, -1.92054878e-02, -1.76190570e-02,\n",
      "              -1.26559052e-02,  2.76547517e-01, -7.12824961e-03,\n",
      "              -1.22173880e-01, -5.48730320e-02, -2.13239987e-02,\n",
      "              -4.27085087e-03],\n",
      "             [ 3.70339104e-02, -3.14330631e-01, -1.59010560e-01,\n",
      "              -2.81763028e-04, -2.52262643e-03,  1.34505909e-02,\n",
      "               1.13342095e-02,  1.68674363e-01, -7.23231697e-03,\n",
      "               3.49639909e-02, -3.67137331e-02, -8.77710804e-03,\n",
      "              -2.44153828e-03],\n",
      "             [-5.11852240e-03,  4.55834355e-01, -8.85127140e-02,\n",
      "              -5.63313974e-04, -1.11544034e-02,  5.22538587e-03,\n",
      "              -6.68606172e-04,  6.41093400e-02, -6.41913112e-03,\n",
      "              -7.03368299e-02, -1.74558560e-02, -8.94412103e-03,\n",
      "              -1.52497378e-03],\n",
      "             [-1.10383868e-02, -3.71638106e-01, -1.75285381e-01,\n",
      "               1.15421458e-03,  3.21021674e-02,  1.24139142e-02,\n",
      "               1.13084834e-02,  1.76433986e-01,  1.32463909e-02,\n",
      "               9.03903535e-02, -4.61420113e-02, -6.95764533e-03,\n",
      "              -2.75623842e-03],\n",
      "             [-5.03088039e-03, -1.48331773e-01, -8.82662509e-02,\n",
      "               2.32230103e-04,  2.77108579e-03, -6.46359877e-03,\n",
      "              -3.65443271e-03,  5.78530127e-02,  1.15918681e-02,\n",
      "              -3.85710596e-02, -1.71373607e-02, -6.84007502e-03,\n",
      "              -1.35915772e-03],\n",
      "             [-2.58087543e-03,  1.90406013e-01, -6.15550744e-02,\n",
      "              -7.60202189e-04,  1.01022764e-02,  4.72193130e-03,\n",
      "              -6.22914232e-04,  6.14504295e-02, -2.81631084e-03,\n",
      "               4.09228551e-02,  1.98541271e-01,  6.85387419e-03,\n",
      "               6.87295770e-03],\n",
      "             [-2.24995027e-03, -4.81267434e-02, -2.92796368e-02,\n",
      "              -6.73560159e-04, -7.44037145e-03, -3.20788633e-03,\n",
      "              -2.31477702e-03, -8.58658267e-03, -8.33008564e-03,\n",
      "              -2.25997154e-02, -5.62273865e-03, -2.88426988e-03,\n",
      "              -4.92031791e-04],\n",
      "             [-3.42548378e-04, -1.04031604e-01, -6.04066754e-02,\n",
      "               2.36942278e-04,  1.26974232e-02,  9.67129802e-03,\n",
      "               3.99808480e-03, -5.53799283e-03, -1.13529490e-02,\n",
      "              -1.75245378e-02,  1.83186636e-02,  2.18719125e-02,\n",
      "               4.02701512e-04],\n",
      "             [-2.25158228e-02, -4.81733192e-01, -3.62057553e-01,\n",
      "              -6.45231713e-03, -7.18753811e-02, -3.07953259e-02,\n",
      "              -2.21086050e-02, -7.81723750e-02, -8.04315883e-02,\n",
      "              -2.19629713e-01, -5.81376123e-02, -3.01088350e-02,\n",
      "              -5.17554866e-03]])\n"
     ]
    }
   ],
   "source": [
    "print(fittedModel.coefficientMatrix)"
   ]
  },
  {
   "cell_type": "code",
   "execution_count": 107,
   "metadata": {},
   "outputs": [
    {
     "name": "stdout",
     "output_type": "stream",
     "text": [
      "Coefficient matrix:\n",
      "Row count = 24\n",
      "Col count = 13\n"
     ]
    }
   ],
   "source": [
    "print('Coefficient matrix:\\nRow count = %s\\nCol count = %s' % (fittedModel.coefficientMatrix.numRows, fittedModel.coefficientMatrix.numCols))"
   ]
  },
  {
   "cell_type": "code",
   "execution_count": 108,
   "metadata": {},
   "outputs": [
    {
     "name": "stdout",
     "output_type": "stream",
     "text": [
      "Model:\n",
      "Num Classes = 24\n",
      "Num Features = 13\n"
     ]
    }
   ],
   "source": [
    "print('Model:\\nNum Classes = %s\\nNum Features = %s' % (fittedModel.numClasses, fittedModel.numFeatures))"
   ]
  },
  {
   "cell_type": "code",
   "execution_count": 109,
   "metadata": {},
   "outputs": [
    {
     "name": "stdout",
     "output_type": "stream",
     "text": [
      "Training \"primary_type\" factor level count = 22\n"
     ]
    }
   ],
   "source": [
    "print('Training \"primary_type\" factor level count = %s' % train.select('primary_type_indexed').distinct().count())"
   ]
  },
  {
   "cell_type": "markdown",
   "metadata": {},
   "source": [
    "So our `randomSplit` call to split train/test data sets took some primary types to only either of the two parts"
   ]
  },
  {
   "cell_type": "code",
   "execution_count": 110,
   "metadata": {},
   "outputs": [
    {
     "name": "stdout",
     "output_type": "stream",
     "text": [
      "+----------------------------------------------------------+\n",
      "|features                                                  |\n",
      "+----------------------------------------------------------+\n",
      "|[2.0,1.0,1.0,118.0,6.0,1.0,3.0,2.0,15.0,3.0,0.0,2.0,2.0]  |\n",
      "|[0.0,0.0,0.0,62.0,12.0,15.0,0.0,14.0,15.0,3.0,0.0,2.0,2.0]|\n",
      "+----------------------------------------------------------+\n",
      "only showing top 2 rows\n",
      "\n"
     ]
    }
   ],
   "source": [
    "vectorized_df_dates.select('features').show(2, truncate=False)"
   ]
  },
  {
   "cell_type": "code",
   "execution_count": 111,
   "metadata": {},
   "outputs": [
    {
     "data": {
      "text/plain": [
       "24"
      ]
     },
     "execution_count": 111,
     "metadata": {},
     "output_type": "execute_result"
    }
   ],
   "source": [
    "fittedModel.numClasses"
   ]
  },
  {
   "cell_type": "code",
   "execution_count": 112,
   "metadata": {},
   "outputs": [
    {
     "data": {
      "text/plain": [
       "13"
      ]
     },
     "execution_count": 112,
     "metadata": {},
     "output_type": "execute_result"
    }
   ],
   "source": [
    "fittedModel.numFeatures"
   ]
  },
  {
   "cell_type": "code",
   "execution_count": 113,
   "metadata": {},
   "outputs": [
    {
     "data": {
      "text/plain": [
       "22"
      ]
     },
     "execution_count": 113,
     "metadata": {},
     "output_type": "execute_result"
    }
   ],
   "source": [
    "train.select('primary_type_indexed').distinct().count()"
   ]
  },
  {
   "cell_type": "code",
   "execution_count": 114,
   "metadata": {},
   "outputs": [
    {
     "data": {
      "text/plain": [
       "24"
      ]
     },
     "execution_count": 114,
     "metadata": {},
     "output_type": "execute_result"
    }
   ],
   "source": [
    "df_dates.select('primary_type').distinct().count()"
   ]
  },
  {
   "cell_type": "code",
   "execution_count": 115,
   "metadata": {},
   "outputs": [
    {
     "data": {
      "text/plain": [
       "24"
      ]
     },
     "execution_count": 115,
     "metadata": {},
     "output_type": "execute_result"
    }
   ],
   "source": [
    "fittedModel.interceptVector.values.size"
   ]
  },
  {
   "cell_type": "code",
   "execution_count": 116,
   "metadata": {},
   "outputs": [
    {
     "name": "stdout",
     "output_type": "stream",
     "text": [
      "[2.4226877989680444, 2.0938025439761896, 1.9763510497257148, 1.815057399249268, 1.754776775168298, 1.685476186045237, 1.5912790453800865, 1.5462233638703144, 1.4716774246243822, 1.4315252834262024, 1.3897577135184425]\n",
      "\n",
      "Objective history size  11\n"
     ]
    }
   ],
   "source": [
    "print(model_summary.objectiveHistory)\n",
    "print()\n",
    "print('Objective history size ', len(model_summary.objectiveHistory))"
   ]
  },
  {
   "cell_type": "code",
   "execution_count": 117,
   "metadata": {},
   "outputs": [
    {
     "data": {
      "text/plain": [
       "<matplotlib.axes._subplots.AxesSubplot at 0x7fedf0107dd0>"
      ]
     },
     "execution_count": 117,
     "metadata": {},
     "output_type": "execute_result"
    },
    {
     "data": {
      "image/png": "[encoded data removed]",
      "text/plain": [
       "<Figure size 4608x1152 with 1 Axes>"
      ]
     },
     "metadata": {},
     "output_type": "display_data"
    }
   ],
   "source": [
    "sns.barplot(y=model_summary.objectiveHistory, x=list(range(len(model_summary.objectiveHistory))))"
   ]
  },
  {
   "cell_type": "code",
   "execution_count": 118,
   "metadata": {
    "scrolled": false
   },
   "outputs": [
    {
     "name": "stdout",
     "output_type": "stream",
     "text": [
      "{0.0: {'index': 0.0}, 1.0: {'index': 1.0}, 2.0: {'index': 2.0}, 3.0: {'index': 3.0}, 4.0: {'index': 4.0}, 5.0: {'index': 5.0}, 6.0: {'index': 6.0}, 7.0: {'index': 7.0}, 8.0: {'index': 8.0}, 9.0: {'index': 9.0}, 10.0: {'index': 10.0}, 11.0: {'index': 11.0}, 12.0: {'index': 12.0}, 13.0: {'index': 13.0}, 14.0: {'index': 14.0}, 15.0: {'index': 15.0}, 16.0: {'index': 16.0}, 17.0: {'index': 17.0}, 18.0: {'index': 18.0}, 19.0: {'index': 19.0}, 20.0: {'index': 20.0}, 21.0: {'index': 21.0}, 22.0: {'index': 22.0}, 23.0: {'index': 23.0}, 24.0: {'index': 24.0}, 25.0: {'index': 25.0}, 26.0: {'index': 26.0}, 27.0: {'index': 27.0}, 28.0: {'index': 28.0}, 29.0: {'index': 29.0}, 30.0: {'index': 30.0}, 31.0: {'index': 31.0}, 32.0: {'index': 32.0}, 33.0: {'index': 33.0}}\n"
     ]
    }
   ],
   "source": [
    "label_stats = {float(i):{'index': float(i)} for i in range(34)}\n",
    "print(label_stats)"
   ]
  },
  {
   "cell_type": "code",
   "execution_count": 119,
   "metadata": {},
   "outputs": [
    {
     "name": "stdout",
     "output_type": "stream",
     "text": [
      "False positive rate by label:\n"
     ]
    }
   ],
   "source": [
    "print(\"False positive rate by label:\")\n",
    "for i, rate in enumerate(model_summary.falsePositiveRateByLabel):\n",
    "    label_stats[i]['false_positive_rate'] = rate\n",
    "    \n",
    "for i, rate in enumerate(model_summary.truePositiveRateByLabel):\n",
    "    label_stats[i]['true_positive_rate'] = rate\n",
    "    \n",
    "for i, rate in enumerate(model_summary.precisionByLabel):\n",
    "    label_stats[i]['precision_rate'] = rate\n",
    "    \n",
    "for i, rate in enumerate(model_summary.recallByLabel):\n",
    "    label_stats[i]['recall_rate'] = rate\n",
    "    \n",
    "for i, rate in enumerate(model_summary.fMeasureByLabel()):\n",
    "    label_stats[i]['f_measure'] = rate"
   ]
  },
  {
   "cell_type": "code",
   "execution_count": 120,
   "metadata": {},
   "outputs": [],
   "source": [
    "train_rdd = train.select(['primary_type', 'primary_type_indexed']).distinct().orderBy('primary_type_indexed').rdd.map(lambda l: l.asDict()).collect()\n"
   ]
  },
  {
   "cell_type": "code",
   "execution_count": 121,
   "metadata": {},
   "outputs": [
    {
     "name": "stdout",
     "output_type": "stream",
     "text": [
      "{'primary_type': 'THEFT', 'primary_type_indexed': 0.0}\n",
      "{'primary_type': 'BATTERY', 'primary_type_indexed': 1.0}\n",
      "{'primary_type': 'NARCOTICS', 'primary_type_indexed': 2.0}\n",
      "{'primary_type': 'CRIMINAL DAMAGE', 'primary_type_indexed': 3.0}\n",
      "{'primary_type': 'OTHER OFFENSE', 'primary_type_indexed': 4.0}\n",
      "{'primary_type': 'ASSAULT', 'primary_type_indexed': 5.0}\n",
      "{'primary_type': 'DECEPTIVE PRACTICE', 'primary_type_indexed': 6.0}\n",
      "{'primary_type': 'MOTOR VEHICLE THEFT', 'primary_type_indexed': 7.0}\n",
      "{'primary_type': 'ROBBERY', 'primary_type_indexed': 8.0}\n",
      "{'primary_type': 'BURGLARY', 'primary_type_indexed': 9.0}\n",
      "{'primary_type': 'CRIMINAL TRESPASS', 'primary_type_indexed': 10.0}\n",
      "{'primary_type': 'WEAPONS VIOLATION', 'primary_type_indexed': 11.0}\n",
      "{'primary_type': 'OFFENSE INVOLVING CHILDREN', 'primary_type_indexed': 12.0}\n",
      "{'primary_type': 'PUBLIC PEACE VIOLATION', 'primary_type_indexed': 13.0}\n",
      "{'primary_type': 'CRIM SEXUAL ASSAULT', 'primary_type_indexed': 14.0}\n",
      "{'primary_type': 'PROSTITUTION', 'primary_type_indexed': 15.0}\n",
      "{'primary_type': 'HOMICIDE', 'primary_type_indexed': 16.0}\n",
      "{'primary_type': 'INTERFERENCE WITH PUBLIC OFFICER', 'primary_type_indexed': 17.0}\n",
      "{'primary_type': 'SEX OFFENSE', 'primary_type_indexed': 18.0}\n",
      "{'primary_type': 'KIDNAPPING', 'primary_type_indexed': 19.0}\n",
      "{'primary_type': 'ARSON', 'primary_type_indexed': 20.0}\n",
      "{'primary_type': 'INTIMIDATION', 'primary_type_indexed': 22.0}\n"
     ]
    }
   ],
   "source": [
    "for l in train_rdd:\n",
    "    print(l)\n",
    "    label_stats[l['primary_type_indexed']]['primary_type'] = l['primary_type']"
   ]
  },
  {
   "cell_type": "code",
   "execution_count": 122,
   "metadata": {},
   "outputs": [],
   "source": [
    "rates_pddf = pd.DataFrame(list(label_stats.values()))"
   ]
  },
  {
   "cell_type": "code",
   "execution_count": 123,
   "metadata": {},
   "outputs": [],
   "source": [
    "rates_pddf = rates_pddf.sort_values(by='precision_rate', ascending=False)"
   ]
  },
  {
   "cell_type": "code",
   "execution_count": 125,
   "metadata": {},
   "outputs": [
    {
     "data": {
      "text/html": [
       "<div>\n",
       "<style scoped>\n",
       "    .dataframe tbody tr th:only-of-type {\n",
       "        vertical-align: middle;\n",
       "    }\n",
       "\n",
       "    .dataframe tbody tr th {\n",
       "        vertical-align: top;\n",
       "    }\n",
       "\n",
       "    .dataframe thead th {\n",
       "        text-align: right;\n",
       "    }\n",
       "</style>\n",
       "<table border=\"1\" class=\"dataframe\">\n",
       "  <thead>\n",
       "    <tr style=\"text-align: right;\">\n",
       "      <th></th>\n",
       "      <th>index</th>\n",
       "      <th>false_positive_rate</th>\n",
       "      <th>true_positive_rate</th>\n",
       "      <th>precision_rate</th>\n",
       "      <th>recall_rate</th>\n",
       "      <th>f_measure</th>\n",
       "      <th>primary_type</th>\n",
       "    </tr>\n",
       "  </thead>\n",
       "  <tbody>\n",
       "    <tr>\n",
       "      <th>15</th>\n",
       "      <td>15.0</td>\n",
       "      <td>0.000000</td>\n",
       "      <td>0.714286</td>\n",
       "      <td>1.000000</td>\n",
       "      <td>0.714286</td>\n",
       "      <td>0.833333</td>\n",
       "      <td>PROSTITUTION</td>\n",
       "    </tr>\n",
       "    <tr>\n",
       "      <th>0</th>\n",
       "      <td>0.0</td>\n",
       "      <td>0.058154</td>\n",
       "      <td>0.898230</td>\n",
       "      <td>0.815261</td>\n",
       "      <td>0.898230</td>\n",
       "      <td>0.854737</td>\n",
       "      <td>THEFT</td>\n",
       "    </tr>\n",
       "    <tr>\n",
       "      <th>2</th>\n",
       "      <td>2.0</td>\n",
       "      <td>0.048698</td>\n",
       "      <td>0.917910</td>\n",
       "      <td>0.740964</td>\n",
       "      <td>0.917910</td>\n",
       "      <td>0.820000</td>\n",
       "      <td>NARCOTICS</td>\n",
       "    </tr>\n",
       "    <tr>\n",
       "      <th>10</th>\n",
       "      <td>10.0</td>\n",
       "      <td>0.007085</td>\n",
       "      <td>0.379310</td>\n",
       "      <td>0.611111</td>\n",
       "      <td>0.379310</td>\n",
       "      <td>0.468085</td>\n",
       "      <td>CRIMINAL TRESPASS</td>\n",
       "    </tr>\n",
       "    <tr>\n",
       "      <th>3</th>\n",
       "      <td>3.0</td>\n",
       "      <td>0.075492</td>\n",
       "      <td>0.640777</td>\n",
       "      <td>0.488889</td>\n",
       "      <td>0.640777</td>\n",
       "      <td>0.554622</td>\n",
       "      <td>CRIMINAL DAMAGE</td>\n",
       "    </tr>\n",
       "  </tbody>\n",
       "</table>\n",
       "</div>"
      ],
      "text/plain": [
       "    index  false_positive_rate  true_positive_rate  precision_rate  \\\n",
       "15   15.0             0.000000            0.714286        1.000000   \n",
       "0     0.0             0.058154            0.898230        0.815261   \n",
       "2     2.0             0.048698            0.917910        0.740964   \n",
       "10   10.0             0.007085            0.379310        0.611111   \n",
       "3     3.0             0.075492            0.640777        0.488889   \n",
       "\n",
       "    recall_rate  f_measure       primary_type  \n",
       "15     0.714286   0.833333       PROSTITUTION  \n",
       "0      0.898230   0.854737              THEFT  \n",
       "2      0.917910   0.820000          NARCOTICS  \n",
       "10     0.379310   0.468085  CRIMINAL TRESPASS  \n",
       "3      0.640777   0.554622    CRIMINAL DAMAGE  "
      ]
     },
     "execution_count": 125,
     "metadata": {},
     "output_type": "execute_result"
    }
   ],
   "source": [
    "rates_pddf.head()"
   ]
  },
  {
   "cell_type": "code",
   "execution_count": 131,
   "metadata": {},
   "outputs": [
    {
     "data": {
      "text/html": [
       "<div>\n",
       "<style scoped>\n",
       "    .dataframe tbody tr th:only-of-type {\n",
       "        vertical-align: middle;\n",
       "    }\n",
       "\n",
       "    .dataframe tbody tr th {\n",
       "        vertical-align: top;\n",
       "    }\n",
       "\n",
       "    .dataframe thead th {\n",
       "        text-align: right;\n",
       "    }\n",
       "</style>\n",
       "<table border=\"1\" class=\"dataframe\">\n",
       "  <thead>\n",
       "    <tr style=\"text-align: right;\">\n",
       "      <th></th>\n",
       "      <th>count</th>\n",
       "      <th>year</th>\n",
       "    </tr>\n",
       "  </thead>\n",
       "  <tbody>\n",
       "    <tr>\n",
       "      <th>0</th>\n",
       "      <td>162</td>\n",
       "      <td>2015</td>\n",
       "    </tr>\n",
       "    <tr>\n",
       "      <th>1</th>\n",
       "      <td>1</td>\n",
       "      <td>2013</td>\n",
       "    </tr>\n",
       "    <tr>\n",
       "      <th>2</th>\n",
       "      <td>3</td>\n",
       "      <td>2014</td>\n",
       "    </tr>\n",
       "    <tr>\n",
       "      <th>3</th>\n",
       "      <td>1499</td>\n",
       "      <td>2016</td>\n",
       "    </tr>\n",
       "    <tr>\n",
       "      <th>4</th>\n",
       "      <td>8</td>\n",
       "      <td>2017</td>\n",
       "    </tr>\n",
       "  </tbody>\n",
       "</table>\n",
       "</div>"
      ],
      "text/plain": [
       "   count  year\n",
       "0    162  2015\n",
       "1      1  2013\n",
       "2      3  2014\n",
       "3   1499  2016\n",
       "4      8  2017"
      ]
     },
     "execution_count": 131,
     "metadata": {},
     "output_type": "execute_result"
    }
   ],
   "source": [
    "count = [item[1] for item in df.groupBy(\"Year\").count().collect()]\n",
    "year = [item[0] for item in df.groupBy(\"Year\").count().collect()]\n",
    "number_of_crimes_per_year = {\"count\":count, \"year\" : year}\n",
    "import pandas as pd\n",
    "import matplotlib.pyplot as plt\n",
    "%matplotlib inline\n",
    "number_of_crimes_per_year = pd.DataFrame(number_of_crimes_per_year)\n",
    "number_of_crimes_per_year.head()"
   ]
  },
  {
   "cell_type": "code",
   "execution_count": null,
   "metadata": {},
   "outputs": [],
   "source": []
  }
 ],
 "metadata": {
  "kernelspec": {
   "display_name": "Python 3",
   "language": "python",
   "name": "python3"
  },
  "language_info": {
   "codemirror_mode": {
    "name": "ipython",
    "version": 3
   },
   "file_extension": ".py",
   "mimetype": "text/x-python",
   "name": "python",
   "nbconvert_exporter": "python",
   "pygments_lexer": "ipython3",
   "version": "3.7.6"
  }
 },
 "nbformat": 4,
 "nbformat_minor": 2
}
