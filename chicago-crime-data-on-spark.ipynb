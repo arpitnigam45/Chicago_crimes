{
 "cells": [
  {
   "cell_type": "markdown",
   "metadata": {},
   "source": [
    "# Chicago crime dataset analysis\n",
    "---\n",
    "\n",
    "This notebook is a Spark and Python learner's to perform data analysis on some real-world data set.\n",
    "\n",
    "In this notebook, I am capriciously using Spark, Pandas, Matplotlib, Seaborn without any meaningful distinction of purpose. The point is:\n",
    "\n",
    " * Perform data reading, transforming, and querying using Apache Spark\n",
    " * Visualize using existing Python libraries. Matplotlib will remain when I know to do with it all that I'm currenly using Seaborn for.\n",
    " * Where interoperation between Spark and Matplotlib is a hindrance, I use Pandas and Numpy.\n",
    " \n",
    "This will be evolutionary and I hope that a few weeks from now, it will look much better."
   ]
  },
  {
   "cell_type": "markdown",
   "metadata": {},
   "source": [
    "---\n",
    "\n",
    "# How to run this and what to run it on?\n",
    "\n",
    "---\n",
    "\n",
    "I wrote this on Apache Spark 2.3.0. The entire notebook was executed on a single machine using the `pyspark` shell without problems.\n",
    "\n",
    "Here are some important parameters:\n",
    "\n",
    " * Executor count: 4\n",
    " * Executor Memory: 4G\n",
    " * Driver Memory: 8G\n",
    " \n",
    "This may not be necessary, but some data frames are being cached and performance degrades remarkably when the percentage of cached RDDs drops.\n",
    "\n",
    "So, the command with which the notebook was launched is:\n",
    "\n",
    "```\n",
    "pyspark --driver-memory 8g --executor-memory 4g --master local[4]\n",
    "```"
   ]
  },
  {
   "cell_type": "markdown",
   "metadata": {},
   "source": [
    "---\n",
    "\n",
    "## Get Imports out of the way\n",
    "\n"
   ]
  },
  {
   "cell_type": "markdown",
   "metadata": {},
   "source": [
    "Spark imports"
   ]
  },
  {
   "cell_type": "code",
   "execution_count": 1,
   "metadata": {},
   "outputs": [],
   "source": [
    "## spark imports\n",
    "from pyspark.sql import Row, SparkSession\n",
    "from pyspark.sql.functions import *"
   ]
  },
  {
   "cell_type": "markdown",
   "metadata": {},
   "source": [
    "Standard python data analysis imports"
   ]
  },
  {
   "cell_type": "code",
   "execution_count": 2,
   "metadata": {},
   "outputs": [],
   "source": [
    "## standard imports\n",
    "import numpy as np\n",
    "import pandas as pd\n",
    "import seaborn as sns\n",
    "import matplotlib.pyplot as plt"
   ]
  },
  {
   "cell_type": "markdown",
   "metadata": {},
   "source": [
    "Jupyter visualization options"
   ]
  },
  {
   "cell_type": "code",
   "execution_count": 3,
   "metadata": {},
   "outputs": [],
   "source": [
    "%matplotlib inline\n",
    "\n",
    "#Not too sure the following 2 work. This is a TODO\n",
    "sns.set_color_codes(\"pastel\")\n",
    "plt.rcParams[\"figure.figsize\"] = [20, 8]"
   ]
  },
  {
   "cell_type": "markdown",
   "metadata": {},
   "source": [
    "---\n",
    "## Dataset information\n",
    "\n",
    "First, clean the headers. This is just for nice presentation of headers. Having valid data frame field names that conform to Python identifier rules is good. I personally prefer that as it's always helpful to use the dot notation in many places.\n",
    "\n",
    "These are the column names, as pulled from the Kaggle dataset page [here](https://www.kaggle.com/djonafegnem/chicago-crime-data-analysis)"
   ]
  },
  {
   "cell_type": "code",
   "execution_count": 163,
   "metadata": {},
   "outputs": [],
   "source": [
    "content_cols = '''\n",
    "ID - Unique identifier for the record.\n",
    "Case Number - The Chicago Police Department RD Number (Records Division Number), which is unique to the incident.\n",
    "Date - Date when the incident occurred. this is sometimes a best estimate.\n",
    "Block - The partially redacted address where the incident occurred, placing it on the same block as the actual address.\n",
    "IUCR - The Illinois Unifrom Crime Reporting code. This is directly linked to the Primary Type and Description. See the list of IUCR codes at https://data.cityofchicago.org/d/c7ck-438e.\n",
    "Primary Type - The primary description of the IUCR code.\n",
    "Description - The secondary description of the IUCR code, a subcategory of the primary description.\n",
    "Location Description - Description of the location where the incident occurred.\n",
    "Arrest - Indicates whether an arrest was made.\n",
    "Domestic - Indicates whether the incident was domestic-related as defined by the Illinois Domestic Violence Act.\n",
    "Beat - Indicates the beat where the incident occurred. A beat is the smallest police geographic area – each beat has a dedicated police beat car. Three to five beats make up a police sector, and three sectors make up a police district. The Chicago Police Department has 22 police districts. See the beats at https://data.cityofchicago.org/d/aerh-rz74.\n",
    "District - Indicates the police district where the incident occurred. See the districts at https://data.cityofchicago.org/d/fthy-xz3r.\n",
    "Ward - The ward (City Council district) where the incident occurred. See the wards at https://data.cityofchicago.org/d/sp34-6z76.\n",
    "Community Area - Indicates the community area where the incident occurred. Chicago has 77 community areas. See the community areas at https://data.cityofchicago.org/d/cauq-8yn6.\n",
    "FBI Code - Indicates the crime classification as outlined in the FBI's National Incident-Based Reporting System (NIBRS). See the Chicago Police Department listing of these classifications at http://gis.chicagopolice.org/clearmap_crime_sums/crime_types.html.\n",
    "X Coordinate - The x coordinate of the location where the incident occurred in State Plane Illinois East NAD 1983 projection. This location is shifted from the actual location for partial redaction but falls on the same block.\n",
    "Y Coordinate - The y coordinate of the location where the incident occurred in State Plane Illinois East NAD 1983 projection. This location is shifted from the actual location for partial redaction but falls on the same block.\n",
    "Year - Year the incident occurred.\n",
    "Updated On - Date and time the record was last updated.\n",
    "Latitude - The latitude of the location where the incident occurred. This location is shifted from the actual location for partial redaction but falls on the same block.\n",
    "Longitude - The longitude of the location where the incident occurred. This location is shifted from the actual location for partial redaction but falls on the same block.\n",
    "Location - The location where the incident occurred in a format that allows for creation of maps and other geographic operations on this data portal. This location is shifted from the actual location for partial redaction but falls on the same block.'''"
   ]
  },
  {
   "cell_type": "code",
   "execution_count": 164,
   "metadata": {},
   "outputs": [],
   "source": [
    "def entry_dic(line):\n",
    "    \"\"\"\n",
    "    Convert a header - description line into a single dictionary that holds the original header as 'title', a corresponding field name as 'header', and a description.\n",
    "    \"\"\"\n",
    "    pair = line.split(' - ')\n",
    "    return {'title': pair[0], 'description': pair[1], 'header': pair[0].lower().replace(' ', '_')}"
   ]
  },
  {
   "cell_type": "markdown",
   "metadata": {},
   "source": [
    "Turn a list of headers to a list of dictionaries produced by the above function"
   ]
  },
  {
   "cell_type": "code",
   "execution_count": 165,
   "metadata": {},
   "outputs": [],
   "source": [
    "header_dics = list(map(entry_dic, list(filter(lambda l: l != '', content_cols.split('\\n')))))"
   ]
  },
  {
   "cell_type": "code",
   "execution_count": 166,
   "metadata": {},
   "outputs": [
    {
     "data": {
      "text/plain": [
       "[{'title': 'ID',\n",
       "  'description': 'Unique identifier for the record.',\n",
       "  'header': 'id'},\n",
       " {'title': 'Case Number',\n",
       "  'description': 'The Chicago Police Department RD Number (Records Division Number), which is unique to the incident.',\n",
       "  'header': 'case_number'}]"
      ]
     },
     "execution_count": 166,
     "metadata": {},
     "output_type": "execute_result"
    }
   ],
   "source": [
    "header_dics[:2]"
   ]
  },
  {
   "cell_type": "markdown",
   "metadata": {},
   "source": [
    "### Environment\n",
    "\n",
    "The data set is expected to be located at `../data/from-kaggle/`. The dataset downloaded from the page mentioned above comes in multiple .csv files. I extracted those files into the directory (see below `ls` output).\n",
    "\n",
    "It shouldn't matter where the data comes from or how many files it's broken up into. As long as the pattern matches, that should work."
   ]
  },
  {
   "cell_type": "code",
   "execution_count": 167,
   "metadata": {},
   "outputs": [
    {
     "name": "stdout",
     "output_type": "stream",
     "text": [
      "total 1.9G\r\n",
      "-rw-rw-r-- 1 arpit arpit 454K Dec  7 17:46 chicago-crime-data-on-spark.ipynb\r\n",
      "-rw-rw-r-- 1 arpit arpit 454M Dec  6 05:02 Chicago_Crimes_2001_to_2004.csv\r\n",
      "-rw-rw-r-- 1 arpit arpit 450M Sep 20  2019 Chicago_Crimes_2005_to_2007.csv\r\n",
      "-rw-rw-r-- 1 arpit arpit 647M Dec  6 05:04 Chicago_Crimes_2008_to_2011.csv\r\n",
      "-rw-rw-r-- 1 arpit arpit 350M Sep 20  2019 Chicago_Crimes_2012_to_2017.csv\r\n",
      "-rw-rw-r-- 1 arpit arpit 416K Dec  7 05:33 short.csv\r\n",
      "-rw-rw-r-- 1 arpit arpit 414K Dec  7 18:03 shortened.csv\r\n",
      "-rw-rw-r-- 1 arpit arpit  19K Dec  7 18:05 Untitled.ipynb\r\n"
     ]
    }
   ],
   "source": [
    "!ls -lh ./"
   ]
  },
  {
   "cell_type": "markdown",
   "metadata": {},
   "source": [
    "---\n",
    "## Reading the data\n",
    "\n",
    "Using the Spark's csv reader to parse the files. It processes multiple files and returns a single data frame:"
   ]
  },
  {
   "cell_type": "code",
   "execution_count": 168,
   "metadata": {},
   "outputs": [],
   "source": [
    "df = spark.read.csv('/input/shortened.csv', inferSchema=True, header=True)"
   ]
  },
  {
   "cell_type": "code",
   "execution_count": 169,
   "metadata": {},
   "outputs": [],
   "source": [
    "# Caching this data frame as it's going to be read over and over again\n",
    "df = df.cache()"
   ]
  },
  {
   "cell_type": "code",
   "execution_count": 170,
   "metadata": {},
   "outputs": [
    {
     "name": "stdout",
     "output_type": "stream",
     "text": [
      "root\n",
      " |-- _c0: integer (nullable = true)\n",
      " |-- Unnamed: 0: double (nullable = true)\n",
      " |-- ID: integer (nullable = true)\n",
      " |-- Case Number: string (nullable = true)\n",
      " |-- Date: string (nullable = true)\n",
      " |-- Block: string (nullable = true)\n",
      " |-- IUCR: string (nullable = true)\n",
      " |-- Primary Type: string (nullable = true)\n",
      " |-- Description: string (nullable = true)\n",
      " |-- Location Description: string (nullable = true)\n",
      " |-- Arrest: integer (nullable = true)\n",
      " |-- Domestic: integer (nullable = true)\n",
      " |-- Beat: integer (nullable = true)\n",
      " |-- District: integer (nullable = true)\n",
      " |-- Ward: integer (nullable = true)\n",
      " |-- Community Area: integer (nullable = true)\n",
      " |-- FBI Code: string (nullable = true)\n",
      " |-- X Coordinate: integer (nullable = true)\n",
      " |-- Y Coordinate: integer (nullable = true)\n",
      " |-- Year: integer (nullable = true)\n",
      " |-- Updated On: string (nullable = true)\n",
      " |-- Latitude: double (nullable = true)\n",
      " |-- Longitude: double (nullable = true)\n",
      " |-- Location: string (nullable = true)\n",
      "\n"
     ]
    }
   ],
   "source": [
    "df.printSchema()"
   ]
  },
  {
   "cell_type": "markdown",
   "metadata": {},
   "source": [
    "---\n",
    "**Rename columns so that we can use the dot notation**"
   ]
  },
  {
   "cell_type": "code",
   "execution_count": 171,
   "metadata": {},
   "outputs": [],
   "source": [
    "for h in header_dics:\n",
    "    df = df.withColumnRenamed(h['title'], h['header'])"
   ]
  },
  {
   "cell_type": "code",
   "execution_count": 284,
   "metadata": {},
   "outputs": [
    {
     "name": "stdout",
     "output_type": "stream",
     "text": [
      "1\n"
     ]
    }
   ],
   "source": [
    "df = df.rdd.filter(lambda rec: rec.arrest.find('location_description') < 0).toDF().cache()"
   ]
  },
  {
   "cell_type": "markdown",
   "metadata": {},
   "source": [
    "There's a row that's been identified as having no value for `location_description`. We will just get rid of it right now...\n",
    "\n",
    "Initially implemented using a `rdd.filter` call. Although, alternatively, one can use the Dataset.filter function"
   ]
  },
  {
   "cell_type": "markdown",
   "metadata": {},
   "source": [
    "Taking an initial look at the content of the data frame:"
   ]
  },
  {
   "cell_type": "code",
   "execution_count": 173,
   "metadata": {},
   "outputs": [
    {
     "name": "stdout",
     "output_type": "stream",
     "text": [
      "+---+----------+--------+-----------+----------------------+-------------------+----+----------------------+-----------------------+--------------------+------+--------+----+--------+----+--------------+--------+------------+------------+----+----------------------+------------+-------------+-----------------------------+\n",
      "|_c0|Unnamed: 0|id      |case_number|date                  |block              |iucr|primary_type          |description            |location_description|arrest|domestic|beat|district|ward|community_area|fbi_code|x_coordinate|y_coordinate|year|updated_on            |latitude    |longitude    |location                     |\n",
      "+---+----------+--------+-----------+----------------------+-------------------+----+----------------------+-----------------------+--------------------+------+--------+----+--------+----+--------------+--------+------------+------------+----+----------------------+------------+-------------+-----------------------------+\n",
      "|0  |3.0       |10508693|HZ250496   |05/03/2016 11:40:00 PM|013XX S SAWYER AVE |486 |BATTERY               |DOMESTIC BATTERY SIMPLE|APARTMENT           |1     |1       |1022|10      |24  |29            |08B     |1154907     |1893681     |2016|05/10/2016 03:56:50 PM|41.864073157|-87.706818608|(41.864073157, -87.706818608)|\n",
      "|2  |197.0     |10508697|HZ250503   |05/03/2016 11:31:00 PM|053XX W CHICAGO AVE|470 |PUBLIC PEACE VIOLATION|RECKLESS CONDUCT       |STREET              |0     |0       |1524|15      |37  |25            |24      |1140789     |1904819     |2016|05/10/2016 03:56:50 PM|41.894908283|-87.758371958|(41.894908283, -87.758371958)|\n",
      "|3  |673.0     |10508698|HZ250424   |05/03/2016 10:10:00 PM|049XX W FULTON ST  |460 |BATTERY               |SIMPLE                 |SIDEWALK            |0     |0       |1532|15      |28  |25            |08B     |1143223     |1901475     |2016|05/10/2016 03:56:50 PM|41.885686845|-87.749515983|(41.885686845, -87.749515983)|\n",
      "+---+----------+--------+-----------+----------------------+-------------------+----+----------------------+-----------------------+--------------------+------+--------+----+--------+----+--------------+--------+------------+------------+----+----------------------+------------+-------------+-----------------------------+\n",
      "only showing top 3 rows\n",
      "\n"
     ]
    }
   ],
   "source": [
    "df.show(n=3, truncate=False)"
   ]
  },
  {
   "cell_type": "markdown",
   "metadata": {},
   "source": [
    "---\n",
    "## Looking at the data"
   ]
  },
  {
   "cell_type": "code",
   "execution_count": 174,
   "metadata": {},
   "outputs": [],
   "source": [
    "# crime types\n",
    "crime_type_groups = df.groupBy('primary_type').count()"
   ]
  },
  {
   "cell_type": "code",
   "execution_count": 175,
   "metadata": {},
   "outputs": [],
   "source": [
    "crime_type_counts = crime_type_groups.orderBy('count', ascending=False)"
   ]
  },
  {
   "cell_type": "markdown",
   "metadata": {},
   "source": [
    "Total record count:"
   ]
  },
  {
   "cell_type": "code",
   "execution_count": 176,
   "metadata": {},
   "outputs": [
    {
     "name": "stdout",
     "output_type": "stream",
     "text": [
      "1770\n"
     ]
    }
   ],
   "source": [
    "print(df.count())"
   ]
  },
  {
   "cell_type": "markdown",
   "metadata": {},
   "source": [
    "How many features do we have"
   ]
  },
  {
   "cell_type": "code",
   "execution_count": 177,
   "metadata": {},
   "outputs": [
    {
     "data": {
      "text/plain": [
       "['_c0',\n",
       " 'Unnamed: 0',\n",
       " 'id',\n",
       " 'case_number',\n",
       " 'date',\n",
       " 'block',\n",
       " 'iucr',\n",
       " 'primary_type',\n",
       " 'description',\n",
       " 'location_description',\n",
       " 'arrest',\n",
       " 'domestic',\n",
       " 'beat',\n",
       " 'district',\n",
       " 'ward',\n",
       " 'community_area',\n",
       " 'fbi_code',\n",
       " 'x_coordinate',\n",
       " 'y_coordinate',\n",
       " 'year',\n",
       " 'updated_on',\n",
       " 'latitude',\n",
       " 'longitude',\n",
       " 'location']"
      ]
     },
     "execution_count": 177,
     "metadata": {},
     "output_type": "execute_result"
    }
   ],
   "source": [
    "df.columns"
   ]
  },
  {
   "cell_type": "code",
   "execution_count": 178,
   "metadata": {},
   "outputs": [
    {
     "name": "stdout",
     "output_type": "stream",
     "text": [
      "root\n",
      " |-- _c0: integer (nullable = true)\n",
      " |-- Unnamed: 0: double (nullable = true)\n",
      " |-- id: integer (nullable = true)\n",
      " |-- case_number: string (nullable = true)\n",
      " |-- date: string (nullable = true)\n",
      " |-- block: string (nullable = true)\n",
      " |-- iucr: string (nullable = true)\n",
      " |-- primary_type: string (nullable = true)\n",
      " |-- description: string (nullable = true)\n",
      " |-- location_description: string (nullable = true)\n",
      " |-- arrest: integer (nullable = true)\n",
      " |-- domestic: integer (nullable = true)\n",
      " |-- beat: integer (nullable = true)\n",
      " |-- district: integer (nullable = true)\n",
      " |-- ward: integer (nullable = true)\n",
      " |-- community_area: integer (nullable = true)\n",
      " |-- fbi_code: string (nullable = true)\n",
      " |-- x_coordinate: integer (nullable = true)\n",
      " |-- y_coordinate: integer (nullable = true)\n",
      " |-- year: integer (nullable = true)\n",
      " |-- updated_on: string (nullable = true)\n",
      " |-- latitude: double (nullable = true)\n",
      " |-- longitude: double (nullable = true)\n",
      " |-- location: string (nullable = true)\n",
      "\n"
     ]
    }
   ],
   "source": [
    "#Let's see the schema of the data frame:\n",
    "df.printSchema()"
   ]
  },
  {
   "cell_type": "markdown",
   "metadata": {},
   "source": [
    "### Crime types\n",
    "\n",
    "These are the top 20 most frequent crime types:"
   ]
  },
  {
   "cell_type": "code",
   "execution_count": 179,
   "metadata": {},
   "outputs": [
    {
     "name": "stdout",
     "output_type": "stream",
     "text": [
      "+--------------------------------+-----+\n",
      "|primary_type                    |count|\n",
      "+--------------------------------+-----+\n",
      "|THEFT                           |371  |\n",
      "|BATTERY                         |280  |\n",
      "|NARCOTICS                       |227  |\n",
      "|CRIMINAL DAMAGE                 |169  |\n",
      "|DECEPTIVE PRACTICE              |133  |\n",
      "|OTHER OFFENSE                   |122  |\n",
      "|ASSAULT                         |108  |\n",
      "|MOTOR VEHICLE THEFT             |69   |\n",
      "|ROBBERY                         |66   |\n",
      "|BURGLARY                        |65   |\n",
      "|CRIMINAL TRESPASS               |48   |\n",
      "|WEAPONS VIOLATION               |23   |\n",
      "|OFFENSE INVOLVING CHILDREN      |22   |\n",
      "|CRIM SEXUAL ASSAULT             |18   |\n",
      "|PUBLIC PEACE VIOLATION          |13   |\n",
      "|SEX OFFENSE                     |9    |\n",
      "|PROSTITUTION                    |7    |\n",
      "|HOMICIDE                        |6    |\n",
      "|INTERFERENCE WITH PUBLIC OFFICER|5    |\n",
      "|KIDNAPPING                      |4    |\n",
      "+--------------------------------+-----+\n",
      "only showing top 20 rows\n",
      "\n"
     ]
    }
   ],
   "source": [
    "crime_type_counts.show(truncate=False)"
   ]
  },
  {
   "cell_type": "markdown",
   "metadata": {},
   "source": [
    "I like doing some things by hand, but it's clear that here, one can obtain a Pandas data frame by calling:\n",
    "\n",
    "``\n",
    "crime_type_counts.toPandas()\n",
    "``"
   ]
  },
  {
   "cell_type": "code",
   "execution_count": 180,
   "metadata": {},
   "outputs": [],
   "source": [
    "counts_pddf = pd.DataFrame(crime_type_counts.rdd.map(lambda l: l.asDict()).collect())"
   ]
  },
  {
   "cell_type": "code",
   "execution_count": 181,
   "metadata": {},
   "outputs": [
    {
     "data": {
      "text/html": [
       "<div>\n",
       "<style scoped>\n",
       "    .dataframe tbody tr th:only-of-type {\n",
       "        vertical-align: middle;\n",
       "    }\n",
       "\n",
       "    .dataframe tbody tr th {\n",
       "        vertical-align: top;\n",
       "    }\n",
       "\n",
       "    .dataframe thead th {\n",
       "        text-align: right;\n",
       "    }\n",
       "</style>\n",
       "<table border=\"1\" class=\"dataframe\">\n",
       "  <thead>\n",
       "    <tr style=\"text-align: right;\">\n",
       "      <th></th>\n",
       "      <th>primary_type</th>\n",
       "      <th>count</th>\n",
       "    </tr>\n",
       "  </thead>\n",
       "  <tbody>\n",
       "    <tr>\n",
       "      <th>0</th>\n",
       "      <td>THEFT</td>\n",
       "      <td>371</td>\n",
       "    </tr>\n",
       "    <tr>\n",
       "      <th>1</th>\n",
       "      <td>BATTERY</td>\n",
       "      <td>280</td>\n",
       "    </tr>\n",
       "    <tr>\n",
       "      <th>2</th>\n",
       "      <td>NARCOTICS</td>\n",
       "      <td>227</td>\n",
       "    </tr>\n",
       "    <tr>\n",
       "      <th>3</th>\n",
       "      <td>CRIMINAL DAMAGE</td>\n",
       "      <td>169</td>\n",
       "    </tr>\n",
       "    <tr>\n",
       "      <th>4</th>\n",
       "      <td>DECEPTIVE PRACTICE</td>\n",
       "      <td>133</td>\n",
       "    </tr>\n",
       "    <tr>\n",
       "      <th>5</th>\n",
       "      <td>OTHER OFFENSE</td>\n",
       "      <td>122</td>\n",
       "    </tr>\n",
       "    <tr>\n",
       "      <th>6</th>\n",
       "      <td>ASSAULT</td>\n",
       "      <td>108</td>\n",
       "    </tr>\n",
       "    <tr>\n",
       "      <th>7</th>\n",
       "      <td>MOTOR VEHICLE THEFT</td>\n",
       "      <td>69</td>\n",
       "    </tr>\n",
       "    <tr>\n",
       "      <th>8</th>\n",
       "      <td>ROBBERY</td>\n",
       "      <td>66</td>\n",
       "    </tr>\n",
       "    <tr>\n",
       "      <th>9</th>\n",
       "      <td>BURGLARY</td>\n",
       "      <td>65</td>\n",
       "    </tr>\n",
       "  </tbody>\n",
       "</table>\n",
       "</div>"
      ],
      "text/plain": [
       "          primary_type  count\n",
       "0                THEFT    371\n",
       "1              BATTERY    280\n",
       "2            NARCOTICS    227\n",
       "3      CRIMINAL DAMAGE    169\n",
       "4   DECEPTIVE PRACTICE    133\n",
       "5        OTHER OFFENSE    122\n",
       "6              ASSAULT    108\n",
       "7  MOTOR VEHICLE THEFT     69\n",
       "8              ROBBERY     66\n",
       "9             BURGLARY     65"
      ]
     },
     "execution_count": 181,
     "metadata": {},
     "output_type": "execute_result"
    }
   ],
   "source": [
    "counts_pddf.head(10)"
   ]
  },
  {
   "cell_type": "code",
   "execution_count": 182,
   "metadata": {
    "scrolled": false
   },
   "outputs": [
    {
     "data": {
      "text/plain": [
       "[Text(0, 0.5, 'Primary Type'), Text(0.5, 0, 'Crimes Record Count')]"
      ]
     },
     "execution_count": 182,
     "metadata": {},
     "output_type": "execute_result"
    },
    {
     "data": {
      "image/png": "[encoded data removed]",
      "text/plain": [
       "<Figure size 1440x576 with 1 Axes>"
      ]
     },
     "metadata": {},
     "output_type": "display_data"
    }
   ],
   "source": [
    "plt.rcParams[\"figure.figsize\"] = [20, 8]\n",
    "\n",
    "sns.set(style=\"whitegrid\")\n",
    "sns.set_color_codes(\"pastel\")\n",
    "\n",
    "#sns.despine(left=True, bottom=True)\n",
    "type_graph = sns.barplot(x='count', y='primary_type', data=counts_pddf)\n",
    "type_graph.set(ylabel=\"Primary Type\", xlabel=\"Crimes Record Count\")"
   ]
  },
  {
   "cell_type": "markdown",
   "metadata": {},
   "source": [
    "### Recorded Date"
   ]
  },
  {
   "cell_type": "code",
   "execution_count": 183,
   "metadata": {},
   "outputs": [],
   "source": [
    "import datetime\n",
    "from pyspark.sql.functions import *"
   ]
  },
  {
   "cell_type": "code",
   "execution_count": 184,
   "metadata": {},
   "outputs": [
    {
     "name": "stdout",
     "output_type": "stream",
     "text": [
      "+----------------------+----------------------+\n",
      "|first_record_date     |latest_record_date    |\n",
      "+----------------------+----------------------+\n",
      "|01/01/2012 12:00:00 AM|12/31/2015 07:00:00 AM|\n",
      "+----------------------+----------------------+\n",
      "\n"
     ]
    }
   ],
   "source": [
    "df.select(min('date').alias('first_record_date'), max('date').alias('latest_record_date')).show(truncate=False)"
   ]
  },
  {
   "cell_type": "markdown",
   "metadata": {},
   "source": [
    "So it seems that the dataset we're dealing with comprises records from **2001-01-01** to **2016-12-31**"
   ]
  },
  {
   "cell_type": "markdown",
   "metadata": {},
   "source": [
    "---\n",
    "Converting dates to a timestamp type. As seen in the schema output above, the `date` field is of `string` type, which won't be very helpful\n",
    "\n",
    "The format specifier that seems valid for date like '02/23/2006 09:06:22 PM' is **`'MM/dd/yyyy hh:mm:ss a'`**"
   ]
  },
  {
   "cell_type": "code",
   "execution_count": 185,
   "metadata": {},
   "outputs": [],
   "source": [
    "df = df.withColumn('date_time', to_timestamp('date', 'MM/dd/yyyy hh:mm:ss a'))\\\n",
    "       .withColumn('month', trunc('date_time', 'YYYY')) #adding a month column to be able to view stats on a monthly basis"
   ]
  },
  {
   "cell_type": "code",
   "execution_count": 186,
   "metadata": {},
   "outputs": [
    {
     "name": "stdout",
     "output_type": "stream",
     "text": [
      "+----------------------+-------------------+----------+\n",
      "|date                  |date_time          |month     |\n",
      "+----------------------+-------------------+----------+\n",
      "|05/03/2016 11:40:00 PM|2016-05-03 23:40:00|2016-01-01|\n",
      "|05/03/2016 11:31:00 PM|2016-05-03 23:31:00|2016-01-01|\n",
      "+----------------------+-------------------+----------+\n",
      "only showing top 2 rows\n",
      "\n"
     ]
    }
   ],
   "source": [
    "df.select(['date','date_time', 'month'])\\\n",
    "  .show(n=2, truncate=False)"
   ]
  },
  {
   "cell_type": "code",
   "execution_count": 187,
   "metadata": {},
   "outputs": [],
   "source": [
    "df=df.dropna()"
   ]
  },
  {
   "cell_type": "markdown",
   "metadata": {},
   "source": [
    "### Primary type and arrest"
   ]
  },
  {
   "cell_type": "code",
   "execution_count": 188,
   "metadata": {},
   "outputs": [
    {
     "name": "stdout",
     "output_type": "stream",
     "text": [
      "\n",
      "+------+----------+-----+\n",
      "|arrest|month     |count|\n",
      "+------+----------+-----+\n",
      "|1     |2013-01-01|1    |\n",
      "|1     |2014-01-01|2    |\n",
      "|0     |2014-01-01|1    |\n",
      "+------+----------+-----+\n",
      "only showing top 3 rows\n",
      "\n"
     ]
    }
   ],
   "source": [
    "# crime types and arrest over years:\n",
    "type_arrest_date = df.groupBy(['arrest', 'month'])\\\n",
    "                     .count()\\\n",
    "                     .orderBy(['month', 'count'], ascending=[True, False])\n",
    "print()\n",
    "type_arrest_date.show(3, truncate=False)"
   ]
  },
  {
   "cell_type": "code",
   "execution_count": 189,
   "metadata": {},
   "outputs": [],
   "source": [
    "# A small detour to learn/see how datetime works\n",
    "import datetime"
   ]
  },
  {
   "cell_type": "code",
   "execution_count": 190,
   "metadata": {},
   "outputs": [
    {
     "data": {
      "text/plain": [
       "'18'"
      ]
     },
     "execution_count": 190,
     "metadata": {},
     "output_type": "execute_result"
    }
   ],
   "source": [
    "datetime.datetime.now()\n",
    "datetime.datetime.strftime(datetime.datetime.now(), '%H')"
   ]
  },
  {
   "cell_type": "code",
   "execution_count": 191,
   "metadata": {},
   "outputs": [],
   "source": [
    "# A pandas data frame of the collected dictionary version of the date-grouped DF above\n",
    "type_arrest_pddf = pd.DataFrame(type_arrest_date.rdd.map(lambda l: l.asDict()).collect())"
   ]
  },
  {
   "cell_type": "markdown",
   "metadata": {},
   "source": [
    "Convert date/time values to Pandas type\n",
    "\n",
    "*A lot of this is unnecessary, but that's called fiddling...*"
   ]
  },
  {
   "cell_type": "code",
   "execution_count": 192,
   "metadata": {},
   "outputs": [],
   "source": [
    "type_arrest_pddf['yearpd'] = type_arrest_pddf['month'].apply(lambda dt: datetime.datetime.strftime(pd.Timestamp(dt), '%Y'))"
   ]
  },
  {
   "cell_type": "code",
   "execution_count": 193,
   "metadata": {},
   "outputs": [
    {
     "data": {
      "text/html": [
       "<div>\n",
       "<style scoped>\n",
       "    .dataframe tbody tr th:only-of-type {\n",
       "        vertical-align: middle;\n",
       "    }\n",
       "\n",
       "    .dataframe tbody tr th {\n",
       "        vertical-align: top;\n",
       "    }\n",
       "\n",
       "    .dataframe thead th {\n",
       "        text-align: right;\n",
       "    }\n",
       "</style>\n",
       "<table border=\"1\" class=\"dataframe\">\n",
       "  <thead>\n",
       "    <tr style=\"text-align: right;\">\n",
       "      <th></th>\n",
       "      <th>arrest</th>\n",
       "      <th>month</th>\n",
       "      <th>count</th>\n",
       "      <th>yearpd</th>\n",
       "    </tr>\n",
       "  </thead>\n",
       "  <tbody>\n",
       "    <tr>\n",
       "      <th>0</th>\n",
       "      <td>False</td>\n",
       "      <td>2013-01-01</td>\n",
       "      <td>1</td>\n",
       "      <td>2013</td>\n",
       "    </tr>\n",
       "    <tr>\n",
       "      <th>1</th>\n",
       "      <td>False</td>\n",
       "      <td>2014-01-01</td>\n",
       "      <td>2</td>\n",
       "      <td>2014</td>\n",
       "    </tr>\n",
       "    <tr>\n",
       "      <th>2</th>\n",
       "      <td>False</td>\n",
       "      <td>2014-01-01</td>\n",
       "      <td>1</td>\n",
       "      <td>2014</td>\n",
       "    </tr>\n",
       "    <tr>\n",
       "      <th>3</th>\n",
       "      <td>False</td>\n",
       "      <td>2015-01-01</td>\n",
       "      <td>138</td>\n",
       "      <td>2015</td>\n",
       "    </tr>\n",
       "    <tr>\n",
       "      <th>4</th>\n",
       "      <td>False</td>\n",
       "      <td>2015-01-01</td>\n",
       "      <td>24</td>\n",
       "      <td>2015</td>\n",
       "    </tr>\n",
       "  </tbody>\n",
       "</table>\n",
       "</div>"
      ],
      "text/plain": [
       "   arrest       month  count yearpd\n",
       "0   False  2013-01-01      1   2013\n",
       "1   False  2014-01-01      2   2014\n",
       "2   False  2014-01-01      1   2014\n",
       "3   False  2015-01-01    138   2015\n",
       "4   False  2015-01-01     24   2015"
      ]
     },
     "execution_count": 193,
     "metadata": {},
     "output_type": "execute_result"
    }
   ],
   "source": [
    "type_arrest_pddf['arrest'] = type_arrest_pddf['arrest'].apply(lambda l: l=='True')\n",
    "type_arrest_pddf.head(5)"
   ]
  },
  {
   "cell_type": "markdown",
   "metadata": {},
   "source": [
    "### How have arrests evolved over the 16 years?"
   ]
  },
  {
   "cell_type": "code",
   "execution_count": 194,
   "metadata": {},
   "outputs": [
    {
     "data": {
      "text/plain": [
       "<matplotlib.legend.Legend at 0x7fef59864490>"
      ]
     },
     "execution_count": 194,
     "metadata": {},
     "output_type": "execute_result"
    },
    {
     "data": {
      "image/png": "[encoded data removed]",
      "text/plain": [
       "<Figure size 1440x576 with 1 Axes>"
      ]
     },
     "metadata": {},
     "output_type": "display_data"
    }
   ],
   "source": [
    "# Data for plotting\n",
    "t = type_arrest_pddf['count'] - 20 # np.arange(0.0, 2.0, 0.01)\n",
    "s = type_arrest_pddf['month'] \n",
    "\n",
    "arrested = type_arrest_pddf[type_arrest_pddf['arrest'] == True]\n",
    "not_arrested = type_arrest_pddf[type_arrest_pddf['arrest'] == False]\n",
    "\n",
    "# Note that using plt.subplots below is equivalent to using\n",
    "# fig = plt.figure() and then ax = fig.add_subplot(111)\n",
    "fig, ax = plt.subplots()\n",
    "ax.plot(arrested['month'], arrested['count'], label='Arrested')\n",
    "ax.plot(not_arrested['month'], not_arrested['count'], label='Not Arrested')\n",
    "\n",
    "ax.set(xlabel='Year - 2001-2017', ylabel='Total records',\n",
    "       title='Year-on-year crime records')\n",
    "ax.grid(b=True, which='both', axis='y')\n",
    "ax.legend()"
   ]
  },
  {
   "cell_type": "markdown",
   "metadata": {},
   "source": [
    "It looks like the relative distance between arrests and non-arrests has remained constant.."
   ]
  },
  {
   "cell_type": "markdown",
   "metadata": {},
   "source": [
    "### What time of the day are ciminal the busiest?"
   ]
  },
  {
   "cell_type": "code",
   "execution_count": 195,
   "metadata": {},
   "outputs": [],
   "source": [
    "# Extract the \"hour\" field from the date into a separate column called \"hour\"\n",
    "df_hour = df.withColumn('hour', hour(df['date_time']))"
   ]
  },
  {
   "cell_type": "code",
   "execution_count": 196,
   "metadata": {},
   "outputs": [],
   "source": [
    "# Derive a data frame with crime counts per hour of the day:\n",
    "hourly_count = df_hour.groupBy(['primary_type', 'hour']).count().cache()\n",
    "hourly_total_count = hourly_count.groupBy('hour').sum('count')"
   ]
  },
  {
   "cell_type": "code",
   "execution_count": 197,
   "metadata": {},
   "outputs": [],
   "source": [
    "hourly_count_pddf = pd.DataFrame(hourly_total_count.select(hourly_total_count['hour'], hourly_total_count['sum(count)'].alias('count'))\\\n",
    "                                .rdd.map(lambda l: l.asDict())\\\n",
    "                                 .collect())"
   ]
  },
  {
   "cell_type": "code",
   "execution_count": 198,
   "metadata": {},
   "outputs": [],
   "source": [
    "hourly_count_pddf = hourly_count_pddf.sort_values(by='hour')"
   ]
  },
  {
   "cell_type": "markdown",
   "metadata": {},
   "source": [
    "Seems that 18-22 are the worst hours..."
   ]
  },
  {
   "cell_type": "code",
   "execution_count": 199,
   "metadata": {},
   "outputs": [
    {
     "data": {
      "text/plain": [
       "<matplotlib.legend.Legend at 0x7fef597dff10>"
      ]
     },
     "execution_count": 199,
     "metadata": {},
     "output_type": "execute_result"
    },
    {
     "data": {
      "image/png": "[encoded data removed]",
      "text/plain": [
       "<Figure size 1440x576 with 1 Axes>"
      ]
     },
     "metadata": {},
     "output_type": "display_data"
    }
   ],
   "source": [
    "fig, ax = plt.subplots()\n",
    "ax.plot(hourly_count_pddf['hour'], hourly_count_pddf['count'], label='Hourly Count')\n",
    "\n",
    "ax.set(xlabel='Hour of Day', ylabel='Total records',\n",
    "       title='Overall hourly crime numbers')\n",
    "ax.grid(b=True, which='both', axis='y')\n",
    "ax.legend()"
   ]
  },
  {
   "cell_type": "markdown",
   "metadata": {},
   "source": [
    "### Types of locations with crime entries"
   ]
  },
  {
   "cell_type": "code",
   "execution_count": 200,
   "metadata": {},
   "outputs": [
    {
     "data": {
      "text/plain": [
       "68"
      ]
     },
     "execution_count": 200,
     "metadata": {},
     "output_type": "execute_result"
    }
   ],
   "source": [
    "# Number of types of location recorded in the dataset\n",
    "df.select('location_description').distinct().count()"
   ]
  },
  {
   "cell_type": "markdown",
   "metadata": {},
   "source": [
    "What are the top 10 places where crime occurred?"
   ]
  },
  {
   "cell_type": "code",
   "execution_count": 201,
   "metadata": {},
   "outputs": [
    {
     "name": "stdout",
     "output_type": "stream",
     "text": [
      "+--------------------+-----+\n",
      "|location_description|count|\n",
      "+--------------------+-----+\n",
      "|              STREET|  365|\n",
      "|           RESIDENCE|  280|\n",
      "|           APARTMENT|  207|\n",
      "|            SIDEWALK|  166|\n",
      "|               OTHER|   60|\n",
      "|PARKING LOT/GARAG...|   48|\n",
      "|               ALLEY|   45|\n",
      "|VEHICLE NON-COMME...|   43|\n",
      "|SCHOOL, PUBLIC, B...|   43|\n",
      "|  SMALL RETAIL STORE|   42|\n",
      "+--------------------+-----+\n",
      "only showing top 10 rows\n",
      "\n"
     ]
    }
   ],
   "source": [
    "df.groupBy(['location_description']).count().orderBy('count', ascending=False).show(10)"
   ]
  },
  {
   "cell_type": "markdown",
   "metadata": {},
   "source": [
    "Can we see how the top crime locations are affected over the day?"
   ]
  },
  {
   "cell_type": "markdown",
   "metadata": {},
   "source": [
    "#### This may be just me, but it seems that crimes at home increase when crimes on the street decrease. Could it be that it's the same kind of people that are in charge of both home and streets?"
   ]
  },
  {
   "cell_type": "markdown",
   "metadata": {},
   "source": [
    "#### How do domestic crimes compare the other crimes?"
   ]
  },
  {
   "cell_type": "markdown",
   "metadata": {},
   "source": [
    "### A closer look at crime date and time\n",
    "\n",
    "The information given here indicates when the crime is perpetrated. The date/time field may be able to draw a meaningful trend that can be used to predict crime. However, I believe that this leads much more to external factors, such as policy changes, law inforcement-related factors, and so on.\n",
    "\n",
    "It's much more likely that time-related features that are more closely relatable to crime occurence be better predictors than the date and time. I mean, knowing the month of the year, the day of the week, and the hour of the day that the crime occurred can enable better chances of predicting accurately than simply knowing \"when\" AD crimes occurred."
   ]
  },
  {
   "cell_type": "markdown",
   "metadata": {},
   "source": [
    "Adding predictors (so far fields) that read time information:\n",
    "\n",
    " * hour of day (already added the 'hour' field)\n",
    " * day of week\n",
    " * month of year\n",
    " * day in a range. Instead of using the entire date-time, we'll use a \"day sequence\" that is counted from 2001-01-01."
   ]
  },
  {
   "cell_type": "code",
   "execution_count": 208,
   "metadata": {},
   "outputs": [],
   "source": [
    "df_dates = df_hour.withColumn('week_day', dayofweek(df_hour['date_time']))\\\n",
    "                 .withColumn('year_month', month(df_hour['date_time']))\\\n",
    "                 .withColumn('month_day', dayofmonth(df_hour['date_time']))\\\n",
    "                 .withColumn('date_number', datediff(df['date_time'], to_date(lit('2001-01-01'), format='yyyy-MM-dd')))\\\n",
    "                 .cache()"
   ]
  },
  {
   "cell_type": "code",
   "execution_count": 209,
   "metadata": {},
   "outputs": [
    {
     "name": "stdout",
     "output_type": "stream",
     "text": [
      "+----------------------+----------+----+--------+----+----------+---------+-----------+\n",
      "|date                  |month     |hour|week_day|year|year_month|month_day|date_number|\n",
      "+----------------------+----------+----+--------+----+----------+---------+-----------+\n",
      "|05/03/2016 11:40:00 PM|2016-01-01|23  |3       |2016|5         |3        |5601       |\n",
      "|05/03/2016 11:31:00 PM|2016-01-01|23  |3       |2016|5         |3        |5601       |\n",
      "|05/03/2016 10:10:00 PM|2016-01-01|22  |3       |2016|5         |3        |5601       |\n",
      "|05/03/2016 10:00:00 PM|2016-01-01|22  |3       |2016|5         |3        |5601       |\n",
      "|05/03/2016 10:35:00 PM|2016-01-01|22  |3       |2016|5         |3        |5601       |\n",
      "|05/03/2016 10:30:00 PM|2016-01-01|22  |3       |2016|5         |3        |5601       |\n",
      "|05/03/2016 09:30:00 PM|2016-01-01|21  |3       |2016|5         |3        |5601       |\n",
      "|05/03/2016 04:00:00 PM|2016-01-01|16  |3       |2016|5         |3        |5601       |\n",
      "|05/03/2016 10:30:00 PM|2016-01-01|22  |3       |2016|5         |3        |5601       |\n",
      "|05/03/2016 09:44:00 PM|2016-01-01|21  |3       |2016|5         |3        |5601       |\n",
      "|05/03/2016 11:11:00 PM|2016-01-01|23  |3       |2016|5         |3        |5601       |\n",
      "|05/03/2016 05:30:00 PM|2016-01-01|17  |3       |2016|5         |3        |5601       |\n",
      "|05/03/2016 09:00:00 AM|2016-01-01|9   |3       |2016|5         |3        |5601       |\n",
      "|05/03/2016 10:08:00 PM|2016-01-01|22  |3       |2016|5         |3        |5601       |\n",
      "|05/03/2016 04:00:00 PM|2016-01-01|16  |3       |2016|5         |3        |5601       |\n",
      "|05/03/2016 09:45:00 PM|2016-01-01|21  |3       |2016|5         |3        |5601       |\n",
      "|05/03/2016 10:00:00 PM|2016-01-01|22  |3       |2016|5         |3        |5601       |\n",
      "|05/03/2016 08:00:00 PM|2016-01-01|20  |3       |2016|5         |3        |5601       |\n",
      "|05/03/2016 11:00:00 PM|2016-01-01|23  |3       |2016|5         |3        |5601       |\n",
      "|05/03/2016 11:37:00 PM|2016-01-01|23  |3       |2016|5         |3        |5601       |\n",
      "+----------------------+----------+----+--------+----+----------+---------+-----------+\n",
      "only showing top 20 rows\n",
      "\n"
     ]
    }
   ],
   "source": [
    "df_dates.select(['date', 'month', 'hour', 'week_day', 'year', 'year_month', 'month_day', 'date_number']).show(20, truncate=False)"
   ]
  },
  {
   "cell_type": "markdown",
   "metadata": {},
   "source": [
    "## Day of week crime levels\n",
    "\n",
    "It seems intriguing that the're little variance... But bad people are bad all week, aren't they..."
   ]
  },
  {
   "cell_type": "code",
   "execution_count": 210,
   "metadata": {},
   "outputs": [],
   "source": [
    "week_day_crime_counts = df_dates.groupBy('week_day').count()"
   ]
  },
  {
   "cell_type": "code",
   "execution_count": 211,
   "metadata": {},
   "outputs": [],
   "source": [
    "week_day_crime_counts_pddf = pd.DataFrame(week_day_crime_counts.orderBy('week_day').rdd.map(lambda e: e.asDict()).collect())"
   ]
  },
  {
   "cell_type": "code",
   "execution_count": 212,
   "metadata": {},
   "outputs": [
    {
     "data": {
      "text/plain": [
       "<matplotlib.axes._subplots.AxesSubplot at 0x7fef597172d0>"
      ]
     },
     "execution_count": 212,
     "metadata": {},
     "output_type": "execute_result"
    },
    {
     "data": {
      "image/png": "[encoded data removed]",
      "text/plain": [
       "<Figure size 1440x576 with 1 Axes>"
      ]
     },
     "metadata": {},
     "output_type": "display_data"
    }
   ],
   "source": [
    "sns.barplot(data=week_day_crime_counts_pddf, x='week_day', y='count')"
   ]
  },
  {
   "cell_type": "markdown",
   "metadata": {},
   "source": [
    "## Month of year\n",
    "\n",
    "It seems that May-August are the busiest months for criminals... What could be the reason?"
   ]
  },
  {
   "cell_type": "code",
   "execution_count": 213,
   "metadata": {},
   "outputs": [],
   "source": [
    "year_month_crime_counts = df_dates.groupBy('year_month').count()"
   ]
  },
  {
   "cell_type": "code",
   "execution_count": 214,
   "metadata": {},
   "outputs": [],
   "source": [
    "year_month_crime_counts_pddf = pd.DataFrame(year_month_crime_counts.orderBy('year_month').rdd.map(lambda e: e.asDict()).collect())"
   ]
  },
  {
   "cell_type": "code",
   "execution_count": 215,
   "metadata": {},
   "outputs": [
    {
     "data": {
      "text/html": [
       "<div>\n",
       "<style scoped>\n",
       "    .dataframe tbody tr th:only-of-type {\n",
       "        vertical-align: middle;\n",
       "    }\n",
       "\n",
       "    .dataframe tbody tr th {\n",
       "        vertical-align: top;\n",
       "    }\n",
       "\n",
       "    .dataframe thead th {\n",
       "        text-align: right;\n",
       "    }\n",
       "</style>\n",
       "<table border=\"1\" class=\"dataframe\">\n",
       "  <thead>\n",
       "    <tr style=\"text-align: right;\">\n",
       "      <th></th>\n",
       "      <th>year_month</th>\n",
       "      <th>count</th>\n",
       "    </tr>\n",
       "  </thead>\n",
       "  <tbody>\n",
       "    <tr>\n",
       "      <th>0</th>\n",
       "      <td>1</td>\n",
       "      <td>7</td>\n",
       "    </tr>\n",
       "    <tr>\n",
       "      <th>1</th>\n",
       "      <td>2</td>\n",
       "      <td>5</td>\n",
       "    </tr>\n",
       "    <tr>\n",
       "      <th>2</th>\n",
       "      <td>3</td>\n",
       "      <td>18</td>\n",
       "    </tr>\n",
       "    <tr>\n",
       "      <th>3</th>\n",
       "      <td>4</td>\n",
       "      <td>139</td>\n",
       "    </tr>\n",
       "    <tr>\n",
       "      <th>4</th>\n",
       "      <td>5</td>\n",
       "      <td>1424</td>\n",
       "    </tr>\n",
       "    <tr>\n",
       "      <th>5</th>\n",
       "      <td>6</td>\n",
       "      <td>10</td>\n",
       "    </tr>\n",
       "    <tr>\n",
       "      <th>6</th>\n",
       "      <td>7</td>\n",
       "      <td>9</td>\n",
       "    </tr>\n",
       "    <tr>\n",
       "      <th>7</th>\n",
       "      <td>8</td>\n",
       "      <td>24</td>\n",
       "    </tr>\n",
       "    <tr>\n",
       "      <th>8</th>\n",
       "      <td>9</td>\n",
       "      <td>21</td>\n",
       "    </tr>\n",
       "    <tr>\n",
       "      <th>9</th>\n",
       "      <td>10</td>\n",
       "      <td>3</td>\n",
       "    </tr>\n",
       "    <tr>\n",
       "      <th>10</th>\n",
       "      <td>11</td>\n",
       "      <td>8</td>\n",
       "    </tr>\n",
       "    <tr>\n",
       "      <th>11</th>\n",
       "      <td>12</td>\n",
       "      <td>5</td>\n",
       "    </tr>\n",
       "  </tbody>\n",
       "</table>\n",
       "</div>"
      ],
      "text/plain": [
       "    year_month  count\n",
       "0            1      7\n",
       "1            2      5\n",
       "2            3     18\n",
       "3            4    139\n",
       "4            5   1424\n",
       "5            6     10\n",
       "6            7      9\n",
       "7            8     24\n",
       "8            9     21\n",
       "9           10      3\n",
       "10          11      8\n",
       "11          12      5"
      ]
     },
     "execution_count": 215,
     "metadata": {},
     "output_type": "execute_result"
    }
   ],
   "source": [
    "year_month_crime_counts_pddf"
   ]
  },
  {
   "cell_type": "markdown",
   "metadata": {},
   "source": [
    "What happens in MAY through AUGUST?\n",
    "\n",
    " * Salary increase season?\n",
    " * Weather?\n",
    "\n",
    "I think these don't form the Christmas season in Chicago..."
   ]
  },
  {
   "cell_type": "code",
   "execution_count": 216,
   "metadata": {},
   "outputs": [
    {
     "data": {
      "text/plain": [
       "<matplotlib.axes._subplots.AxesSubplot at 0x7fef59707a50>"
      ]
     },
     "execution_count": 216,
     "metadata": {},
     "output_type": "execute_result"
    },
    {
     "data": {
      "image/png": "[encoded data removed]",
      "text/plain": [
       "<Figure size 1440x576 with 1 Axes>"
      ]
     },
     "metadata": {},
     "output_type": "display_data"
    }
   ],
   "source": [
    "sns.barplot(data=year_month_crime_counts_pddf, y='count', x='year_month')"
   ]
  },
  {
   "cell_type": "markdown",
   "metadata": {},
   "source": [
    "## Day of month"
   ]
  },
  {
   "cell_type": "code",
   "execution_count": 217,
   "metadata": {},
   "outputs": [],
   "source": [
    "month_day_crime_counts = df_dates.groupBy('month_day').count()"
   ]
  },
  {
   "cell_type": "code",
   "execution_count": 218,
   "metadata": {},
   "outputs": [],
   "source": [
    "month_day_crime_counts_pddf = pd.DataFrame(month_day_crime_counts.orderBy('month_day').rdd.map(lambda e: e.asDict()).collect())"
   ]
  },
  {
   "cell_type": "markdown",
   "metadata": {},
   "source": [
    "#### Top 10 worst days of the month"
   ]
  },
  {
   "cell_type": "code",
   "execution_count": 219,
   "metadata": {},
   "outputs": [
    {
     "data": {
      "text/html": [
       "<div>\n",
       "<style scoped>\n",
       "    .dataframe tbody tr th:only-of-type {\n",
       "        vertical-align: middle;\n",
       "    }\n",
       "\n",
       "    .dataframe tbody tr th {\n",
       "        vertical-align: top;\n",
       "    }\n",
       "\n",
       "    .dataframe thead th {\n",
       "        text-align: right;\n",
       "    }\n",
       "</style>\n",
       "<table border=\"1\" class=\"dataframe\">\n",
       "  <thead>\n",
       "    <tr style=\"text-align: right;\">\n",
       "      <th></th>\n",
       "      <th>month_day</th>\n",
       "      <th>count</th>\n",
       "    </tr>\n",
       "  </thead>\n",
       "  <tbody>\n",
       "    <tr>\n",
       "      <th>4</th>\n",
       "      <td>5</td>\n",
       "      <td>543</td>\n",
       "    </tr>\n",
       "    <tr>\n",
       "      <th>3</th>\n",
       "      <td>4</td>\n",
       "      <td>538</td>\n",
       "    </tr>\n",
       "    <tr>\n",
       "      <th>2</th>\n",
       "      <td>3</td>\n",
       "      <td>165</td>\n",
       "    </tr>\n",
       "    <tr>\n",
       "      <th>5</th>\n",
       "      <td>6</td>\n",
       "      <td>142</td>\n",
       "    </tr>\n",
       "    <tr>\n",
       "      <th>1</th>\n",
       "      <td>2</td>\n",
       "      <td>26</td>\n",
       "    </tr>\n",
       "    <tr>\n",
       "      <th>0</th>\n",
       "      <td>1</td>\n",
       "      <td>22</td>\n",
       "    </tr>\n",
       "    <tr>\n",
       "      <th>14</th>\n",
       "      <td>15</td>\n",
       "      <td>15</td>\n",
       "    </tr>\n",
       "    <tr>\n",
       "      <th>23</th>\n",
       "      <td>24</td>\n",
       "      <td>15</td>\n",
       "    </tr>\n",
       "    <tr>\n",
       "      <th>29</th>\n",
       "      <td>30</td>\n",
       "      <td>15</td>\n",
       "    </tr>\n",
       "    <tr>\n",
       "      <th>12</th>\n",
       "      <td>13</td>\n",
       "      <td>14</td>\n",
       "    </tr>\n",
       "  </tbody>\n",
       "</table>\n",
       "</div>"
      ],
      "text/plain": [
       "    month_day  count\n",
       "4           5    543\n",
       "3           4    538\n",
       "2           3    165\n",
       "5           6    142\n",
       "1           2     26\n",
       "0           1     22\n",
       "14         15     15\n",
       "23         24     15\n",
       "29         30     15\n",
       "12         13     14"
      ]
     },
     "execution_count": 219,
     "metadata": {},
     "output_type": "execute_result"
    }
   ],
   "source": [
    "month_day_crime_counts_pddf.sort_values(by='count', ascending=False).head(10)"
   ]
  },
  {
   "cell_type": "code",
   "execution_count": 220,
   "metadata": {},
   "outputs": [],
   "source": [
    "month_day_crime_counts_pddf = month_day_crime_counts_pddf.sort_values(by='month_day', ascending=True)"
   ]
  },
  {
   "cell_type": "code",
   "execution_count": 221,
   "metadata": {},
   "outputs": [
    {
     "data": {
      "text/plain": [
       "<matplotlib.legend.Legend at 0x7fef595cd710>"
      ]
     },
     "execution_count": 221,
     "metadata": {},
     "output_type": "execute_result"
    },
    {
     "data": {
      "image/png": "[encoded data removed]",
      "text/plain": [
       "<Figure size 1440x576 with 1 Axes>"
      ]
     },
     "metadata": {},
     "output_type": "display_data"
    }
   ],
   "source": [
    "fg, ax = plt.subplots()\n",
    "\n",
    "ax.plot(month_day_crime_counts_pddf['month_day'], month_day_crime_counts_pddf['count'], label='Crimes over the month')\n",
    "\n",
    "ax.grid(b=True, which='both')\n",
    "ax.legend()"
   ]
  },
  {
   "cell_type": "markdown",
   "metadata": {},
   "source": [
    "### Community areas?\n",
    "\n",
    "Chicago has 77 community areas. How do they appear next to one another in a count plot?"
   ]
  },
  {
   "cell_type": "code",
   "execution_count": 222,
   "metadata": {},
   "outputs": [],
   "source": [
    "df_dates_community_areas = df_dates.na.drop(subset=['community_area']).groupBy('community_area').count()"
   ]
  },
  {
   "cell_type": "markdown",
   "metadata": {},
   "source": [
    "What are the to 10 areas with recorded crime?"
   ]
  },
  {
   "cell_type": "code",
   "execution_count": 223,
   "metadata": {
    "scrolled": true
   },
   "outputs": [
    {
     "name": "stdout",
     "output_type": "stream",
     "text": [
      "+--------------+-----+\n",
      "|community_area|count|\n",
      "+--------------+-----+\n",
      "|            25|  101|\n",
      "|             8|   64|\n",
      "|            67|   63|\n",
      "|            29|   59|\n",
      "|            24|   53|\n",
      "|            26|   51|\n",
      "|            28|   49|\n",
      "|            43|   49|\n",
      "|            23|   49|\n",
      "|            66|   48|\n",
      "+--------------+-----+\n",
      "only showing top 10 rows\n",
      "\n"
     ]
    }
   ],
   "source": [
    "df_dates_community_areas.orderBy('count', ascending=False).show(10)"
   ]
  },
  {
   "cell_type": "code",
   "execution_count": 224,
   "metadata": {},
   "outputs": [],
   "source": [
    "## Is it possible to see how the top crime types occur in the top crime-affected areas?\n",
    "top_crime_types = df_dates.select('primary_type').groupBy('primary_type').count().rdd.map(lambda row: row.asDict()).takeOrdered(10, key=lambda l: 1/l['count'])\n",
    "top_busy_areas =  df_dates_community_areas.rdd.map(lambda row: row.asDict()).takeOrdered(10, key=lambda l: 1/l['count'])"
   ]
  },
  {
   "cell_type": "code",
   "execution_count": 225,
   "metadata": {},
   "outputs": [],
   "source": [
    "top_crime_types_lst = [dc['primary_type'] for dc in top_crime_types]\n",
    "top_busy_areas_lst = [dc['community_area'] for dc in top_busy_areas]"
   ]
  },
  {
   "cell_type": "code",
   "execution_count": 226,
   "metadata": {},
   "outputs": [
    {
     "data": {
      "text/plain": [
       "['THEFT',\n",
       " 'BATTERY',\n",
       " 'NARCOTICS',\n",
       " 'CRIMINAL DAMAGE',\n",
       " 'OTHER OFFENSE',\n",
       " 'ASSAULT',\n",
       " 'DECEPTIVE PRACTICE',\n",
       " 'MOTOR VEHICLE THEFT',\n",
       " 'ROBBERY',\n",
       " 'BURGLARY']"
      ]
     },
     "execution_count": 226,
     "metadata": {},
     "output_type": "execute_result"
    }
   ],
   "source": [
    "top_crime_types_lst"
   ]
  },
  {
   "cell_type": "code",
   "execution_count": 227,
   "metadata": {},
   "outputs": [
    {
     "data": {
      "text/plain": [
       "[25, 8, 67, 29, 24, 26, 28, 43, 23, 66]"
      ]
     },
     "execution_count": 227,
     "metadata": {},
     "output_type": "execute_result"
    }
   ],
   "source": [
    "top_busy_areas_lst"
   ]
  },
  {
   "cell_type": "markdown",
   "metadata": {},
   "source": [
    "Find crimes of the top 10 types, that were perpetrated in the 10 10 busiest cities..."
   ]
  },
  {
   "cell_type": "code",
   "execution_count": 228,
   "metadata": {},
   "outputs": [
    {
     "name": "stdout",
     "output_type": "stream",
     "text": [
      "instr('25 8 67 29 24 26 28 43 23 66', community_area) > 0\n"
     ]
    }
   ],
   "source": [
    "q1 = \"instr('\" + ' '.join([str(i) for i in top_busy_areas_lst]) + \"', community_area) > 0\"\n",
    "q2 = \"instr('\" + ' '.join([str(i) for i in top_crime_types_lst])+ \"', primary_type) > 0\"\n",
    "print(q1)"
   ]
  },
  {
   "cell_type": "code",
   "execution_count": 229,
   "metadata": {},
   "outputs": [],
   "source": [
    "## Construct a data frame filtered on these top community areas and top crime types:\n",
    "df_dates_tops = df_dates.filter(q1).filter(q2)"
   ]
  },
  {
   "cell_type": "code",
   "execution_count": 230,
   "metadata": {},
   "outputs": [
    {
     "data": {
      "text/plain": [
       "654"
      ]
     },
     "execution_count": 230,
     "metadata": {},
     "output_type": "execute_result"
    }
   ],
   "source": [
    "df_dates_tops.count()"
   ]
  },
  {
   "cell_type": "code",
   "execution_count": 231,
   "metadata": {},
   "outputs": [],
   "source": [
    "tops_of_tops = df_dates_tops.groupBy(['primary_type', 'community_area']).count().orderBy(['primary_type', 'count', 'community_area'], ascending=[True, False, True]).cache()"
   ]
  },
  {
   "cell_type": "code",
   "execution_count": 232,
   "metadata": {},
   "outputs": [
    {
     "name": "stdout",
     "output_type": "stream",
     "text": [
      "+------------+--------------+-----+\n",
      "|primary_type|community_area|count|\n",
      "+------------+--------------+-----+\n",
      "|     ASSAULT|            29|    8|\n",
      "|     ASSAULT|            25|    6|\n",
      "|     ASSAULT|            43|    6|\n",
      "|     ASSAULT|            23|    5|\n",
      "|     ASSAULT|            67|    4|\n",
      "|     ASSAULT|             6|    3|\n",
      "|     ASSAULT|            24|    3|\n",
      "|     ASSAULT|            28|    3|\n",
      "|     ASSAULT|            66|    3|\n",
      "|     ASSAULT|            26|    2|\n",
      "|     ASSAULT|             2|    1|\n",
      "|     ASSAULT|             3|    1|\n",
      "|     BATTERY|            25|   21|\n",
      "|     BATTERY|            23|   10|\n",
      "|     BATTERY|            29|   10|\n",
      "|     BATTERY|            43|   10|\n",
      "|     BATTERY|             8|    9|\n",
      "|     BATTERY|            66|    9|\n",
      "|     BATTERY|            26|    8|\n",
      "|     BATTERY|             4|    5|\n",
      "+------------+--------------+-----+\n",
      "only showing top 20 rows\n",
      "\n"
     ]
    }
   ],
   "source": [
    "tops_of_tops.show(20)"
   ]
  },
  {
   "cell_type": "markdown",
   "metadata": {},
   "source": [
    "#### Community area names\n",
    "\n",
    "Let's link names of these community areas. These float numbers are having a hard time making any sense...\n",
    "\n",
    "Sourced from Chicago Tribune at http://www.chicagotribune.com/chi-community-areas-htmlstory.html\n"
   ]
  },
  {
   "cell_type": "code",
   "execution_count": 233,
   "metadata": {},
   "outputs": [],
   "source": [
    "area_names = \"\"\"\n",
    "01\tRogers Park\t\n",
    "40\tWashington Park\n",
    "02\tWest Ridge\t\n",
    "41\tHyde Park\n",
    "03\tUptown\t\n",
    "42\tWoodlawn\n",
    "04\tLincoln Square\t\n",
    "43\tSouth Shore\n",
    "05\tNorth Center\t\n",
    "44\tChatham\n",
    "06\tLakeview\t\n",
    "45\tAvalon Park\n",
    "07\tLincoln Park\t\n",
    "46\tSouth Chicago\n",
    "08\tNear North Side\t\n",
    "47\tBurnside\n",
    "09\tEdison Park\t\n",
    "48\tCalumet Heights\n",
    "10\tNorwood Park\t\n",
    "49\tRoseland\n",
    "11\tJefferson Park\t\n",
    "50\tPullman\n",
    "12\tForest Glen\t\n",
    "51\tSouth Deering\n",
    "13\tNorth Park\t\n",
    "52\tEast Side\n",
    "14\tAlbany Park\t\n",
    "53\tWest Pullman\n",
    "15\tPortage Park\t\n",
    "54\tRiverdale\n",
    "16\tIrving Park\t\n",
    "55\tHegewisch\n",
    "17\tDunning\t\n",
    "56\tGarfield Ridge\n",
    "18\tMontclare\t\n",
    "57\tArcher Heights\n",
    "19\tBelmont Cragin\t\n",
    "58\tBrighton Park\n",
    "20\tHermosa\t\n",
    "59\tMcKinley Park\n",
    "21\tAvondale\t\n",
    "60\tBridgeport\n",
    "22\tLogan Square\t\n",
    "61\tNew City\n",
    "23\tHumboldt Park\t\n",
    "62\tWest Elsdon\n",
    "24\tWest Town\t\n",
    "63\tGage Park\n",
    "25\tAustin\t\n",
    "64\tClearing\n",
    "26\tWest Garfield Park \t\n",
    "65\tWest Lawn\n",
    "27\tEast Garfield Park\t\n",
    "66\tChicago Lawn\n",
    "28\tNear West Side\t\n",
    "67\tWest Englewood\n",
    "29\tNorth Lawndale\t\n",
    "68\tEnglewood\n",
    "30\tSouth Lawndale\t\n",
    "69\tGreater Grand Crossing\n",
    "31\tLower West Side\t\n",
    "70\tAshburn\n",
    "32\tLoop\t\n",
    "71\tAuburn Gresham\t\n",
    "33\tNear South Side\t\n",
    "72\tBeverly\n",
    "34\tArmour Square\t\n",
    "73\tWashington Heights\n",
    "35\tDouglas\t\n",
    "74\tMount Greenwood\n",
    "36\tOakland\t\n",
    "75\tMorgan Park\n",
    "37\tFuller Park\t\n",
    "76\tO'Hare\n",
    "38\tGrand Boulevard\t\n",
    "77\tEdgewater\n",
    "39\tKenwood\t\n",
    "\"\"\""
   ]
  },
  {
   "cell_type": "code",
   "execution_count": 234,
   "metadata": {},
   "outputs": [],
   "source": [
    "code_pairs = [[float(p[0]), p[1]] for p in [pair.strip().split('\\t') for pair in area_names.strip().split('\\n')]]"
   ]
  },
  {
   "cell_type": "code",
   "execution_count": 235,
   "metadata": {},
   "outputs": [
    {
     "data": {
      "text/plain": [
       "[[1.0, 'Rogers Park'],\n",
       " [40.0, 'Washington Park'],\n",
       " [2.0, 'West Ridge'],\n",
       " [41.0, 'Hyde Park'],\n",
       " [3.0, 'Uptown']]"
      ]
     },
     "execution_count": 235,
     "metadata": {},
     "output_type": "execute_result"
    }
   ],
   "source": [
    "code_pairs[:5]"
   ]
  },
  {
   "cell_type": "markdown",
   "metadata": {},
   "source": [
    "#### A view of crime count per community area"
   ]
  },
  {
   "cell_type": "code",
   "execution_count": 236,
   "metadata": {},
   "outputs": [],
   "source": [
    "community_area_counts = pd.DataFrame(df_dates_community_areas.rdd.map(lambda row: row.asDict()).collect())"
   ]
  },
  {
   "cell_type": "code",
   "execution_count": 237,
   "metadata": {},
   "outputs": [],
   "source": [
    "# Create a dictionary of area code to names\n",
    "area_name_dic = {float(k[0]):k[1] for k in code_pairs}"
   ]
  },
  {
   "cell_type": "code",
   "execution_count": 238,
   "metadata": {},
   "outputs": [],
   "source": [
    "community_area_counts['community_area_name'] = community_area_counts['community_area'].apply(lambda area: area_name_dic.get(float(area),  'unknown_%s'%area))"
   ]
  },
  {
   "cell_type": "code",
   "execution_count": 239,
   "metadata": {},
   "outputs": [
    {
     "data": {
      "text/html": [
       "<div>\n",
       "<style scoped>\n",
       "    .dataframe tbody tr th:only-of-type {\n",
       "        vertical-align: middle;\n",
       "    }\n",
       "\n",
       "    .dataframe tbody tr th {\n",
       "        vertical-align: top;\n",
       "    }\n",
       "\n",
       "    .dataframe thead th {\n",
       "        text-align: right;\n",
       "    }\n",
       "</style>\n",
       "<table border=\"1\" class=\"dataframe\">\n",
       "  <thead>\n",
       "    <tr style=\"text-align: right;\">\n",
       "      <th></th>\n",
       "      <th>community_area</th>\n",
       "      <th>count</th>\n",
       "      <th>community_area_name</th>\n",
       "    </tr>\n",
       "  </thead>\n",
       "  <tbody>\n",
       "    <tr>\n",
       "      <th>31</th>\n",
       "      <td>9</td>\n",
       "      <td>1</td>\n",
       "      <td>Edison Park</td>\n",
       "    </tr>\n",
       "    <tr>\n",
       "      <th>32</th>\n",
       "      <td>72</td>\n",
       "      <td>2</td>\n",
       "      <td>Beverly</td>\n",
       "    </tr>\n",
       "    <tr>\n",
       "      <th>36</th>\n",
       "      <td>55</td>\n",
       "      <td>2</td>\n",
       "      <td>Hegewisch</td>\n",
       "    </tr>\n",
       "    <tr>\n",
       "      <th>3</th>\n",
       "      <td>34</td>\n",
       "      <td>3</td>\n",
       "      <td>Armour Square</td>\n",
       "    </tr>\n",
       "    <tr>\n",
       "      <th>47</th>\n",
       "      <td>50</td>\n",
       "      <td>3</td>\n",
       "      <td>Pullman</td>\n",
       "    </tr>\n",
       "  </tbody>\n",
       "</table>\n",
       "</div>"
      ],
      "text/plain": [
       "    community_area  count community_area_name\n",
       "31               9      1         Edison Park\n",
       "32              72      2             Beverly\n",
       "36              55      2           Hegewisch\n",
       "3               34      3       Armour Square\n",
       "47              50      3             Pullman"
      ]
     },
     "execution_count": 239,
     "metadata": {},
     "output_type": "execute_result"
    }
   ],
   "source": [
    "community_area_counts = community_area_counts.sort_values(by='count')\n",
    "community_area_counts.head(5)"
   ]
  },
  {
   "cell_type": "markdown",
   "metadata": {},
   "source": [
    "**What is happening in Austin?**"
   ]
  },
  {
   "cell_type": "markdown",
   "metadata": {},
   "source": [
    "plt.rcParams[\"figure.figsize\"] = [32, 32]\n",
    "\n",
    "sns.set(style=\"whitegrid\")\n",
    "sns.set_color_codes(\"pastel\")\n",
    "\n",
    "#sns.despine(left=True, bottom=True)\n",
    "area_chart = sns.barplot(x='count', y='community_area_name', data=community_area_counts)\n",
    "area_chart.set(ylabel=\"Community Area Name\", xlabel=\"Overall Crimes Record Count\")"
   ]
  },
  {
   "cell_type": "markdown",
   "metadata": {},
   "source": [
    "** *Join these community areas on the main data frame* **"
   ]
  },
  {
   "cell_type": "code",
   "execution_count": 240,
   "metadata": {},
   "outputs": [],
   "source": [
    "code_pairs_df = spark.createDataFrame(code_pairs, ['community_area', 'area_name'])"
   ]
  },
  {
   "cell_type": "code",
   "execution_count": 241,
   "metadata": {},
   "outputs": [],
   "source": [
    "named_tops_of_tops = code_pairs_df.join(tops_of_tops, on='community_area', how='right')"
   ]
  },
  {
   "cell_type": "code",
   "execution_count": 242,
   "metadata": {
    "scrolled": true
   },
   "outputs": [
    {
     "name": "stdout",
     "output_type": "stream",
     "text": [
      "+--------------+---------------+------------------+-----+\n",
      "|community_area|      area_name|      primary_type|count|\n",
      "+--------------+---------------+------------------+-----+\n",
      "|             8|Near North Side|           BATTERY|    9|\n",
      "|             8|Near North Side|          BURGLARY|    1|\n",
      "|             8|Near North Side|   CRIMINAL DAMAGE|    4|\n",
      "|             8|Near North Side|DECEPTIVE PRACTICE|    6|\n",
      "|             8|Near North Side|         NARCOTICS|    3|\n",
      "|             8|Near North Side|     OTHER OFFENSE|    3|\n",
      "|             8|Near North Side|           ROBBERY|    2|\n",
      "|             8|Near North Side|             THEFT|   33|\n",
      "|            67| West Englewood|           ASSAULT|    4|\n",
      "|            67| West Englewood|           BATTERY|    4|\n",
      "+--------------+---------------+------------------+-----+\n",
      "only showing top 10 rows\n",
      "\n"
     ]
    }
   ],
   "source": [
    "named_tops_of_tops.show(10)"
   ]
  },
  {
   "cell_type": "code",
   "execution_count": 243,
   "metadata": {},
   "outputs": [],
   "source": [
    "tops_of_tops_dff = pd.DataFrame(named_tops_of_tops.rdd.map(lambda l: l.asDict()).collect() )"
   ]
  },
  {
   "cell_type": "code",
   "execution_count": 244,
   "metadata": {
    "scrolled": false
   },
   "outputs": [
    {
     "data": {
      "text/plain": [
       "<matplotlib.axes._subplots.AxesSubplot at 0x7fef595c7ad0>"
      ]
     },
     "execution_count": 244,
     "metadata": {},
     "output_type": "execute_result"
    },
    {
     "data": {
      "image/png": "[encoded data removed]",
      "text/plain": [
       "<Figure size 4608x1152 with 1 Axes>"
      ]
     },
     "metadata": {},
     "output_type": "display_data"
    }
   ],
   "source": [
    "plt.rcParams[\"figure.figsize\"] = [64, 16]\n",
    "sns.barplot(data=tops_of_tops_dff, x='area_name', y='count', hue='primary_type', palette='pastel')"
   ]
  },
  {
   "cell_type": "markdown",
   "metadata": {},
   "source": [
    "---\n",
    "\n",
    "\n",
    "# Can we try to predict the primary type of crime?\n",
    "\n",
    "Now on to another objective of this exercise. We're going to try to predict what kind of crime is going to occur given the selected features.\n",
    "\n",
    "Speaking about features, here's the list of predictors that I chose to go for:\n",
    "\n",
    "### Excluded variables:\n",
    "\n",
    " * 'id' - Random information that isn't a predictor of crime type\n",
    " * 'case_number' - Random information that isn't a predictor of crime type\n",
    " * 'date' - Removed because it's been re-featurized in other features generated above\n",
    " * 'block' - Excluded as this may simply mean noise\n",
    " * 'iucr' - Excluded as correlated with crime type. No point.\n",
    " * 'x_coordinate' - Not included\n",
    " * 'y_coordinate' - Not included\n",
    " * 'year' - Not included (already otherwise featurized)\n",
    " * 'updated_on' - not included\n",
    " * 'latitude' - not included\n",
    " * 'longitude' - not included\n",
    " * 'location' - not included\n",
    " * 'date_time' - Taken into account in other time-related features\n",
    " * 'description' - Excluded. I want to see this as associated with the response (primary type)\n",
    "\n",
    "\n",
    "### Selected predictors:\n",
    "\n",
    " * 'location_description'\n",
    " * 'arrest'\n",
    " * 'domestic'\n",
    " * 'beat'\n",
    " * 'district'\n",
    " * 'ward'\n",
    " * 'community_area'\n",
    " * 'fbi_code'\n",
    " * 'hour'\n",
    " * 'week_day'\n",
    " * 'year_month'\n",
    " * 'month_day'\n",
    " * 'date_number'"
   ]
  },
  {
   "cell_type": "code",
   "execution_count": 245,
   "metadata": {},
   "outputs": [],
   "source": [
    "selected_features = [\n",
    " 'location_description',\n",
    " 'arrest',\n",
    " 'domestic',\n",
    " 'beat',\n",
    " 'district',\n",
    " 'ward',\n",
    " 'community_area',\n",
    " 'fbi_code',\n",
    " 'hour',\n",
    " 'week_day',\n",
    " 'year_month',\n",
    " 'month_day',\n",
    " 'date_number']"
   ]
  },
  {
   "cell_type": "code",
   "execution_count": 246,
   "metadata": {},
   "outputs": [
    {
     "name": "stdout",
     "output_type": "stream",
     "text": [
      "root\n",
      " |-- location_description: string (nullable = true)\n",
      " |-- arrest: integer (nullable = true)\n",
      " |-- domestic: integer (nullable = true)\n",
      " |-- beat: integer (nullable = true)\n",
      " |-- district: integer (nullable = true)\n",
      " |-- ward: integer (nullable = true)\n",
      " |-- community_area: integer (nullable = true)\n",
      " |-- fbi_code: string (nullable = true)\n",
      " |-- hour: integer (nullable = true)\n",
      " |-- week_day: integer (nullable = true)\n",
      " |-- year_month: integer (nullable = true)\n",
      " |-- month_day: integer (nullable = true)\n",
      " |-- date_number: integer (nullable = true)\n",
      "\n"
     ]
    }
   ],
   "source": [
    "#Let's see the schema of these selected features:\n",
    "features_df = df_dates.select(selected_features)\n",
    "features_df.printSchema()"
   ]
  },
  {
   "cell_type": "markdown",
   "metadata": {},
   "source": [
    "Let's try to see all level counts in all the selected features..."
   ]
  },
  {
   "cell_type": "code",
   "execution_count": 247,
   "metadata": {},
   "outputs": [
    {
     "name": "stdout",
     "output_type": "stream",
     "text": [
      "Analysing location_description\n",
      "Analysing arrest\n",
      "Analysing domestic\n",
      "Analysing beat\n",
      "Analysing district\n",
      "Analysing ward\n",
      "Analysing community_area\n",
      "Analysing fbi_code\n",
      "Analysing hour\n",
      "Analysing week_day\n",
      "Analysing year_month\n",
      "Analysing month_day\n",
      "Analysing date_number\n"
     ]
    }
   ],
   "source": [
    "feature_level_count_dic = []\n",
    "\n",
    "for feature in selected_features:\n",
    "    print('Analysing %s' % feature)\n",
    "    levels_list_df = features_df.select(feature).distinct()\n",
    "    feature_level_count_dic.append({'feature': feature, 'level_count': levels_list_df.count()})\n"
   ]
  },
  {
   "cell_type": "code",
   "execution_count": 248,
   "metadata": {},
   "outputs": [
    {
     "data": {
      "text/html": [
       "<div>\n",
       "<style scoped>\n",
       "    .dataframe tbody tr th:only-of-type {\n",
       "        vertical-align: middle;\n",
       "    }\n",
       "\n",
       "    .dataframe tbody tr th {\n",
       "        vertical-align: top;\n",
       "    }\n",
       "\n",
       "    .dataframe thead th {\n",
       "        text-align: right;\n",
       "    }\n",
       "</style>\n",
       "<table border=\"1\" class=\"dataframe\">\n",
       "  <thead>\n",
       "    <tr style=\"text-align: right;\">\n",
       "      <th></th>\n",
       "      <th>feature</th>\n",
       "      <th>level_count</th>\n",
       "    </tr>\n",
       "  </thead>\n",
       "  <tbody>\n",
       "    <tr>\n",
       "      <th>3</th>\n",
       "      <td>beat</td>\n",
       "      <td>268</td>\n",
       "    </tr>\n",
       "    <tr>\n",
       "      <th>12</th>\n",
       "      <td>date_number</td>\n",
       "      <td>135</td>\n",
       "    </tr>\n",
       "    <tr>\n",
       "      <th>6</th>\n",
       "      <td>community_area</td>\n",
       "      <td>75</td>\n",
       "    </tr>\n",
       "    <tr>\n",
       "      <th>0</th>\n",
       "      <td>location_description</td>\n",
       "      <td>68</td>\n",
       "    </tr>\n",
       "    <tr>\n",
       "      <th>5</th>\n",
       "      <td>ward</td>\n",
       "      <td>50</td>\n",
       "    </tr>\n",
       "    <tr>\n",
       "      <th>11</th>\n",
       "      <td>month_day</td>\n",
       "      <td>31</td>\n",
       "    </tr>\n",
       "    <tr>\n",
       "      <th>7</th>\n",
       "      <td>fbi_code</td>\n",
       "      <td>26</td>\n",
       "    </tr>\n",
       "    <tr>\n",
       "      <th>8</th>\n",
       "      <td>hour</td>\n",
       "      <td>24</td>\n",
       "    </tr>\n",
       "    <tr>\n",
       "      <th>4</th>\n",
       "      <td>district</td>\n",
       "      <td>22</td>\n",
       "    </tr>\n",
       "    <tr>\n",
       "      <th>10</th>\n",
       "      <td>year_month</td>\n",
       "      <td>12</td>\n",
       "    </tr>\n",
       "    <tr>\n",
       "      <th>9</th>\n",
       "      <td>week_day</td>\n",
       "      <td>7</td>\n",
       "    </tr>\n",
       "    <tr>\n",
       "      <th>1</th>\n",
       "      <td>arrest</td>\n",
       "      <td>2</td>\n",
       "    </tr>\n",
       "    <tr>\n",
       "      <th>2</th>\n",
       "      <td>domestic</td>\n",
       "      <td>2</td>\n",
       "    </tr>\n",
       "  </tbody>\n",
       "</table>\n",
       "</div>"
      ],
      "text/plain": [
       "                 feature  level_count\n",
       "3                   beat          268\n",
       "12           date_number          135\n",
       "6         community_area           75\n",
       "0   location_description           68\n",
       "5                   ward           50\n",
       "11             month_day           31\n",
       "7               fbi_code           26\n",
       "8                   hour           24\n",
       "4               district           22\n",
       "10            year_month           12\n",
       "9               week_day            7\n",
       "1                 arrest            2\n",
       "2               domestic            2"
      ]
     },
     "execution_count": 248,
     "metadata": {},
     "output_type": "execute_result"
    }
   ],
   "source": [
    "pd.DataFrame(feature_level_count_dic).sort_values(by='level_count', ascending=False)"
   ]
  },
  {
   "cell_type": "markdown",
   "metadata": {},
   "source": [
    "### Preparing model"
   ]
  },
  {
   "cell_type": "code",
   "execution_count": 249,
   "metadata": {},
   "outputs": [],
   "source": [
    "from pyspark.ml.feature import StringIndexer, VectorAssembler\n",
    "df_dates_features = df_dates.na.drop(subset=selected_features)"
   ]
  },
  {
   "cell_type": "markdown",
   "metadata": {},
   "source": [
    "Let us use Spark's string indexer to index selected features"
   ]
  },
  {
   "cell_type": "code",
   "execution_count": 250,
   "metadata": {},
   "outputs": [
    {
     "name": "stdout",
     "output_type": "stream",
     "text": [
      "Fitting feature \"location_description\"\n",
      "Transforming \"location_description\"\n",
      "Fitting feature \"arrest\"\n",
      "Transforming \"arrest\"\n",
      "Fitting feature \"domestic\"\n",
      "Transforming \"domestic\"\n",
      "Fitting feature \"beat\"\n",
      "Transforming \"beat\"\n",
      "Fitting feature \"district\"\n",
      "Transforming \"district\"\n",
      "Fitting feature \"ward\"\n",
      "Transforming \"ward\"\n",
      "Fitting feature \"community_area\"\n",
      "Transforming \"community_area\"\n",
      "Fitting feature \"fbi_code\"\n",
      "Transforming \"fbi_code\"\n",
      "Fitting feature \"hour\"\n",
      "Transforming \"hour\"\n",
      "Fitting feature \"week_day\"\n",
      "Transforming \"week_day\"\n",
      "Fitting feature \"year_month\"\n",
      "Transforming \"year_month\"\n",
      "Fitting feature \"month_day\"\n",
      "Transforming \"month_day\"\n",
      "Fitting feature \"date_number\"\n",
      "Transforming \"date_number\"\n"
     ]
    }
   ],
   "source": [
    "for feature in feature_level_count_dic:\n",
    "    indexer = StringIndexer(inputCol=feature['feature'], outputCol='%s_indexed' % feature['feature'])\n",
    "    print('Fitting feature \"%s\"' % feature['feature'])\n",
    "    model = indexer.fit(df_dates_features)\n",
    "    print('Transforming \"%s\"' % feature['feature'])\n",
    "    df_dates_features = model.transform(df_dates_features)"
   ]
  },
  {
   "cell_type": "markdown",
   "metadata": {},
   "source": [
    "Now let's do the same with the label"
   ]
  },
  {
   "cell_type": "code",
   "execution_count": 251,
   "metadata": {},
   "outputs": [],
   "source": [
    "## String-index the response variable:\n",
    "response_indexer = StringIndexer(inputCol='primary_type', outputCol='primary_type_indexed')\n",
    "response_model = response_indexer.fit(df_dates_features)\n",
    "df_dates_features = response_model.transform(df_dates_features)"
   ]
  },
  {
   "cell_type": "code",
   "execution_count": 252,
   "metadata": {},
   "outputs": [
    {
     "name": "stdout",
     "output_type": "stream",
     "text": [
      "+---+----------+--------+-----------+--------------------+------------------+----+------------+--------------------+--------------------+------+--------+----+--------+----+--------------+--------+------------+------------+----+--------------------+------------+-------------+--------------------+-------------------+----------+----+--------+----------+---------+-----------+----------------------------+--------------+----------------+------------+----------------+------------+----------------------+----------------+------------+----------------+------------------+-----------------+-------------------+--------------------+\n",
      "|_c0|Unnamed: 0|      id|case_number|                date|             block|iucr|primary_type|         description|location_description|arrest|domestic|beat|district|ward|community_area|fbi_code|x_coordinate|y_coordinate|year|          updated_on|    latitude|    longitude|            location|          date_time|     month|hour|week_day|year_month|month_day|date_number|location_description_indexed|arrest_indexed|domestic_indexed|beat_indexed|district_indexed|ward_indexed|community_area_indexed|fbi_code_indexed|hour_indexed|week_day_indexed|year_month_indexed|month_day_indexed|date_number_indexed|primary_type_indexed|\n",
      "+---+----------+--------+-----------+--------------------+------------------+----+------------+--------------------+--------------------+------+--------+----+--------+----+--------------+--------+------------+------------+----+--------------------+------------+-------------+--------------------+-------------------+----------+----+--------+----------+---------+-----------+----------------------------+--------------+----------------+------------+----------------+------------+----------------------+----------------+------------+----------------+------------------+-----------------+-------------------+--------------------+\n",
      "|  0|       3.0|10508693|   HZ250496|05/03/2016 11:40:...|013XX S SAWYER AVE| 486|     BATTERY|DOMESTIC BATTERY ...|           APARTMENT|     1|       1|1022|      10|  24|            29|     08B|     1154907|     1893681|2016|05/10/2016 03:56:...|41.864073157|-87.706818608|(41.864073157, -8...|2016-05-03 23:40:00|2016-01-01|  23|       3|         5|        3|       5601|                         2.0|           1.0|             1.0|       118.0|             6.0|         1.0|                   3.0|             2.0|        15.0|             3.0|               0.0|              2.0|                2.0|                 1.0|\n",
      "+---+----------+--------+-----------+--------------------+------------------+----+------------+--------------------+--------------------+------+--------+----+--------+----+--------------+--------+------------+------------+----+--------------------+------------+-------------+--------------------+-------------------+----------+----+--------+----------+---------+-----------+----------------------------+--------------+----------------+------------+----------------+------------+----------------------+----------------+------------+----------------+------------------+-----------------+-------------------+--------------------+\n",
      "only showing top 1 row\n",
      "\n"
     ]
    }
   ],
   "source": [
    "#What does it look like now...\n",
    "df_dates_features.show(1)"
   ]
  },
  {
   "cell_type": "markdown",
   "metadata": {},
   "source": [
    "Let's vectorize the features\n",
    "\n",
    "We use a vector assembler to vectorize all predictors into a `features` column"
   ]
  },
  {
   "cell_type": "code",
   "execution_count": 253,
   "metadata": {},
   "outputs": [
    {
     "data": {
      "text/plain": [
       "['location_description_indexed',\n",
       " 'arrest_indexed',\n",
       " 'domestic_indexed',\n",
       " 'beat_indexed',\n",
       " 'district_indexed',\n",
       " 'ward_indexed',\n",
       " 'community_area_indexed',\n",
       " 'fbi_code_indexed',\n",
       " 'hour_indexed',\n",
       " 'week_day_indexed',\n",
       " 'year_month_indexed',\n",
       " 'month_day_indexed',\n",
       " 'date_number_indexed']"
      ]
     },
     "execution_count": 253,
     "metadata": {},
     "output_type": "execute_result"
    }
   ],
   "source": [
    "indexed_features = ['%s_indexed' % fc['feature'] for fc in feature_level_count_dic]\n",
    "indexed_features"
   ]
  },
  {
   "cell_type": "code",
   "execution_count": 254,
   "metadata": {},
   "outputs": [],
   "source": [
    "assembler = VectorAssembler(inputCols=indexed_features, outputCol='features')\n",
    "vectorized_df_dates = assembler.transform(df_dates_features)"
   ]
  },
  {
   "cell_type": "code",
   "execution_count": 255,
   "metadata": {},
   "outputs": [
    {
     "data": {
      "text/plain": [
       "[Row(features=DenseVector([2.0, 1.0, 1.0, 118.0, 6.0, 1.0, 3.0, 2.0, 15.0, 3.0, 0.0, 2.0, 2.0]))]"
      ]
     },
     "execution_count": 255,
     "metadata": {},
     "output_type": "execute_result"
    }
   ],
   "source": [
    "vectorized_df_dates.select('features').take(1)"
   ]
  },
  {
   "cell_type": "markdown",
   "metadata": {},
   "source": [
    "### Now let's train the model.\n",
    "\n",
    "We're using **60%** to **40%** split between the train and the test datasets\n",
    "\n",
    "Let's try to train a logistic regression."
   ]
  },
  {
   "cell_type": "code",
   "execution_count": 256,
   "metadata": {},
   "outputs": [],
   "source": [
    "train, test = vectorized_df_dates.randomSplit([0.6, 0.4])"
   ]
  },
  {
   "cell_type": "code",
   "execution_count": 257,
   "metadata": {},
   "outputs": [],
   "source": [
    "from pyspark.ml.classification import LogisticRegression"
   ]
  },
  {
   "cell_type": "code",
   "execution_count": 258,
   "metadata": {},
   "outputs": [],
   "source": [
    "logisticRegression = LogisticRegression(labelCol='primary_type_indexed', featuresCol='features', maxIter=10, family='multinomial')"
   ]
  },
  {
   "cell_type": "code",
   "execution_count": 259,
   "metadata": {},
   "outputs": [],
   "source": [
    "fittedModel = logisticRegression.fit(train)"
   ]
  },
  {
   "cell_type": "markdown",
   "metadata": {},
   "source": [
    "## Model performance?"
   ]
  },
  {
   "cell_type": "code",
   "execution_count": 260,
   "metadata": {},
   "outputs": [
    {
     "data": {
      "text/plain": [
       "0.5526570048309178"
      ]
     },
     "execution_count": 260,
     "metadata": {},
     "output_type": "execute_result"
    }
   ],
   "source": [
    "fittedModel.summary.accuracy"
   ]
  },
  {
   "cell_type": "code",
   "execution_count": 261,
   "metadata": {},
   "outputs": [],
   "source": [
    "model_summary = fittedModel.summary"
   ]
  },
  {
   "cell_type": "code",
   "execution_count": 262,
   "metadata": {},
   "outputs": [
    {
     "data": {
      "text/plain": [
       "DenseMatrix(24, 13, [0.0608, -2.1247, -0.6338, 0.0044, 0.0845, 0.0108, 0.0158, -1.4466, ..., -0.0003, 0.0027, 0.0017, 0.0097, -0.0169, -0.014, -0.0044, -0.0009], 1)"
      ]
     },
     "execution_count": 262,
     "metadata": {},
     "output_type": "execute_result"
    }
   ],
   "source": [
    "fittedModel.coefficientMatrix"
   ]
  },
  {
   "cell_type": "markdown",
   "metadata": {},
   "source": [
    "#### Why the 34X13 shape?\n",
    "\n",
    "That's because the multinomial logistic regression is fitted on **each class** of the label. It computes the probability of each class and then predicts based on these probabilities."
   ]
  },
  {
   "cell_type": "code",
   "execution_count": 263,
   "metadata": {},
   "outputs": [
    {
     "name": "stdout",
     "output_type": "stream",
     "text": [
      "DenseMatrix([[ 6.08374298e-02, -2.12470782e+00, -6.33828513e-01,\n",
      "               4.39418012e-03,  8.44751501e-02,  1.07516324e-02,\n",
      "               1.57985437e-02, -1.44662418e+00,  4.35901020e-02,\n",
      "               4.31893172e-01,  1.85077070e-02, -1.86428014e-02,\n",
      "               3.66146922e-04],\n",
      "             [ 6.69267437e-02, -3.89195503e-01,  3.75460004e+00,\n",
      "               2.66882135e-03, -9.10109726e-05,  2.44326515e-02,\n",
      "               6.11687766e-03, -1.49191074e-01,  5.26003882e-02,\n",
      "               2.96462618e-02,  2.55215345e-01, -6.55734546e-02,\n",
      "              -9.24657971e-03],\n",
      "             [-8.29998780e-02,  8.04756090e+00, -4.06668641e+00,\n",
      "              -2.11998770e-04, -1.54996099e-01, -3.94599209e-02,\n",
      "              -2.33805078e-02, -8.03671224e-01, -4.80438839e-02,\n",
      "              -4.09922212e-01, -1.29028528e-01,  1.43910604e-01,\n",
      "              -1.70196045e-03],\n",
      "             [ 2.65412785e-02, -2.82844719e+00, -1.12849403e+00,\n",
      "               5.70929074e-04,  6.35858776e-02,  3.18357217e-02,\n",
      "               7.16447136e-03, -2.48650054e-01,  7.99607657e-02,\n",
      "              -1.55780783e-01,  8.36529199e-02, -5.86016854e-02,\n",
      "              -1.13384180e-02],\n",
      "             [-6.23761650e-02, -4.91982403e-01,  4.38670437e+00,\n",
      "              -2.25046033e-03,  2.34376984e-02, -1.15095470e-02,\n",
      "               4.44098459e-02, -1.01554793e-01, -1.00701385e-02,\n",
      "               2.13775166e-01,  5.05442435e-02,  6.96867175e-03,\n",
      "              -1.67574423e-03],\n",
      "             [ 5.40983931e-02, -4.30195950e-01,  3.47769933e+00,\n",
      "               1.60451659e-03,  3.34458741e-02, -1.67240613e-02,\n",
      "               1.61846946e-03,  2.04794605e-01, -5.04365315e-02,\n",
      "              -3.48615710e-01, -1.78201318e-01, -1.81007297e-02,\n",
      "               2.50995971e-03],\n",
      "             [ 5.13502227e-03, -2.08398735e+00, -1.78533649e+00,\n",
      "               1.68878761e-03, -1.76178081e-02, -3.42715144e-03,\n",
      "              -3.94781009e-04,  1.57137679e-01, -4.63031616e-02,\n",
      "               5.63979155e-01, -1.56544051e-01,  7.96381838e-02,\n",
      "               2.25853883e-03],\n",
      "             [-7.17492183e-02, -5.51398685e-01, -1.61134561e+00,\n",
      "               3.10625160e-04,  1.94600490e-02,  3.55259935e-02,\n",
      "              -6.88244142e-03,  1.46154895e-01, -3.04654812e-03,\n",
      "               1.89201824e-01, -3.45692303e-02,  1.97184149e-02,\n",
      "               3.31913468e-03],\n",
      "             [-6.57918525e-03, -1.16680573e+00, -1.62027096e+00,\n",
      "               1.78444373e-03,  3.27397454e-02, -1.99853228e-02,\n",
      "               5.74893166e-03,  2.23830658e-01,  1.69473234e-02,\n",
      "              -1.05576705e-01,  1.29145982e-01, -1.07260472e-02,\n",
      "               1.02085808e-02],\n",
      "             [ 3.53867756e-02, -2.04264200e+00, -1.12227289e+00,\n",
      "              -6.16570593e-04, -5.54744841e-02,  1.82631947e-02,\n",
      "               7.83669652e-03,  2.71091497e-01,  1.84495811e-02,\n",
      "              -3.84894869e-01, -1.36687045e-01,  4.75970218e-02,\n",
      "              -1.08909229e-02],\n",
      "             [ 8.92411849e-02,  2.04743184e+00, -9.67566368e-01,\n",
      "              -1.75184758e-03,  4.25479888e-02, -7.61767332e-03,\n",
      "              -1.97193674e-02, -4.59559664e-02,  9.61916144e-03,\n",
      "              -6.78629019e-02, -1.40516475e-01, -4.43297700e-02,\n",
      "              -6.96525814e-03],\n",
      "             [-8.43224138e-03,  9.07162845e-01, -6.81859227e-01,\n",
      "              -4.83128470e-03, -1.60235322e-02, -3.68594119e-03,\n",
      "              -7.98966704e-03,  2.87278491e-01, -8.14370865e-02,\n",
      "               2.60102562e-01, -1.50837790e-01, -3.33469840e-02,\n",
      "               1.19208786e-02],\n",
      "             [-4.07932893e-02, -1.09266983e+00,  2.39269892e+00,\n",
      "              -4.73003068e-03,  2.29237478e-02, -1.35430818e-02,\n",
      "               1.04298401e-02,  3.11140885e-01, -7.03803345e-02,\n",
      "              -1.05940865e-01,  7.03141040e-02,  3.76887530e-02,\n",
      "               1.14771396e-02],\n",
      "             [-1.53639936e-02,  4.59280279e-01, -3.30063700e-01,\n",
      "               7.76633980e-04,  1.65076655e-03, -1.56092639e-02,\n",
      "              -2.40875140e-02,  2.75408808e-01,  2.78458070e-02,\n",
      "               3.76671047e-02,  8.25945775e-02, -2.33278682e-02,\n",
      "              -5.16742330e-03],\n",
      "             [-4.24637541e-03, -1.55977786e-01,  8.81420598e-01,\n",
      "               3.60006264e-03, -2.35991057e-02,  1.99974775e-03,\n",
      "              -7.40156212e-03,  1.78116442e-01,  4.63733599e-02,\n",
      "              -1.59794117e-02,  2.07595709e-01, -9.65850912e-03,\n",
      "               4.06498971e-03],\n",
      "             [-1.52624313e-02,  1.16446990e+00, -1.96374218e-01,\n",
      "              -1.16431611e-03, -2.73742981e-02, -1.44574159e-02,\n",
      "              -9.63649079e-03,  2.39819016e-01, -5.19383978e-03,\n",
      "              -6.36221899e-02, -4.57573200e-02, -1.47070048e-02,\n",
      "              -3.14876762e-03],\n",
      "             [ 1.32161719e-03, -1.08942868e-02, -1.69386981e-01,\n",
      "              -3.48168969e-03, -7.12319933e-03, -5.73384415e-03,\n",
      "              -3.16358442e-03,  2.01572778e-01,  2.85279782e-02,\n",
      "               1.22676979e-01, -4.56303847e-02,  7.50854379e-05,\n",
      "               6.15867007e-03],\n",
      "             [-9.47372197e-03,  1.05254866e+00, -2.18629878e-01,\n",
      "               1.31354964e-03, -1.04198401e-02,  2.11664788e-02,\n",
      "               3.13630072e-03,  1.62828438e-01,  1.45976064e-02,\n",
      "              -1.38849134e-01, -5.68933504e-02, -2.10741441e-02,\n",
      "              -4.06031024e-03],\n",
      "             [-4.48798683e-03, -1.16580154e-01, -6.66379129e-02,\n",
      "               2.62133678e-04,  1.51040435e-02,  3.64110783e-03,\n",
      "               4.34081328e-04,  5.28947038e-02, -7.74580870e-03,\n",
      "               4.99360921e-02, -1.52145596e-02, -2.95077184e-03,\n",
      "              -9.03473607e-04],\n",
      "             [-5.38022634e-03, -1.65300527e-01, -9.71484855e-02,\n",
      "               1.55921566e-03, -3.47509266e-03,  6.97564381e-03,\n",
      "               3.52970520e-03,  3.19474661e-02, -3.81551069e-03,\n",
      "              -7.93072051e-02, -2.08217593e-02, -9.64015877e-03,\n",
      "              -1.60930277e-03],\n",
      "             [-2.81637190e-03,  1.86824041e-01, -6.87679214e-02,\n",
      "              -8.95060564e-04,  1.04493860e-02,  4.65868450e-03,\n",
      "              -1.03473467e-03,  7.01191129e-02, -3.50062456e-03,\n",
      "               4.48082117e-02,  2.40676037e-01,  5.73715046e-03,\n",
      "               6.41988168e-03],\n",
      "             [-2.34232225e-03, -5.27466304e-02, -3.18847153e-02,\n",
      "              -7.62895957e-04, -8.65528345e-03, -3.59306233e-03,\n",
      "              -2.59581151e-03, -1.00779478e-02, -9.12352529e-03,\n",
      "              -2.52110108e-02, -6.79545397e-03, -3.10880925e-03,\n",
      "              -5.24471308e-04],\n",
      "             [-2.34232225e-03, -5.27466304e-02, -3.18847153e-02,\n",
      "              -7.62895957e-04, -8.65528345e-03, -3.59306233e-03,\n",
      "              -2.59581151e-03, -1.00779478e-02, -9.12352529e-03,\n",
      "              -2.52110108e-02, -6.79545397e-03, -3.10880925e-03,\n",
      "              -5.24471308e-04],\n",
      "             [-4.84271593e-03, -1.08999994e-01, -6.46842228e-02,\n",
      "               9.25151701e-04, -1.63152897e-02, -3.11507997e-04,\n",
      "               2.65851014e-03,  1.66771407e-03,  9.70844555e-03,\n",
      "              -1.69125200e-02, -1.39539045e-02, -4.43633777e-03,\n",
      "              -9.46816945e-04]])\n"
     ]
    }
   ],
   "source": [
    "print(fittedModel.coefficientMatrix)"
   ]
  },
  {
   "cell_type": "code",
   "execution_count": 264,
   "metadata": {},
   "outputs": [
    {
     "name": "stdout",
     "output_type": "stream",
     "text": [
      "Coefficient matrix:\n",
      "Row count = 24\n",
      "Col count = 13\n"
     ]
    }
   ],
   "source": [
    "print('Coefficient matrix:\\nRow count = %s\\nCol count = %s' % (fittedModel.coefficientMatrix.numRows, fittedModel.coefficientMatrix.numCols))"
   ]
  },
  {
   "cell_type": "code",
   "execution_count": 265,
   "metadata": {},
   "outputs": [
    {
     "name": "stdout",
     "output_type": "stream",
     "text": [
      "Model:\n",
      "Num Classes = 24\n",
      "Num Features = 13\n"
     ]
    }
   ],
   "source": [
    "print('Model:\\nNum Classes = %s\\nNum Features = %s' % (fittedModel.numClasses, fittedModel.numFeatures))"
   ]
  },
  {
   "cell_type": "code",
   "execution_count": 266,
   "metadata": {},
   "outputs": [
    {
     "name": "stdout",
     "output_type": "stream",
     "text": [
      "Training \"primary_type\" factor level count = 22\n"
     ]
    }
   ],
   "source": [
    "print('Training \"primary_type\" factor level count = %s' % train.select('primary_type_indexed').distinct().count())"
   ]
  },
  {
   "cell_type": "markdown",
   "metadata": {},
   "source": [
    "So our `randomSplit` call to split train/test data sets took some primary types to only either of the two parts"
   ]
  },
  {
   "cell_type": "code",
   "execution_count": 267,
   "metadata": {},
   "outputs": [
    {
     "name": "stdout",
     "output_type": "stream",
     "text": [
      "+----------------------------------------------------------+\n",
      "|features                                                  |\n",
      "+----------------------------------------------------------+\n",
      "|[2.0,1.0,1.0,118.0,6.0,1.0,3.0,2.0,15.0,3.0,0.0,2.0,2.0]  |\n",
      "|[0.0,0.0,0.0,62.0,12.0,15.0,0.0,14.0,15.0,3.0,0.0,2.0,2.0]|\n",
      "+----------------------------------------------------------+\n",
      "only showing top 2 rows\n",
      "\n"
     ]
    }
   ],
   "source": [
    "vectorized_df_dates.select('features').show(2, truncate=False)"
   ]
  },
  {
   "cell_type": "code",
   "execution_count": 268,
   "metadata": {},
   "outputs": [
    {
     "data": {
      "text/plain": [
       "24"
      ]
     },
     "execution_count": 268,
     "metadata": {},
     "output_type": "execute_result"
    }
   ],
   "source": [
    "fittedModel.numClasses"
   ]
  },
  {
   "cell_type": "code",
   "execution_count": 269,
   "metadata": {},
   "outputs": [
    {
     "data": {
      "text/plain": [
       "13"
      ]
     },
     "execution_count": 269,
     "metadata": {},
     "output_type": "execute_result"
    }
   ],
   "source": [
    "fittedModel.numFeatures"
   ]
  },
  {
   "cell_type": "code",
   "execution_count": 270,
   "metadata": {},
   "outputs": [
    {
     "data": {
      "text/plain": [
       "22"
      ]
     },
     "execution_count": 270,
     "metadata": {},
     "output_type": "execute_result"
    }
   ],
   "source": [
    "train.select('primary_type_indexed').distinct().count()"
   ]
  },
  {
   "cell_type": "code",
   "execution_count": 271,
   "metadata": {},
   "outputs": [
    {
     "data": {
      "text/plain": [
       "24"
      ]
     },
     "execution_count": 271,
     "metadata": {},
     "output_type": "execute_result"
    }
   ],
   "source": [
    "df_dates.select('primary_type').distinct().count()"
   ]
  },
  {
   "cell_type": "code",
   "execution_count": 272,
   "metadata": {},
   "outputs": [
    {
     "data": {
      "text/plain": [
       "24"
      ]
     },
     "execution_count": 272,
     "metadata": {},
     "output_type": "execute_result"
    }
   ],
   "source": [
    "fittedModel.interceptVector.values.size"
   ]
  },
  {
   "cell_type": "code",
   "execution_count": 273,
   "metadata": {},
   "outputs": [
    {
     "name": "stdout",
     "output_type": "stream",
     "text": [
      "[2.4116753220938247, 2.08358371413673, 1.981494385247826, 1.8122845686585445, 1.7500282170176416, 1.6865220028090173, 1.5928483385083336, 1.5398275271291828, 1.451206175102143, 1.4167075491731504, 1.3725966167549737]\n",
      "\n",
      "Objective history size  11\n"
     ]
    }
   ],
   "source": [
    "print(model_summary.objectiveHistory)\n",
    "print()\n",
    "print('Objective history size ', len(model_summary.objectiveHistory))"
   ]
  },
  {
   "cell_type": "code",
   "execution_count": 274,
   "metadata": {},
   "outputs": [
    {
     "data": {
      "text/plain": [
       "<matplotlib.axes._subplots.AxesSubplot at 0x7fef595e2d50>"
      ]
     },
     "execution_count": 274,
     "metadata": {},
     "output_type": "execute_result"
    },
    {
     "data": {
      "image/png": "[encoded data removed]",
      "text/plain": [
       "<Figure size 4608x1152 with 1 Axes>"
      ]
     },
     "metadata": {},
     "output_type": "display_data"
    }
   ],
   "source": [
    "sns.barplot(y=model_summary.objectiveHistory, x=list(range(len(model_summary.objectiveHistory))))"
   ]
  },
  {
   "cell_type": "code",
   "execution_count": 275,
   "metadata": {
    "scrolled": false
   },
   "outputs": [
    {
     "name": "stdout",
     "output_type": "stream",
     "text": [
      "{0.0: {'index': 0.0}, 1.0: {'index': 1.0}, 2.0: {'index': 2.0}, 3.0: {'index': 3.0}, 4.0: {'index': 4.0}, 5.0: {'index': 5.0}, 6.0: {'index': 6.0}, 7.0: {'index': 7.0}, 8.0: {'index': 8.0}, 9.0: {'index': 9.0}, 10.0: {'index': 10.0}, 11.0: {'index': 11.0}, 12.0: {'index': 12.0}, 13.0: {'index': 13.0}, 14.0: {'index': 14.0}, 15.0: {'index': 15.0}, 16.0: {'index': 16.0}, 17.0: {'index': 17.0}, 18.0: {'index': 18.0}, 19.0: {'index': 19.0}, 20.0: {'index': 20.0}, 21.0: {'index': 21.0}, 22.0: {'index': 22.0}, 23.0: {'index': 23.0}, 24.0: {'index': 24.0}, 25.0: {'index': 25.0}, 26.0: {'index': 26.0}, 27.0: {'index': 27.0}, 28.0: {'index': 28.0}, 29.0: {'index': 29.0}, 30.0: {'index': 30.0}, 31.0: {'index': 31.0}, 32.0: {'index': 32.0}, 33.0: {'index': 33.0}}\n"
     ]
    }
   ],
   "source": [
    "label_stats = {float(i):{'index': float(i)} for i in range(34)}\n",
    "print(label_stats)"
   ]
  },
  {
   "cell_type": "code",
   "execution_count": 276,
   "metadata": {},
   "outputs": [
    {
     "name": "stdout",
     "output_type": "stream",
     "text": [
      "False positive rate by label:\n"
     ]
    }
   ],
   "source": [
    "print(\"False positive rate by label:\")\n",
    "for i, rate in enumerate(model_summary.falsePositiveRateByLabel):\n",
    "    label_stats[i]['false_positive_rate'] = rate\n",
    "    \n",
    "for i, rate in enumerate(model_summary.truePositiveRateByLabel):\n",
    "    label_stats[i]['true_positive_rate'] = rate\n",
    "    \n",
    "for i, rate in enumerate(model_summary.precisionByLabel):\n",
    "    label_stats[i]['precision_rate'] = rate\n",
    "    \n",
    "for i, rate in enumerate(model_summary.recallByLabel):\n",
    "    label_stats[i]['recall_rate'] = rate\n",
    "    \n",
    "for i, rate in enumerate(model_summary.fMeasureByLabel()):\n",
    "    label_stats[i]['f_measure'] = rate"
   ]
  },
  {
   "cell_type": "code",
   "execution_count": 277,
   "metadata": {},
   "outputs": [],
   "source": [
    "train_rdd = train.select(['primary_type', 'primary_type_indexed']).distinct().orderBy('primary_type_indexed').rdd.map(lambda l: l.asDict()).collect()\n"
   ]
  },
  {
   "cell_type": "code",
   "execution_count": 278,
   "metadata": {},
   "outputs": [
    {
     "name": "stdout",
     "output_type": "stream",
     "text": [
      "{'primary_type': 'THEFT', 'primary_type_indexed': 0.0}\n",
      "{'primary_type': 'BATTERY', 'primary_type_indexed': 1.0}\n",
      "{'primary_type': 'NARCOTICS', 'primary_type_indexed': 2.0}\n",
      "{'primary_type': 'CRIMINAL DAMAGE', 'primary_type_indexed': 3.0}\n",
      "{'primary_type': 'OTHER OFFENSE', 'primary_type_indexed': 4.0}\n",
      "{'primary_type': 'ASSAULT', 'primary_type_indexed': 5.0}\n",
      "{'primary_type': 'DECEPTIVE PRACTICE', 'primary_type_indexed': 6.0}\n",
      "{'primary_type': 'MOTOR VEHICLE THEFT', 'primary_type_indexed': 7.0}\n",
      "{'primary_type': 'ROBBERY', 'primary_type_indexed': 8.0}\n",
      "{'primary_type': 'BURGLARY', 'primary_type_indexed': 9.0}\n",
      "{'primary_type': 'CRIMINAL TRESPASS', 'primary_type_indexed': 10.0}\n",
      "{'primary_type': 'WEAPONS VIOLATION', 'primary_type_indexed': 11.0}\n",
      "{'primary_type': 'OFFENSE INVOLVING CHILDREN', 'primary_type_indexed': 12.0}\n",
      "{'primary_type': 'PUBLIC PEACE VIOLATION', 'primary_type_indexed': 13.0}\n",
      "{'primary_type': 'CRIM SEXUAL ASSAULT', 'primary_type_indexed': 14.0}\n",
      "{'primary_type': 'PROSTITUTION', 'primary_type_indexed': 15.0}\n",
      "{'primary_type': 'HOMICIDE', 'primary_type_indexed': 16.0}\n",
      "{'primary_type': 'INTERFERENCE WITH PUBLIC OFFICER', 'primary_type_indexed': 17.0}\n",
      "{'primary_type': 'SEX OFFENSE', 'primary_type_indexed': 18.0}\n",
      "{'primary_type': 'KIDNAPPING', 'primary_type_indexed': 19.0}\n",
      "{'primary_type': 'ARSON', 'primary_type_indexed': 20.0}\n",
      "{'primary_type': 'STALKING', 'primary_type_indexed': 23.0}\n"
     ]
    }
   ],
   "source": [
    "for l in train_rdd:\n",
    "    print(l)\n",
    "    label_stats[l['primary_type_indexed']]['primary_type'] = l['primary_type']"
   ]
  },
  {
   "cell_type": "code",
   "execution_count": 279,
   "metadata": {},
   "outputs": [],
   "source": [
    "rates_pddf = pd.DataFrame(list(label_stats.values()))"
   ]
  },
  {
   "cell_type": "code",
   "execution_count": 280,
   "metadata": {},
   "outputs": [],
   "source": [
    "rates_pddf = rates_pddf.sort_values(by='precision_rate', ascending=False)"
   ]
  },
  {
   "cell_type": "markdown",
   "metadata": {},
   "source": [
    "#### Why does this model seem to be so good at predicting theft? (TODO)"
   ]
  },
  {
   "cell_type": "code",
   "execution_count": 281,
   "metadata": {},
   "outputs": [
    {
     "data": {
      "text/html": [
       "<div>\n",
       "<style scoped>\n",
       "    .dataframe tbody tr th:only-of-type {\n",
       "        vertical-align: middle;\n",
       "    }\n",
       "\n",
       "    .dataframe tbody tr th {\n",
       "        vertical-align: top;\n",
       "    }\n",
       "\n",
       "    .dataframe thead th {\n",
       "        text-align: right;\n",
       "    }\n",
       "</style>\n",
       "<table border=\"1\" class=\"dataframe\">\n",
       "  <thead>\n",
       "    <tr style=\"text-align: right;\">\n",
       "      <th></th>\n",
       "      <th>index</th>\n",
       "      <th>false_positive_rate</th>\n",
       "      <th>true_positive_rate</th>\n",
       "      <th>precision_rate</th>\n",
       "      <th>recall_rate</th>\n",
       "      <th>f_measure</th>\n",
       "      <th>primary_type</th>\n",
       "    </tr>\n",
       "  </thead>\n",
       "  <tbody>\n",
       "    <tr>\n",
       "      <th>0</th>\n",
       "      <td>0.0</td>\n",
       "      <td>0.052058</td>\n",
       "      <td>0.866029</td>\n",
       "      <td>0.808036</td>\n",
       "      <td>0.866029</td>\n",
       "      <td>0.836028</td>\n",
       "      <td>THEFT</td>\n",
       "    </tr>\n",
       "    <tr>\n",
       "      <th>2</th>\n",
       "      <td>2.0</td>\n",
       "      <td>0.055430</td>\n",
       "      <td>0.913907</td>\n",
       "      <td>0.737968</td>\n",
       "      <td>0.913907</td>\n",
       "      <td>0.816568</td>\n",
       "      <td>NARCOTICS</td>\n",
       "    </tr>\n",
       "    <tr>\n",
       "      <th>7</th>\n",
       "      <td>7.0</td>\n",
       "      <td>0.009082</td>\n",
       "      <td>0.272727</td>\n",
       "      <td>0.571429</td>\n",
       "      <td>0.272727</td>\n",
       "      <td>0.369231</td>\n",
       "      <td>MOTOR VEHICLE THEFT</td>\n",
       "    </tr>\n",
       "    <tr>\n",
       "      <th>13</th>\n",
       "      <td>13.0</td>\n",
       "      <td>0.002921</td>\n",
       "      <td>0.375000</td>\n",
       "      <td>0.500000</td>\n",
       "      <td>0.375000</td>\n",
       "      <td>0.428571</td>\n",
       "      <td>PUBLIC PEACE VIOLATION</td>\n",
       "    </tr>\n",
       "    <tr>\n",
       "      <th>12</th>\n",
       "      <td>12.0</td>\n",
       "      <td>0.000979</td>\n",
       "      <td>0.071429</td>\n",
       "      <td>0.500000</td>\n",
       "      <td>0.071429</td>\n",
       "      <td>0.125000</td>\n",
       "      <td>OFFENSE INVOLVING CHILDREN</td>\n",
       "    </tr>\n",
       "    <tr>\n",
       "      <th>3</th>\n",
       "      <td>3.0</td>\n",
       "      <td>0.087379</td>\n",
       "      <td>0.694444</td>\n",
       "      <td>0.480769</td>\n",
       "      <td>0.694444</td>\n",
       "      <td>0.568182</td>\n",
       "      <td>CRIMINAL DAMAGE</td>\n",
       "    </tr>\n",
       "    <tr>\n",
       "      <th>10</th>\n",
       "      <td>10.0</td>\n",
       "      <td>0.010934</td>\n",
       "      <td>0.344828</td>\n",
       "      <td>0.476190</td>\n",
       "      <td>0.344828</td>\n",
       "      <td>0.400000</td>\n",
       "      <td>CRIMINAL TRESPASS</td>\n",
       "    </tr>\n",
       "    <tr>\n",
       "      <th>1</th>\n",
       "      <td>1.0</td>\n",
       "      <td>0.085450</td>\n",
       "      <td>0.396450</td>\n",
       "      <td>0.475177</td>\n",
       "      <td>0.396450</td>\n",
       "      <td>0.432258</td>\n",
       "      <td>BATTERY</td>\n",
       "    </tr>\n",
       "    <tr>\n",
       "      <th>8</th>\n",
       "      <td>8.0</td>\n",
       "      <td>0.027163</td>\n",
       "      <td>0.365854</td>\n",
       "      <td>0.357143</td>\n",
       "      <td>0.365854</td>\n",
       "      <td>0.361446</td>\n",
       "      <td>ROBBERY</td>\n",
       "    </tr>\n",
       "    <tr>\n",
       "      <th>11</th>\n",
       "      <td>11.0</td>\n",
       "      <td>0.012770</td>\n",
       "      <td>0.352941</td>\n",
       "      <td>0.315789</td>\n",
       "      <td>0.352941</td>\n",
       "      <td>0.333333</td>\n",
       "      <td>WEAPONS VIOLATION</td>\n",
       "    </tr>\n",
       "    <tr>\n",
       "      <th>5</th>\n",
       "      <td>5.0</td>\n",
       "      <td>0.053015</td>\n",
       "      <td>0.315068</td>\n",
       "      <td>0.310811</td>\n",
       "      <td>0.315068</td>\n",
       "      <td>0.312925</td>\n",
       "      <td>ASSAULT</td>\n",
       "    </tr>\n",
       "    <tr>\n",
       "      <th>6</th>\n",
       "      <td>6.0</td>\n",
       "      <td>0.049847</td>\n",
       "      <td>0.423077</td>\n",
       "      <td>0.309859</td>\n",
       "      <td>0.423077</td>\n",
       "      <td>0.357724</td>\n",
       "      <td>DECEPTIVE PRACTICE</td>\n",
       "    </tr>\n",
       "    <tr>\n",
       "      <th>4</th>\n",
       "      <td>4.0</td>\n",
       "      <td>0.023711</td>\n",
       "      <td>0.153846</td>\n",
       "      <td>0.303030</td>\n",
       "      <td>0.153846</td>\n",
       "      <td>0.204082</td>\n",
       "      <td>OTHER OFFENSE</td>\n",
       "    </tr>\n",
       "    <tr>\n",
       "      <th>9</th>\n",
       "      <td>9.0</td>\n",
       "      <td>0.028884</td>\n",
       "      <td>0.290323</td>\n",
       "      <td>0.236842</td>\n",
       "      <td>0.290323</td>\n",
       "      <td>0.260870</td>\n",
       "      <td>BURGLARY</td>\n",
       "    </tr>\n",
       "    <tr>\n",
       "      <th>14</th>\n",
       "      <td>14.0</td>\n",
       "      <td>0.000000</td>\n",
       "      <td>0.000000</td>\n",
       "      <td>0.000000</td>\n",
       "      <td>0.000000</td>\n",
       "      <td>0.000000</td>\n",
       "      <td>CRIM SEXUAL ASSAULT</td>\n",
       "    </tr>\n",
       "    <tr>\n",
       "      <th>15</th>\n",
       "      <td>15.0</td>\n",
       "      <td>0.000000</td>\n",
       "      <td>0.000000</td>\n",
       "      <td>0.000000</td>\n",
       "      <td>0.000000</td>\n",
       "      <td>0.000000</td>\n",
       "      <td>PROSTITUTION</td>\n",
       "    </tr>\n",
       "    <tr>\n",
       "      <th>16</th>\n",
       "      <td>16.0</td>\n",
       "      <td>0.000000</td>\n",
       "      <td>0.000000</td>\n",
       "      <td>0.000000</td>\n",
       "      <td>0.000000</td>\n",
       "      <td>0.000000</td>\n",
       "      <td>HOMICIDE</td>\n",
       "    </tr>\n",
       "    <tr>\n",
       "      <th>17</th>\n",
       "      <td>17.0</td>\n",
       "      <td>0.000000</td>\n",
       "      <td>0.000000</td>\n",
       "      <td>0.000000</td>\n",
       "      <td>0.000000</td>\n",
       "      <td>0.000000</td>\n",
       "      <td>INTERFERENCE WITH PUBLIC OFFICER</td>\n",
       "    </tr>\n",
       "    <tr>\n",
       "      <th>18</th>\n",
       "      <td>18.0</td>\n",
       "      <td>0.000000</td>\n",
       "      <td>0.000000</td>\n",
       "      <td>0.000000</td>\n",
       "      <td>0.000000</td>\n",
       "      <td>0.000000</td>\n",
       "      <td>SEX OFFENSE</td>\n",
       "    </tr>\n",
       "    <tr>\n",
       "      <th>19</th>\n",
       "      <td>19.0</td>\n",
       "      <td>0.000000</td>\n",
       "      <td>0.000000</td>\n",
       "      <td>0.000000</td>\n",
       "      <td>0.000000</td>\n",
       "      <td>0.000000</td>\n",
       "      <td>KIDNAPPING</td>\n",
       "    </tr>\n",
       "    <tr>\n",
       "      <th>20</th>\n",
       "      <td>20.0</td>\n",
       "      <td>0.000000</td>\n",
       "      <td>0.000000</td>\n",
       "      <td>0.000000</td>\n",
       "      <td>0.000000</td>\n",
       "      <td>0.000000</td>\n",
       "      <td>ARSON</td>\n",
       "    </tr>\n",
       "    <tr>\n",
       "      <th>21</th>\n",
       "      <td>21.0</td>\n",
       "      <td>0.000000</td>\n",
       "      <td>0.000000</td>\n",
       "      <td>0.000000</td>\n",
       "      <td>0.000000</td>\n",
       "      <td>0.000000</td>\n",
       "      <td>NaN</td>\n",
       "    </tr>\n",
       "    <tr>\n",
       "      <th>22</th>\n",
       "      <td>22.0</td>\n",
       "      <td>NaN</td>\n",
       "      <td>NaN</td>\n",
       "      <td>NaN</td>\n",
       "      <td>NaN</td>\n",
       "      <td>NaN</td>\n",
       "      <td>NaN</td>\n",
       "    </tr>\n",
       "    <tr>\n",
       "      <th>23</th>\n",
       "      <td>23.0</td>\n",
       "      <td>NaN</td>\n",
       "      <td>NaN</td>\n",
       "      <td>NaN</td>\n",
       "      <td>NaN</td>\n",
       "      <td>NaN</td>\n",
       "      <td>STALKING</td>\n",
       "    </tr>\n",
       "    <tr>\n",
       "      <th>24</th>\n",
       "      <td>24.0</td>\n",
       "      <td>NaN</td>\n",
       "      <td>NaN</td>\n",
       "      <td>NaN</td>\n",
       "      <td>NaN</td>\n",
       "      <td>NaN</td>\n",
       "      <td>NaN</td>\n",
       "    </tr>\n",
       "    <tr>\n",
       "      <th>25</th>\n",
       "      <td>25.0</td>\n",
       "      <td>NaN</td>\n",
       "      <td>NaN</td>\n",
       "      <td>NaN</td>\n",
       "      <td>NaN</td>\n",
       "      <td>NaN</td>\n",
       "      <td>NaN</td>\n",
       "    </tr>\n",
       "    <tr>\n",
       "      <th>26</th>\n",
       "      <td>26.0</td>\n",
       "      <td>NaN</td>\n",
       "      <td>NaN</td>\n",
       "      <td>NaN</td>\n",
       "      <td>NaN</td>\n",
       "      <td>NaN</td>\n",
       "      <td>NaN</td>\n",
       "    </tr>\n",
       "    <tr>\n",
       "      <th>27</th>\n",
       "      <td>27.0</td>\n",
       "      <td>NaN</td>\n",
       "      <td>NaN</td>\n",
       "      <td>NaN</td>\n",
       "      <td>NaN</td>\n",
       "      <td>NaN</td>\n",
       "      <td>NaN</td>\n",
       "    </tr>\n",
       "    <tr>\n",
       "      <th>28</th>\n",
       "      <td>28.0</td>\n",
       "      <td>NaN</td>\n",
       "      <td>NaN</td>\n",
       "      <td>NaN</td>\n",
       "      <td>NaN</td>\n",
       "      <td>NaN</td>\n",
       "      <td>NaN</td>\n",
       "    </tr>\n",
       "    <tr>\n",
       "      <th>29</th>\n",
       "      <td>29.0</td>\n",
       "      <td>NaN</td>\n",
       "      <td>NaN</td>\n",
       "      <td>NaN</td>\n",
       "      <td>NaN</td>\n",
       "      <td>NaN</td>\n",
       "      <td>NaN</td>\n",
       "    </tr>\n",
       "    <tr>\n",
       "      <th>30</th>\n",
       "      <td>30.0</td>\n",
       "      <td>NaN</td>\n",
       "      <td>NaN</td>\n",
       "      <td>NaN</td>\n",
       "      <td>NaN</td>\n",
       "      <td>NaN</td>\n",
       "      <td>NaN</td>\n",
       "    </tr>\n",
       "    <tr>\n",
       "      <th>31</th>\n",
       "      <td>31.0</td>\n",
       "      <td>NaN</td>\n",
       "      <td>NaN</td>\n",
       "      <td>NaN</td>\n",
       "      <td>NaN</td>\n",
       "      <td>NaN</td>\n",
       "      <td>NaN</td>\n",
       "    </tr>\n",
       "    <tr>\n",
       "      <th>32</th>\n",
       "      <td>32.0</td>\n",
       "      <td>NaN</td>\n",
       "      <td>NaN</td>\n",
       "      <td>NaN</td>\n",
       "      <td>NaN</td>\n",
       "      <td>NaN</td>\n",
       "      <td>NaN</td>\n",
       "    </tr>\n",
       "    <tr>\n",
       "      <th>33</th>\n",
       "      <td>33.0</td>\n",
       "      <td>NaN</td>\n",
       "      <td>NaN</td>\n",
       "      <td>NaN</td>\n",
       "      <td>NaN</td>\n",
       "      <td>NaN</td>\n",
       "      <td>NaN</td>\n",
       "    </tr>\n",
       "  </tbody>\n",
       "</table>\n",
       "</div>"
      ],
      "text/plain": [
       "    index  false_positive_rate  true_positive_rate  precision_rate  \\\n",
       "0     0.0             0.052058            0.866029        0.808036   \n",
       "2     2.0             0.055430            0.913907        0.737968   \n",
       "7     7.0             0.009082            0.272727        0.571429   \n",
       "13   13.0             0.002921            0.375000        0.500000   \n",
       "12   12.0             0.000979            0.071429        0.500000   \n",
       "3     3.0             0.087379            0.694444        0.480769   \n",
       "10   10.0             0.010934            0.344828        0.476190   \n",
       "1     1.0             0.085450            0.396450        0.475177   \n",
       "8     8.0             0.027163            0.365854        0.357143   \n",
       "11   11.0             0.012770            0.352941        0.315789   \n",
       "5     5.0             0.053015            0.315068        0.310811   \n",
       "6     6.0             0.049847            0.423077        0.309859   \n",
       "4     4.0             0.023711            0.153846        0.303030   \n",
       "9     9.0             0.028884            0.290323        0.236842   \n",
       "14   14.0             0.000000            0.000000        0.000000   \n",
       "15   15.0             0.000000            0.000000        0.000000   \n",
       "16   16.0             0.000000            0.000000        0.000000   \n",
       "17   17.0             0.000000            0.000000        0.000000   \n",
       "18   18.0             0.000000            0.000000        0.000000   \n",
       "19   19.0             0.000000            0.000000        0.000000   \n",
       "20   20.0             0.000000            0.000000        0.000000   \n",
       "21   21.0             0.000000            0.000000        0.000000   \n",
       "22   22.0                  NaN                 NaN             NaN   \n",
       "23   23.0                  NaN                 NaN             NaN   \n",
       "24   24.0                  NaN                 NaN             NaN   \n",
       "25   25.0                  NaN                 NaN             NaN   \n",
       "26   26.0                  NaN                 NaN             NaN   \n",
       "27   27.0                  NaN                 NaN             NaN   \n",
       "28   28.0                  NaN                 NaN             NaN   \n",
       "29   29.0                  NaN                 NaN             NaN   \n",
       "30   30.0                  NaN                 NaN             NaN   \n",
       "31   31.0                  NaN                 NaN             NaN   \n",
       "32   32.0                  NaN                 NaN             NaN   \n",
       "33   33.0                  NaN                 NaN             NaN   \n",
       "\n",
       "    recall_rate  f_measure                      primary_type  \n",
       "0      0.866029   0.836028                             THEFT  \n",
       "2      0.913907   0.816568                         NARCOTICS  \n",
       "7      0.272727   0.369231               MOTOR VEHICLE THEFT  \n",
       "13     0.375000   0.428571            PUBLIC PEACE VIOLATION  \n",
       "12     0.071429   0.125000        OFFENSE INVOLVING CHILDREN  \n",
       "3      0.694444   0.568182                   CRIMINAL DAMAGE  \n",
       "10     0.344828   0.400000                 CRIMINAL TRESPASS  \n",
       "1      0.396450   0.432258                           BATTERY  \n",
       "8      0.365854   0.361446                           ROBBERY  \n",
       "11     0.352941   0.333333                 WEAPONS VIOLATION  \n",
       "5      0.315068   0.312925                           ASSAULT  \n",
       "6      0.423077   0.357724                DECEPTIVE PRACTICE  \n",
       "4      0.153846   0.204082                     OTHER OFFENSE  \n",
       "9      0.290323   0.260870                          BURGLARY  \n",
       "14     0.000000   0.000000               CRIM SEXUAL ASSAULT  \n",
       "15     0.000000   0.000000                      PROSTITUTION  \n",
       "16     0.000000   0.000000                          HOMICIDE  \n",
       "17     0.000000   0.000000  INTERFERENCE WITH PUBLIC OFFICER  \n",
       "18     0.000000   0.000000                       SEX OFFENSE  \n",
       "19     0.000000   0.000000                        KIDNAPPING  \n",
       "20     0.000000   0.000000                             ARSON  \n",
       "21     0.000000   0.000000                               NaN  \n",
       "22          NaN        NaN                               NaN  \n",
       "23          NaN        NaN                          STALKING  \n",
       "24          NaN        NaN                               NaN  \n",
       "25          NaN        NaN                               NaN  \n",
       "26          NaN        NaN                               NaN  \n",
       "27          NaN        NaN                               NaN  \n",
       "28          NaN        NaN                               NaN  \n",
       "29          NaN        NaN                               NaN  \n",
       "30          NaN        NaN                               NaN  \n",
       "31          NaN        NaN                               NaN  \n",
       "32          NaN        NaN                               NaN  \n",
       "33          NaN        NaN                               NaN  "
      ]
     },
     "execution_count": 281,
     "metadata": {},
     "output_type": "execute_result"
    }
   ],
   "source": [
    "rates_pddf"
   ]
  },
  {
   "cell_type": "markdown",
   "metadata": {},
   "source": [
    "## TODO:\n",
    "\n",
    " * Run the model on the test dataset"
   ]
  },
  {
   "cell_type": "code",
   "execution_count": null,
   "metadata": {},
   "outputs": [],
   "source": []
  }
 ],
 "metadata": {
  "kernelspec": {
   "display_name": "Python 3",
   "language": "python",
   "name": "python3"
  },
  "language_info": {
   "codemirror_mode": {
    "name": "ipython",
    "version": 3
   },
   "file_extension": ".py",
   "mimetype": "text/x-python",
   "name": "python",
   "nbconvert_exporter": "python",
   "pygments_lexer": "ipython3",
   "version": "3.7.6"
  }
 },
 "nbformat": 4,
 "nbformat_minor": 2
}
